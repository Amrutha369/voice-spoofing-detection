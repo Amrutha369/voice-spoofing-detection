{
  "nbformat": 4,
  "nbformat_minor": 0,
  "metadata": {
    "colab": {
      "provenance": [],
      "gpuType": "T4",
      "mount_file_id": "1Tq-JqUz9ltmI2f_TC9M0p-fVHPVaEMYC",
      "authorship_tag": "ABX9TyMfgYs4bi7B1Vn2Va5zCcbs",
      "include_colab_link": true
    },
    "kernelspec": {
      "name": "python3",
      "display_name": "Python 3"
    },
    "language_info": {
      "name": "python"
    },
    "accelerator": "GPU",
    "widgets": {
      "application/vnd.jupyter.widget-state+json": {
        "389afa4dc2854c878120dfd31c88df34": {
          "model_module": "@jupyter-widgets/controls",
          "model_name": "VBoxModel",
          "model_module_version": "1.5.0",
          "state": {
            "_dom_classes": [],
            "_model_module": "@jupyter-widgets/controls",
            "_model_module_version": "1.5.0",
            "_model_name": "VBoxModel",
            "_view_count": null,
            "_view_module": "@jupyter-widgets/controls",
            "_view_module_version": "1.5.0",
            "_view_name": "VBoxView",
            "box_style": "",
            "children": [
              "IPY_MODEL_a3b290be85a4411fbf59af7b79a95593",
              "IPY_MODEL_f896502a0d994fa29867267a4aee9fb7"
            ],
            "layout": "IPY_MODEL_0d0d1319ad6f45dda5e5662d2e966892"
          }
        },
        "a3b290be85a4411fbf59af7b79a95593": {
          "model_module": "@jupyter-widgets/controls",
          "model_name": "HTMLModel",
          "model_module_version": "1.5.0",
          "state": {
            "_dom_classes": [],
            "_model_module": "@jupyter-widgets/controls",
            "_model_module_version": "1.5.0",
            "_model_name": "HTMLModel",
            "_view_count": null,
            "_view_module": "@jupyter-widgets/controls",
            "_view_module_version": "1.5.0",
            "_view_name": "HTMLView",
            "description": "",
            "description_tooltip": null,
            "layout": "IPY_MODEL_7704b15d64d84728ab5b6366727cf025",
            "placeholder": "​",
            "style": "IPY_MODEL_dc90ad2588064c0ba45ab0046675e8c0",
            "value": "<h3>Upload an Audio File:</h3>"
          }
        },
        "f896502a0d994fa29867267a4aee9fb7": {
          "model_module": "@jupyter-widgets/controls",
          "model_name": "FileUploadModel",
          "model_module_version": "1.5.0",
          "state": {
            "_counter": 0,
            "_dom_classes": [],
            "_model_module": "@jupyter-widgets/controls",
            "_model_module_version": "1.5.0",
            "_model_name": "FileUploadModel",
            "_view_count": null,
            "_view_module": "@jupyter-widgets/controls",
            "_view_module_version": "1.5.0",
            "_view_name": "FileUploadView",
            "accept": ".wav,.flac",
            "button_style": "",
            "data": [],
            "description": "Upload",
            "description_tooltip": null,
            "disabled": false,
            "error": "",
            "icon": "upload",
            "layout": "IPY_MODEL_1c68be31e96d4ba1a9b8aba3a1b2a765",
            "metadata": [],
            "multiple": false,
            "style": "IPY_MODEL_cb0b2b214f2d4847ae68cd7a1eafbc57"
          }
        },
        "0d0d1319ad6f45dda5e5662d2e966892": {
          "model_module": "@jupyter-widgets/base",
          "model_name": "LayoutModel",
          "model_module_version": "1.2.0",
          "state": {
            "_model_module": "@jupyter-widgets/base",
            "_model_module_version": "1.2.0",
            "_model_name": "LayoutModel",
            "_view_count": null,
            "_view_module": "@jupyter-widgets/base",
            "_view_module_version": "1.2.0",
            "_view_name": "LayoutView",
            "align_content": null,
            "align_items": null,
            "align_self": null,
            "border": null,
            "bottom": null,
            "display": null,
            "flex": null,
            "flex_flow": null,
            "grid_area": null,
            "grid_auto_columns": null,
            "grid_auto_flow": null,
            "grid_auto_rows": null,
            "grid_column": null,
            "grid_gap": null,
            "grid_row": null,
            "grid_template_areas": null,
            "grid_template_columns": null,
            "grid_template_rows": null,
            "height": null,
            "justify_content": null,
            "justify_items": null,
            "left": null,
            "margin": null,
            "max_height": null,
            "max_width": null,
            "min_height": null,
            "min_width": null,
            "object_fit": null,
            "object_position": null,
            "order": null,
            "overflow": null,
            "overflow_x": null,
            "overflow_y": null,
            "padding": null,
            "right": null,
            "top": null,
            "visibility": null,
            "width": null
          }
        },
        "7704b15d64d84728ab5b6366727cf025": {
          "model_module": "@jupyter-widgets/base",
          "model_name": "LayoutModel",
          "model_module_version": "1.2.0",
          "state": {
            "_model_module": "@jupyter-widgets/base",
            "_model_module_version": "1.2.0",
            "_model_name": "LayoutModel",
            "_view_count": null,
            "_view_module": "@jupyter-widgets/base",
            "_view_module_version": "1.2.0",
            "_view_name": "LayoutView",
            "align_content": null,
            "align_items": null,
            "align_self": null,
            "border": null,
            "bottom": null,
            "display": null,
            "flex": null,
            "flex_flow": null,
            "grid_area": null,
            "grid_auto_columns": null,
            "grid_auto_flow": null,
            "grid_auto_rows": null,
            "grid_column": null,
            "grid_gap": null,
            "grid_row": null,
            "grid_template_areas": null,
            "grid_template_columns": null,
            "grid_template_rows": null,
            "height": null,
            "justify_content": null,
            "justify_items": null,
            "left": null,
            "margin": null,
            "max_height": null,
            "max_width": null,
            "min_height": null,
            "min_width": null,
            "object_fit": null,
            "object_position": null,
            "order": null,
            "overflow": null,
            "overflow_x": null,
            "overflow_y": null,
            "padding": null,
            "right": null,
            "top": null,
            "visibility": null,
            "width": null
          }
        },
        "dc90ad2588064c0ba45ab0046675e8c0": {
          "model_module": "@jupyter-widgets/controls",
          "model_name": "DescriptionStyleModel",
          "model_module_version": "1.5.0",
          "state": {
            "_model_module": "@jupyter-widgets/controls",
            "_model_module_version": "1.5.0",
            "_model_name": "DescriptionStyleModel",
            "_view_count": null,
            "_view_module": "@jupyter-widgets/base",
            "_view_module_version": "1.2.0",
            "_view_name": "StyleView",
            "description_width": ""
          }
        },
        "1c68be31e96d4ba1a9b8aba3a1b2a765": {
          "model_module": "@jupyter-widgets/base",
          "model_name": "LayoutModel",
          "model_module_version": "1.2.0",
          "state": {
            "_model_module": "@jupyter-widgets/base",
            "_model_module_version": "1.2.0",
            "_model_name": "LayoutModel",
            "_view_count": null,
            "_view_module": "@jupyter-widgets/base",
            "_view_module_version": "1.2.0",
            "_view_name": "LayoutView",
            "align_content": null,
            "align_items": null,
            "align_self": null,
            "border": null,
            "bottom": null,
            "display": null,
            "flex": null,
            "flex_flow": null,
            "grid_area": null,
            "grid_auto_columns": null,
            "grid_auto_flow": null,
            "grid_auto_rows": null,
            "grid_column": null,
            "grid_gap": null,
            "grid_row": null,
            "grid_template_areas": null,
            "grid_template_columns": null,
            "grid_template_rows": null,
            "height": null,
            "justify_content": null,
            "justify_items": null,
            "left": null,
            "margin": null,
            "max_height": null,
            "max_width": null,
            "min_height": null,
            "min_width": null,
            "object_fit": null,
            "object_position": null,
            "order": null,
            "overflow": null,
            "overflow_x": null,
            "overflow_y": null,
            "padding": null,
            "right": null,
            "top": null,
            "visibility": null,
            "width": null
          }
        },
        "cb0b2b214f2d4847ae68cd7a1eafbc57": {
          "model_module": "@jupyter-widgets/controls",
          "model_name": "ButtonStyleModel",
          "model_module_version": "1.5.0",
          "state": {
            "_model_module": "@jupyter-widgets/controls",
            "_model_module_version": "1.5.0",
            "_model_name": "ButtonStyleModel",
            "_view_count": null,
            "_view_module": "@jupyter-widgets/base",
            "_view_module_version": "1.2.0",
            "_view_name": "StyleView",
            "button_color": null,
            "font_weight": ""
          }
        }
      }
    }
  },
  "cells": [
    {
      "cell_type": "markdown",
      "metadata": {
        "id": "view-in-github",
        "colab_type": "text"
      },
      "source": [
        "<a href=\"https://colab.research.google.com/github/Amrutha369/voice-spoofing-detection/blob/main/voice_spoofing_detection_Multiclass.ipynb\" target=\"_parent\"><img src=\"https://colab.research.google.com/assets/colab-badge.svg\" alt=\"Open In Colab\"/></a>"
      ]
    },
    {
      "cell_type": "markdown",
      "source": [
        "# Preprocessing\n"
      ],
      "metadata": {
        "id": "VGjYXVLtQXtH"
      }
    },
    {
      "cell_type": "code",
      "execution_count": 3,
      "metadata": {
        "colab": {
          "base_uri": "https://localhost:8080/"
        },
        "id": "U5cdvShFrPHW",
        "outputId": "a9d32ced-f0cc-4a83-ab6f-7d618e5857d8"
      },
      "outputs": [
        {
          "output_type": "stream",
          "name": "stdout",
          "text": [
            "Requirement already satisfied: scikeras in /usr/local/lib/python3.10/dist-packages (0.13.0)\n",
            "Requirement already satisfied: keras>=3.2.0 in /usr/local/lib/python3.10/dist-packages (from scikeras) (3.2.1)\n",
            "Requirement already satisfied: scikit-learn>=1.4.2 in /usr/local/lib/python3.10/dist-packages (from scikeras) (1.4.2)\n",
            "Requirement already satisfied: absl-py in /usr/local/lib/python3.10/dist-packages (from keras>=3.2.0->scikeras) (1.4.0)\n",
            "Requirement already satisfied: numpy in /usr/local/lib/python3.10/dist-packages (from keras>=3.2.0->scikeras) (1.25.2)\n",
            "Requirement already satisfied: rich in /usr/local/lib/python3.10/dist-packages (from keras>=3.2.0->scikeras) (13.7.1)\n",
            "Requirement already satisfied: namex in /usr/local/lib/python3.10/dist-packages (from keras>=3.2.0->scikeras) (0.0.8)\n",
            "Requirement already satisfied: h5py in /usr/local/lib/python3.10/dist-packages (from keras>=3.2.0->scikeras) (3.9.0)\n",
            "Requirement already satisfied: optree in /usr/local/lib/python3.10/dist-packages (from keras>=3.2.0->scikeras) (0.11.0)\n",
            "Requirement already satisfied: ml-dtypes in /usr/local/lib/python3.10/dist-packages (from keras>=3.2.0->scikeras) (0.2.0)\n",
            "Requirement already satisfied: scipy>=1.6.0 in /usr/local/lib/python3.10/dist-packages (from scikit-learn>=1.4.2->scikeras) (1.11.4)\n",
            "Requirement already satisfied: joblib>=1.2.0 in /usr/local/lib/python3.10/dist-packages (from scikit-learn>=1.4.2->scikeras) (1.4.0)\n",
            "Requirement already satisfied: threadpoolctl>=2.0.0 in /usr/local/lib/python3.10/dist-packages (from scikit-learn>=1.4.2->scikeras) (3.4.0)\n",
            "Requirement already satisfied: typing-extensions>=4.0.0 in /usr/local/lib/python3.10/dist-packages (from optree->keras>=3.2.0->scikeras) (4.11.0)\n",
            "Requirement already satisfied: markdown-it-py>=2.2.0 in /usr/local/lib/python3.10/dist-packages (from rich->keras>=3.2.0->scikeras) (3.0.0)\n",
            "Requirement already satisfied: pygments<3.0.0,>=2.13.0 in /usr/local/lib/python3.10/dist-packages (from rich->keras>=3.2.0->scikeras) (2.16.1)\n",
            "Requirement already satisfied: mdurl~=0.1 in /usr/local/lib/python3.10/dist-packages (from markdown-it-py>=2.2.0->rich->keras>=3.2.0->scikeras) (0.1.2)\n"
          ]
        }
      ],
      "source": [
        "!pip install scikeras"
      ]
    },
    {
      "cell_type": "code",
      "source": [
        "\n",
        "!pip install tensorflow-io\n",
        "import os\n",
        "import pandas as pd # data manipulation and analysis\n",
        "import matplotlib.pyplot as plt #plotting library\n",
        "import numpy as np #numerical computing\n",
        "import tensorflow as tf\n",
        "import seaborn as sns # statistical data visualization\n",
        "from IPython.display import Audio\n",
        "from tensorflow.keras.models import Sequential\n",
        "from tensorflow.keras.layers import Conv2D, MaxPooling2D, Flatten, Dense, Dropout, BatchNormalization\n",
        "from sklearn.metrics import classification_report\n",
        "from sklearn.metrics import accuracy_score\n",
        "from sklearn.metrics import confusion_matrix, accuracy_score, precision_score, recall_score, f1_score"
      ],
      "metadata": {
        "colab": {
          "base_uri": "https://localhost:8080/"
        },
        "id": "FV9lHZv1rZIt",
        "outputId": "e245f9c5-bf20-4bcc-d3e8-9366431441dd"
      },
      "execution_count": 4,
      "outputs": [
        {
          "output_type": "stream",
          "name": "stdout",
          "text": [
            "Requirement already satisfied: tensorflow-io in /usr/local/lib/python3.10/dist-packages (0.36.0)\n",
            "Requirement already satisfied: tensorflow-io-gcs-filesystem==0.36.0 in /usr/local/lib/python3.10/dist-packages (from tensorflow-io) (0.36.0)\n"
          ]
        }
      ]
    },
    {
      "cell_type": "code",
      "source": [
        "# Audio params\n",
        "SAMPLE_RATE = 16000\n",
        "\n",
        "# Spectrogram params\n",
        "N_MELS = 128 # freq axis\n",
        "SPEC_WIDTH = 256 #\n",
        "\n",
        "\n",
        "# CNN params\n",
        "NUM_CLASSES = 4 # real,synthesised, converted, replay\n"
      ],
      "metadata": {
        "id": "jRDGm7HMrZWu"
      },
      "execution_count": 5,
      "outputs": []
    },
    {
      "cell_type": "code",
      "source": [
        "from google.colab import drive\n",
        "drive.mount('/content/drive')\n"
      ],
      "metadata": {
        "colab": {
          "base_uri": "https://localhost:8080/"
        },
        "id": "0HfkewpCsnaj",
        "outputId": "f5b81275-c378-4d22-882c-2942c9bd77e3"
      },
      "execution_count": 6,
      "outputs": [
        {
          "output_type": "stream",
          "name": "stdout",
          "text": [
            "Drive already mounted at /content/drive; to attempt to forcibly remount, call drive.mount(\"/content/drive\", force_remount=True).\n"
          ]
        }
      ]
    },
    {
      "cell_type": "code",
      "source": [
        "# Directory and protocol definitions\n",
        "base_path = '/content/drive/MyDrive/dataset/LA'\n",
        "protocol_dir = os.path.join(base_path, 'ASVspoof2019_LA_cm_protocols')\n",
        "train_dir = os.path.join(base_path, 'ASVspoof2019_LA_train', 'flac')\n",
        "val_dir = os.path.join(base_path, 'ASVspoof2019_LA_dev', 'flac')\n",
        "test_dir = os.path.join(base_path, 'ASVspoof2019_LA_eval', 'flac')"
      ],
      "metadata": {
        "id": "aMyzkGSNsndF"
      },
      "execution_count": 7,
      "outputs": []
    },
    {
      "cell_type": "code",
      "source": [
        "# Function to form the full path of a file\n",
        "def get_file_path(directory, filename):\n",
        "    return os.path.join(directory, f'{filename}.flac')"
      ],
      "metadata": {
        "id": "ncAOykjrsngb"
      },
      "execution_count": 8,
      "outputs": []
    },
    {
      "cell_type": "code",
      "source": [
        "# Function to read the dataset\n",
        "def read_dataset(protocol_path, directory):\n",
        "    \"\"\"Reads the dataset from a protocol file and returns a DataFrame.\"\"\"\n",
        "    df = pd.read_csv(protocol_path, sep=' ', header=None, names=['speaker_id', 'filename', 'system_id', 'null', 'class_name'])\n",
        "    df['filepath'] = df['filename'].apply(lambda x: get_file_path(directory, x))\n",
        "    df.drop('null', axis=1, inplace=True)\n",
        "    df.dropna(inplace=True)\n",
        "    return df\n",
        "\n",
        "# Function to convert class_name to integer\n",
        "def label_to_int(class_name):\n",
        "    if class_name == 'real':\n",
        "        return 0\n",
        "    elif class_name == 'synthesised':\n",
        "        return 1\n",
        "    elif class_name == 'converted':\n",
        "        return 2\n",
        "    elif class_name == 'replay':\n",
        "        return 3\n",
        "    else:\n",
        "        return -1  # Handle unknown classes\n",
        "\n",
        "# Add target column and subset to DataFrame\n",
        "def add_columns(df, subset):\n",
        "    df['target'] = df['class_name'].apply(label_to_int)\n",
        "    df['subset'] = subset\n",
        "    return df\n",
        "\n",
        "# Take samples from each DataFrame\n",
        "def sample_data_multiclass(df, n_synthesised, n_real, n_converted, n_replay):\n",
        "    synthesised = df[df['class_name'] == 'synthesised'].head(n_synthesised)\n",
        "    real = df[df['class_name'] == 'real'].head(n_real)\n",
        "    converted = df[df['class_name'] == 'converted'].head(n_converted)\n",
        "    replay = df[df['class_name'] == 'replay'].head(n_replay)\n",
        "    return pd.concat([synthesised, real, converted, replay])\n",
        "\n",
        "# Directory and protocol definitions\n",
        "base_path = '/content/drive/MyDrive/dataset/LA'\n",
        "protocol_dir = os.path.join(base_path, 'ASVspoof2019_LA_cm_protocols')\n",
        "train_dir = os.path.join(base_path, 'ASVspoof2019_LA_train', 'flac')\n",
        "val_dir = os.path.join(base_path, 'ASVspoof2019_LA_dev', 'flac')\n",
        "test_dir = os.path.join(base_path, 'ASVspoof2019_LA_eval', 'flac')\n",
        "\n",
        "# Create DataFrames for each dataset\n",
        "train_df = read_dataset(os.path.join(protocol_dir, 'ASVspoof2019.LA.cm.train.trn.txt'), train_dir)\n",
        "val_df = read_dataset(os.path.join(protocol_dir, 'ASVspoof2019.LA.cm.dev.trl.txt'), val_dir)\n",
        "test_df = read_dataset(os.path.join(protocol_dir, 'ASVspoof2019.LA.cm.eval.trl.txt'), test_dir)\n",
        "\n",
        "# Add columns to each DataFrame\n",
        "train_df = add_columns(train_df, 'train')\n",
        "val_df = add_columns(val_df, 'val')\n",
        "test_df = add_columns(test_df, 'test')\n",
        "\n",
        "# Take samples from each DataFrame by a different number\n",
        "train_df = sample_data_multiclass(train_df, 175, 175, 175,175)\n",
        "val_df = sample_data_multiclass(val_df, 37, 37, 37,37)\n",
        "test_df = sample_data_multiclass(test_df, 37, 37, 37,37)"
      ],
      "metadata": {
        "id": "BqBk4VejxZRn"
      },
      "execution_count": 9,
      "outputs": []
    },
    {
      "cell_type": "code",
      "source": [
        "#Combine three dataframes into one dataframe\n",
        "data_df = pd.concat([train_df, val_df, test_df], ignore_index=True)"
      ],
      "metadata": {
        "id": "P-B03xmtyEQP"
      },
      "execution_count": 10,
      "outputs": []
    },
    {
      "cell_type": "markdown",
      "source": [
        "# Feature extraction"
      ],
      "metadata": {
        "id": "mrFppsXRNhZw"
      }
    },
    {
      "cell_type": "code",
      "source": [
        "import librosa\n",
        "\n",
        "def audio_to_spectrogram(filepath):\n",
        "    # Load audio file using librosa\n",
        "    audio, sample_rate = librosa.load(filepath)\n",
        "\n",
        "    # Normalize the audio\n",
        "    audio_norm = (audio - np.min(audio)) / (np.max(audio) - np.min(audio))\n",
        "    # A spectrogram is a visual representation of the spectrum of frequencies of a signal as it varies with time.\n",
        "    # Compute the spectrogram using librosa\n",
        "    spectrogram = librosa.feature.melspectrogram(y=audio_norm, sr=sample_rate)\n",
        "\n",
        "    # Convert the spectrogram to decibels\n",
        "    spectrogram_db = librosa.power_to_db(spectrogram, ref=np.max)\n",
        "\n",
        "    # Add channel dimension\n",
        "    spectrogram_db = np.expand_dims(spectrogram_db, axis=-1)\n",
        "\n",
        "    # Resize spectrogram to the specified size\n",
        "    image = tf.image.resize(spectrogram_db, [SPEC_WIDTH, N_MELS])\n",
        "\n",
        "    return image\n",
        "\n",
        "# Adding the spectrogram column to the DataFrame\n",
        "data_df['spectrogram'] = data_df['filepath'].apply(audio_to_spectrogram)\n"
      ],
      "metadata": {
        "id": "aoOEEboxxZXB"
      },
      "execution_count": 11,
      "outputs": []
    },
    {
      "cell_type": "code",
      "source": [
        "# Splitting the data based on the 'subset' column\n",
        "train_data = data_df[data_df['subset'] == 'train']\n",
        "val_data = data_df[data_df['subset'] == 'val']\n",
        "test_data = data_df[data_df['subset'] == 'test']\n",
        "\n",
        "# Converting the list of spectrograms into NumPy arrays\n",
        "X_train = np.stack(train_data['spectrogram'].to_list())\n",
        "X_val = np.stack(val_data['spectrogram'].to_list())\n",
        "X_test = np.stack(test_data['spectrogram'].to_list())\n",
        "\n",
        "# Converting target into NumPy arrays\n",
        "y_train = train_data['target'].to_numpy()\n",
        "y_val = val_data['target'].to_numpy()\n",
        "y_test = test_data['target'].to_numpy()"
      ],
      "metadata": {
        "id": "gGCAy3O-xZZc"
      },
      "execution_count": 12,
      "outputs": []
    },
    {
      "cell_type": "markdown",
      "source": [
        "# CNN Model (Multiclass)"
      ],
      "metadata": {
        "id": "T2ejNLzSN7ol"
      }
    },
    {
      "cell_type": "code",
      "source": [
        "from tensorflow.keras.optimizers import Adam\n",
        "\n",
        "def cnn_model(input_shape, num_classes):\n",
        "    model = Sequential()\n",
        "    # 1st conv layer\n",
        "    model.add(Conv2D(32, (3, 3), activation='relu', input_shape=input_shape))\n",
        "    model.add(MaxPooling2D((3, 3), strides=(2, 2), padding='same'))\n",
        "    model.add(BatchNormalization())\n",
        "    # 2nd conv layer\n",
        "    model.add(Conv2D(32, (3, 3), activation='relu'))\n",
        "    model.add(MaxPooling2D((3, 3), strides=(2, 2), padding='same'))\n",
        "    model.add(BatchNormalization())\n",
        "    # 3rd conv layer\n",
        "    model.add(Conv2D(32, (2, 2), activation='relu'))\n",
        "    model.add(MaxPooling2D((2, 2), strides=(2, 2), padding='same'))\n",
        "    model.add(BatchNormalization())\n",
        "    # 4th conv layer\n",
        "    model.add(Conv2D(64, (2, 2), activation='relu'))\n",
        "    model.add(MaxPooling2D((2, 2), strides=(2, 2), padding='same'))\n",
        "    model.add(BatchNormalization())\n",
        "    model.add(Flatten())\n",
        "    model.add(Dense(64, activation='relu'))\n",
        "    model.add(Dropout(0.3))\n",
        "    # Additional dense layer\n",
        "    model.add(Dense(32, activation='relu'))\n",
        "    model.add(Dropout(0.3))\n",
        "    # Output layer for multiclass classification\n",
        "    model.add(Dense(num_classes, activation='softmax'))\n",
        "    # Compile the model with Adam optimizer\n",
        "    optimizer = Adam(learning_rate=0.0001)\n",
        "    model.compile(loss='categorical_crossentropy', optimizer=optimizer, metrics=['accuracy'])\n",
        "    return model\n",
        "\n",
        "# Convert target labels to one-hot encoding for multiclass classification\n",
        "from tensorflow.keras.utils import to_categorical\n",
        "# Convert target labels to one-hot encoding\n",
        "y_train_categorical = to_categorical(y_train, num_classes=NUM_CLASSES)\n",
        "y_val_categorical = to_categorical(y_val, num_classes=NUM_CLASSES)\n",
        "y_test_categorical = to_categorical(y_test, num_classes=NUM_CLASSES)\n",
        "\n",
        "\n",
        "# Create the multiclass CNN model with Adam optimizer\n",
        "multiclass_cnn_model =cnn_model((X_train.shape[1], X_train.shape[2], 1), NUM_CLASSES)\n",
        "\n",
        "\n"
      ],
      "metadata": {
        "id": "di09nrZQxZez",
        "colab": {
          "base_uri": "https://localhost:8080/"
        },
        "outputId": "c62bc45f-eb36-4da4-a337-1a2e8b30ffce"
      },
      "execution_count": 13,
      "outputs": [
        {
          "output_type": "stream",
          "name": "stderr",
          "text": [
            "/usr/local/lib/python3.10/dist-packages/keras/src/layers/convolutional/base_conv.py:99: UserWarning: Do not pass an `input_shape`/`input_dim` argument to a layer. When using Sequential models, prefer using an `Input(shape)` object as the first layer in the model instead.\n",
            "  super().__init__(\n"
          ]
        }
      ]
    },
    {
      "cell_type": "code",
      "source": [
        "# Train the multiclass CNN model\n",
        "multiclass_cnn_model.fit(X_train, y_train_categorical, epochs=50, batch_size=16)\n"
      ],
      "metadata": {
        "colab": {
          "base_uri": "https://localhost:8080/"
        },
        "id": "Ljpi6912ucw1",
        "outputId": "c2748d04-0a25-47c6-c2e6-a269edf1a68f"
      },
      "execution_count": null,
      "outputs": [
        {
          "output_type": "stream",
          "name": "stdout",
          "text": [
            "Epoch 1/50\n",
            "44/44 [==============================] - 4s 15ms/step - loss: 1.3828 - accuracy: 0.4286\n",
            "Epoch 2/50\n",
            "44/44 [==============================] - 1s 13ms/step - loss: 0.9373 - accuracy: 0.6057\n",
            "Epoch 3/50\n",
            "44/44 [==============================] - 1s 13ms/step - loss: 0.7780 - accuracy: 0.6771\n",
            "Epoch 4/50\n",
            "44/44 [==============================] - 1s 14ms/step - loss: 0.6720 - accuracy: 0.7371\n",
            "Epoch 5/50\n",
            "44/44 [==============================] - 1s 13ms/step - loss: 0.6066 - accuracy: 0.7429\n",
            "Epoch 6/50\n",
            "44/44 [==============================] - 1s 15ms/step - loss: 0.5517 - accuracy: 0.7686\n",
            "Epoch 7/50\n",
            "44/44 [==============================] - 1s 15ms/step - loss: 0.4423 - accuracy: 0.8257\n",
            "Epoch 8/50\n",
            "44/44 [==============================] - 1s 14ms/step - loss: 0.3558 - accuracy: 0.8643\n",
            "Epoch 9/50\n",
            "44/44 [==============================] - 1s 15ms/step - loss: 0.3476 - accuracy: 0.8629\n",
            "Epoch 10/50\n",
            "44/44 [==============================] - 1s 14ms/step - loss: 0.2691 - accuracy: 0.8957\n",
            "Epoch 11/50\n",
            "44/44 [==============================] - 1s 13ms/step - loss: 0.2246 - accuracy: 0.9314\n",
            "Epoch 12/50\n",
            "44/44 [==============================] - 1s 13ms/step - loss: 0.1960 - accuracy: 0.9329\n",
            "Epoch 13/50\n",
            "44/44 [==============================] - 1s 13ms/step - loss: 0.1854 - accuracy: 0.9343\n",
            "Epoch 14/50\n",
            "44/44 [==============================] - 1s 13ms/step - loss: 0.2085 - accuracy: 0.9257\n",
            "Epoch 15/50\n",
            "44/44 [==============================] - 1s 13ms/step - loss: 0.1877 - accuracy: 0.9371\n",
            "Epoch 16/50\n",
            "44/44 [==============================] - 1s 13ms/step - loss: 0.1560 - accuracy: 0.9500\n",
            "Epoch 17/50\n",
            "44/44 [==============================] - 1s 16ms/step - loss: 0.1295 - accuracy: 0.9557\n",
            "Epoch 18/50\n",
            "44/44 [==============================] - 1s 17ms/step - loss: 0.1212 - accuracy: 0.9671\n",
            "Epoch 19/50\n",
            "44/44 [==============================] - 1s 22ms/step - loss: 0.1071 - accuracy: 0.9729\n",
            "Epoch 20/50\n",
            "44/44 [==============================] - 1s 20ms/step - loss: 0.1100 - accuracy: 0.9629\n",
            "Epoch 21/50\n",
            "44/44 [==============================] - 1s 14ms/step - loss: 0.0912 - accuracy: 0.9700\n",
            "Epoch 22/50\n",
            "44/44 [==============================] - 1s 14ms/step - loss: 0.1076 - accuracy: 0.9643\n",
            "Epoch 23/50\n",
            "44/44 [==============================] - 1s 13ms/step - loss: 0.0841 - accuracy: 0.9757\n",
            "Epoch 24/50\n",
            "44/44 [==============================] - 1s 13ms/step - loss: 0.1111 - accuracy: 0.9629\n",
            "Epoch 25/50\n",
            "44/44 [==============================] - 1s 14ms/step - loss: 0.0735 - accuracy: 0.9800\n",
            "Epoch 26/50\n",
            "44/44 [==============================] - 1s 15ms/step - loss: 0.0510 - accuracy: 0.9871\n",
            "Epoch 27/50\n",
            "44/44 [==============================] - 1s 15ms/step - loss: 0.0682 - accuracy: 0.9814\n",
            "Epoch 28/50\n",
            "44/44 [==============================] - 1s 15ms/step - loss: 0.0609 - accuracy: 0.9800\n",
            "Epoch 29/50\n",
            "44/44 [==============================] - 1s 15ms/step - loss: 0.0742 - accuracy: 0.9757\n",
            "Epoch 30/50\n",
            "44/44 [==============================] - 1s 13ms/step - loss: 0.0692 - accuracy: 0.9786\n",
            "Epoch 31/50\n",
            "44/44 [==============================] - 1s 14ms/step - loss: 0.0385 - accuracy: 0.9900\n",
            "Epoch 32/50\n",
            "44/44 [==============================] - 1s 13ms/step - loss: 0.0464 - accuracy: 0.9857\n",
            "Epoch 33/50\n",
            "44/44 [==============================] - 1s 13ms/step - loss: 0.0439 - accuracy: 0.9871\n",
            "Epoch 34/50\n",
            "44/44 [==============================] - 1s 14ms/step - loss: 0.0390 - accuracy: 0.9886\n",
            "Epoch 35/50\n",
            "44/44 [==============================] - 1s 13ms/step - loss: 0.0477 - accuracy: 0.9757\n",
            "Epoch 36/50\n",
            "44/44 [==============================] - 1s 13ms/step - loss: 0.0415 - accuracy: 0.9843\n",
            "Epoch 37/50\n",
            "44/44 [==============================] - 1s 13ms/step - loss: 0.0348 - accuracy: 0.9857\n",
            "Epoch 38/50\n",
            "44/44 [==============================] - 1s 14ms/step - loss: 0.0582 - accuracy: 0.9843\n",
            "Epoch 39/50\n",
            "44/44 [==============================] - 1s 13ms/step - loss: 0.0292 - accuracy: 0.9886\n",
            "Epoch 40/50\n",
            "44/44 [==============================] - 1s 14ms/step - loss: 0.0308 - accuracy: 0.9929\n",
            "Epoch 41/50\n",
            "44/44 [==============================] - 1s 13ms/step - loss: 0.0359 - accuracy: 0.9886\n",
            "Epoch 42/50\n",
            "44/44 [==============================] - 1s 13ms/step - loss: 0.0251 - accuracy: 0.9929\n",
            "Epoch 43/50\n",
            "44/44 [==============================] - 1s 13ms/step - loss: 0.0281 - accuracy: 0.9914\n",
            "Epoch 44/50\n",
            "44/44 [==============================] - 1s 14ms/step - loss: 0.0310 - accuracy: 0.9871\n",
            "Epoch 45/50\n",
            "44/44 [==============================] - 1s 14ms/step - loss: 0.0278 - accuracy: 0.9914\n",
            "Epoch 46/50\n",
            "44/44 [==============================] - 1s 14ms/step - loss: 0.0158 - accuracy: 1.0000\n",
            "Epoch 47/50\n",
            "44/44 [==============================] - 1s 15ms/step - loss: 0.0269 - accuracy: 0.9900\n",
            "Epoch 48/50\n",
            "44/44 [==============================] - 1s 15ms/step - loss: 0.0178 - accuracy: 0.9929\n",
            "Epoch 49/50\n",
            "44/44 [==============================] - 1s 15ms/step - loss: 0.0311 - accuracy: 0.9871\n",
            "Epoch 50/50\n",
            "44/44 [==============================] - 1s 15ms/step - loss: 0.0289 - accuracy: 0.9886\n"
          ]
        },
        {
          "output_type": "execute_result",
          "data": {
            "text/plain": [
              "<keras.src.callbacks.History at 0x78d9958a8760>"
            ]
          },
          "metadata": {},
          "execution_count": 85
        }
      ]
    },
    {
      "cell_type": "code",
      "source": [
        "# Compute accuracy on training data\n",
        "train_accuracy = multiclass_cnn_model.evaluate(X_train, y_train_categorical)[1]\n",
        "print(f\"Accuracy on training data: {train_accuracy * 100:.2f}%\")\n",
        "\n",
        "# Compute accuracy on validation data\n",
        "val_accuracy = multiclass_cnn_model.evaluate(X_val, y_val_categorical)[1]\n",
        "print(f'Accuracy on validation data: {val_accuracy * 100:.2f}%')\n",
        "\n",
        "# Compute accuracy on test data\n",
        "test_accuracy = multiclass_cnn_model.evaluate(X_test, y_test_categorical)[1]\n",
        "print(f'Accuracy on test data: {test_accuracy * 100:.2f}%')\n"
      ],
      "metadata": {
        "colab": {
          "base_uri": "https://localhost:8080/"
        },
        "id": "Yne3llYjr8-2",
        "outputId": "abc4a221-dd5b-490b-ae9e-7028cfadba96"
      },
      "execution_count": null,
      "outputs": [
        {
          "output_type": "stream",
          "name": "stdout",
          "text": [
            "22/22 [==============================] - 0s 10ms/step - loss: 1.6016e-04 - accuracy: 1.0000\n",
            "Accuracy on training data: 100.00%\n",
            "5/5 [==============================] - 0s 10ms/step - loss: 0.1976 - accuracy: 0.9527\n",
            "Accuracy on validation data: 95.27%\n",
            "5/5 [==============================] - 0s 8ms/step - loss: 0.0508 - accuracy: 0.9932\n",
            "Accuracy on test data: 99.32%\n"
          ]
        }
      ]
    },
    {
      "cell_type": "code",
      "source": [
        "from sklearn.metrics import classification_report, precision_recall_fscore_support\n",
        "import numpy as np\n",
        "\n",
        "\n",
        "# Predict probabilities on the test set for multiclass classification\n",
        "y_pred_prob_multiclass = multiclass_cnn_model.predict(X_test)\n",
        "y_pred_classes_multiclass = np.argmax(y_pred_prob_multiclass, axis=1)\n",
        "\n",
        "# Convert one-hot encoded test labels back to integer format for multiclass classification\n",
        "y_test_int = np.argmax(y_test_categorical, axis=1)\n",
        "\n",
        "\n",
        "# Generate classification report for multiclass classification\n",
        "report_multiclass = classification_report(y_test_int, y_pred_classes_multiclass, target_names=class_labels)\n",
        "print(\"\\nMulticlass Classification Report:\")\n",
        "print(report_multiclass)\n"
      ],
      "metadata": {
        "id": "A86euOE32nKp",
        "outputId": "ed089cb5-d1bd-47a9-b9f0-785de1c1495a",
        "colab": {
          "base_uri": "https://localhost:8080/"
        }
      },
      "execution_count": null,
      "outputs": [
        {
          "output_type": "stream",
          "name": "stdout",
          "text": [
            "5/5 [==============================] - 3s 542ms/step\n",
            "\n",
            "Multiclass Classification Report:\n",
            "              precision    recall  f1-score   support\n",
            "\n",
            "        real       1.00      0.97      0.99        37\n",
            " synthesised       1.00      1.00      1.00        37\n",
            "   converted       0.97      1.00      0.99        37\n",
            "      replay       1.00      1.00      1.00        37\n",
            "\n",
            "    accuracy                           0.99       148\n",
            "   macro avg       0.99      0.99      0.99       148\n",
            "weighted avg       0.99      0.99      0.99       148\n",
            "\n"
          ]
        }
      ]
    },
    {
      "cell_type": "code",
      "source": [
        "# Save the model\n",
        "multiclass_cnn_model.save('/content/drive/MyDrive/save/voice-spoofing-detection-using-cnn-Multiclass.h5')"
      ],
      "metadata": {
        "colab": {
          "base_uri": "https://localhost:8080/"
        },
        "id": "NElZsXY5kekj",
        "outputId": "6c2e62d0-c1d6-416e-8a8b-ce04d70c1680"
      },
      "execution_count": null,
      "outputs": [
        {
          "output_type": "stream",
          "name": "stderr",
          "text": [
            "/usr/local/lib/python3.10/dist-packages/keras/src/engine/training.py:3103: UserWarning: You are saving your model as an HDF5 file via `model.save()`. This file format is considered legacy. We recommend using instead the native Keras format, e.g. `model.save('my_model.keras')`.\n",
            "  saving_api.save_model(\n"
          ]
        }
      ]
    },
    {
      "cell_type": "code",
      "source": [
        "import os\n",
        "from tensorflow.keras.models import load_model\n",
        "\n",
        "sample_audio_file_path = \"/content/drive/MyDrive/dataset/LA/ASVspoof2019_LA_eval/flac/LA_T_7686633.flac\"\n",
        "\n",
        "model_path = \"/content/drive/MyDrive/save/voice-spoofing-detection-using-cnn-Multiclass.h5\"\n",
        "multiclass_cnn_model = load_model(model_path)\n",
        "# Creating spectrogram for the sample audio file\n",
        "sample_audio_spectrogram = audio_to_spectrogram(sample_audio_file_path)\n",
        "X_new = np.expand_dims(sample_audio_spectrogram, axis=0)\n",
        "\n",
        "# Performing prediction\n",
        "y_pred = multiclass_cnn_model.predict(X_new)\n",
        "\n",
        "# Convert probabilities to classes by selecting the class with the highest probability\n",
        "y_pred_classes = np.argmax(y_pred, axis=1)\n",
        "\n",
        "# Map predicted classes to labels\n",
        "class_labels = ['real', 'synthesised', 'converted','replay']  # Update with your actual class labels\n",
        "y_pred_labels = [class_labels[pred] for pred in y_pred_classes]\n",
        "print(\"Predicted class:\", y_pred_labels[0])"
      ],
      "metadata": {
        "id": "EnhgVQbMxZhR",
        "colab": {
          "base_uri": "https://localhost:8080/"
        },
        "outputId": "529d5c8a-baf7-41d6-eb65-205733d78948"
      },
      "execution_count": 14,
      "outputs": [
        {
          "output_type": "stream",
          "name": "stderr",
          "text": [
            "WARNING:absl:Compiled the loaded model, but the compiled metrics have yet to be built. `model.compile_metrics` will be empty until you train or evaluate the model.\n",
            "WARNING:absl:Error in loading the saved optimizer state. As a result, your model is starting with a freshly initialized optimizer.\n"
          ]
        },
        {
          "output_type": "stream",
          "name": "stdout",
          "text": [
            "\u001b[1m1/1\u001b[0m \u001b[32m━━━━━━━━━━━━━━━━━━━━\u001b[0m\u001b[37m\u001b[0m \u001b[1m1s\u001b[0m 1s/step\n",
            "Predicted class: real\n"
          ]
        }
      ]
    },
    {
      "cell_type": "code",
      "source": [
        "from sklearn.metrics import confusion_matrix\n",
        "import seaborn as sns\n",
        "import matplotlib.pyplot as plt\n",
        "\n",
        "# Assuming you have X_eval and y_eval datasets for testing\n",
        "\n",
        "# Perform predictions on the evaluation set\n",
        "y_test_pred = multiclass_cnn_model.predict(X_test)\n",
        "y_test_pred_classes = np.argmax(y_test_pred, axis=1)\n",
        "\n",
        "# Calculate confusion matrix\n",
        "cm = confusion_matrix(y_test, y_test_pred_classes)\n",
        "\n",
        "# Create a heatmap plot\n",
        "plt.figure(figsize=(10, 7))\n",
        "sns.heatmap(cm, annot=True, fmt='d', xticklabels=class_labels, yticklabels=class_labels, cmap='Blues')\n",
        "plt.title('Confusion Matrix')\n",
        "plt.ylabel('Actual Class')\n",
        "plt.xlabel('Predicted Class')\n",
        "\n",
        "# Show the plot\n",
        "plt.show()\n"
      ],
      "metadata": {
        "colab": {
          "base_uri": "https://localhost:8080/",
          "height": 658
        },
        "id": "gzgMHXLmA1IY",
        "outputId": "c90863d0-6057-47b0-e722-a24a824c67ce"
      },
      "execution_count": null,
      "outputs": [
        {
          "output_type": "stream",
          "name": "stdout",
          "text": [
            "5/5 [==============================] - 4s 565ms/step\n"
          ]
        },
        {
          "output_type": "display_data",
          "data": {
            "text/plain": [
              "<Figure size 1000x700 with 2 Axes>"
            ],
            "image/png": "[encoded data removed]"
          },
          "metadata": {}
        }
      ]
    },
    {
      "cell_type": "markdown",
      "source": [
        "# LSTM Model"
      ],
      "metadata": {
        "id": "eXTIk5dYOKCv"
      }
    },
    {
      "cell_type": "code",
      "source": [
        "from tensorflow.keras.optimizers import Adam\n",
        "import numpy as np\n",
        "import pandas as pd\n",
        "import tensorflow as tf\n",
        "from tensorflow.keras.models import Sequential\n",
        "from tensorflow.keras.layers import LSTM, Dropout, Dense\n",
        "\n",
        "from sklearn.metrics import classification_report\n",
        "\n",
        "# architecture of the Sequential LSTM model\n",
        "model = Sequential([\n",
        "    LSTM(128, input_shape=(X_train.shape[1], X_train.shape[2]), return_sequences=True),\n",
        "    Dropout(0.2),\n",
        "    LSTM(128, return_sequences=True),\n",
        "    Dropout(0.2),\n",
        "    LSTM(128),\n",
        "    Dropout(0.2),\n",
        "    Dense(4, activation='softmax')  # Assuming 4 classes for multiclass classification\n",
        "])\n",
        "\n",
        "# Compile the model\n",
        "learning_rate = 0.0001  # Adjust the learning rate as needed\n",
        "\n",
        "# Compile the model with custom learning rate\n",
        "optimizer = Adam(learning_rate=learning_rate)\n",
        "model.compile(optimizer=optimizer, loss='sparse_categorical_crossentropy', metrics=['accuracy'])\n",
        "\n",
        "\n",
        "\n"
      ],
      "metadata": {
        "id": "xqBnjIYRxZlF",
        "colab": {
          "base_uri": "https://localhost:8080/"
        },
        "outputId": "f95a3ab2-bf02-4e0a-fbaa-1326a0847141"
      },
      "execution_count": 15,
      "outputs": [
        {
          "output_type": "stream",
          "name": "stderr",
          "text": [
            "/usr/local/lib/python3.10/dist-packages/keras/src/layers/rnn/rnn.py:204: UserWarning: Do not pass an `input_shape`/`input_dim` argument to a layer. When using Sequential models, prefer using an `Input(shape)` object as the first layer in the model instead.\n",
            "  super().__init__(**kwargs)\n"
          ]
        }
      ]
    },
    {
      "cell_type": "code",
      "source": [
        "# Train the model\n",
        "history = model.fit(X_train, y_train, epochs=100, batch_size=16, validation_data=(X_val, y_val))\n",
        "\n"
      ],
      "metadata": {
        "colab": {
          "base_uri": "https://localhost:8080/"
        },
        "id": "L2vDf18gOwoN",
        "outputId": "eb4b0bf5-9c46-45a1-d7a7-45c3e38c8760"
      },
      "execution_count": null,
      "outputs": [
        {
          "output_type": "stream",
          "name": "stdout",
          "text": [
            "Epoch 1/100\n",
            "44/44 [==============================] - 8s 60ms/step - loss: 1.3829 - accuracy: 0.2786 - val_loss: 1.3574 - val_accuracy: 0.4324\n",
            "Epoch 2/100\n",
            "44/44 [==============================] - 1s 33ms/step - loss: 1.3269 - accuracy: 0.3529 - val_loss: 1.2050 - val_accuracy: 0.4324\n",
            "Epoch 3/100\n",
            "44/44 [==============================] - 2s 44ms/step - loss: 1.1031 - accuracy: 0.4657 - val_loss: 0.9057 - val_accuracy: 0.5541\n",
            "Epoch 4/100\n",
            "44/44 [==============================] - 3s 60ms/step - loss: 1.0226 - accuracy: 0.4757 - val_loss: 0.8802 - val_accuracy: 0.5203\n",
            "Epoch 5/100\n",
            "44/44 [==============================] - 2s 49ms/step - loss: 1.0120 - accuracy: 0.4714 - val_loss: 0.8885 - val_accuracy: 0.5135\n",
            "Epoch 6/100\n",
            "44/44 [==============================] - 2s 53ms/step - loss: 0.9392 - accuracy: 0.5014 - val_loss: 0.8830 - val_accuracy: 0.5203\n",
            "Epoch 7/100\n",
            "44/44 [==============================] - 2s 51ms/step - loss: 0.9801 - accuracy: 0.4814 - val_loss: 0.8912 - val_accuracy: 0.4932\n",
            "Epoch 8/100\n",
            "44/44 [==============================] - 1s 33ms/step - loss: 0.9529 - accuracy: 0.4600 - val_loss: 0.8649 - val_accuracy: 0.4797\n",
            "Epoch 9/100\n",
            "44/44 [==============================] - 2s 46ms/step - loss: 1.0185 - accuracy: 0.4629 - val_loss: 1.0451 - val_accuracy: 0.4730\n",
            "Epoch 10/100\n",
            "44/44 [==============================] - 3s 64ms/step - loss: 1.0100 - accuracy: 0.4843 - val_loss: 1.0258 - val_accuracy: 0.4662\n",
            "Epoch 11/100\n",
            "44/44 [==============================] - 2s 44ms/step - loss: 1.0893 - accuracy: 0.4514 - val_loss: 0.8752 - val_accuracy: 0.5068\n",
            "Epoch 12/100\n",
            "44/44 [==============================] - 1s 33ms/step - loss: 0.9772 - accuracy: 0.4814 - val_loss: 0.9493 - val_accuracy: 0.4662\n",
            "Epoch 13/100\n",
            "44/44 [==============================] - 1s 34ms/step - loss: 0.9496 - accuracy: 0.4986 - val_loss: 0.9227 - val_accuracy: 0.4459\n",
            "Epoch 14/100\n",
            "44/44 [==============================] - 1s 34ms/step - loss: 0.9247 - accuracy: 0.5043 - val_loss: 0.8653 - val_accuracy: 0.4662\n",
            "Epoch 15/100\n",
            "44/44 [==============================] - 1s 33ms/step - loss: 0.9948 - accuracy: 0.4886 - val_loss: 0.8738 - val_accuracy: 0.5203\n",
            "Epoch 16/100\n",
            "44/44 [==============================] - 1s 33ms/step - loss: 1.1396 - accuracy: 0.4286 - val_loss: 0.8668 - val_accuracy: 0.5676\n",
            "Epoch 17/100\n",
            "44/44 [==============================] - 2s 43ms/step - loss: 0.9215 - accuracy: 0.5343 - val_loss: 0.8752 - val_accuracy: 0.5068\n",
            "Epoch 18/100\n",
            "44/44 [==============================] - 2s 39ms/step - loss: 0.9157 - accuracy: 0.5171 - val_loss: 0.8922 - val_accuracy: 0.5000\n",
            "Epoch 19/100\n",
            "44/44 [==============================] - 1s 33ms/step - loss: 0.9039 - accuracy: 0.5371 - val_loss: 0.8709 - val_accuracy: 0.5068\n",
            "Epoch 20/100\n",
            "44/44 [==============================] - 1s 34ms/step - loss: 0.9100 - accuracy: 0.5271 - val_loss: 0.8795 - val_accuracy: 0.5000\n",
            "Epoch 21/100\n",
            "44/44 [==============================] - 1s 34ms/step - loss: 0.9174 - accuracy: 0.5157 - val_loss: 0.9679 - val_accuracy: 0.5405\n",
            "Epoch 22/100\n",
            "44/44 [==============================] - 1s 33ms/step - loss: 0.9307 - accuracy: 0.5100 - val_loss: 0.8671 - val_accuracy: 0.6014\n",
            "Epoch 23/100\n",
            "44/44 [==============================] - 1s 34ms/step - loss: 0.9002 - accuracy: 0.5171 - val_loss: 0.8302 - val_accuracy: 0.5270\n",
            "Epoch 24/100\n",
            "44/44 [==============================] - 2s 40ms/step - loss: 0.8810 - accuracy: 0.5086 - val_loss: 0.8325 - val_accuracy: 0.5068\n",
            "Epoch 25/100\n",
            "44/44 [==============================] - 2s 55ms/step - loss: 0.8847 - accuracy: 0.5071 - val_loss: 0.8722 - val_accuracy: 0.5676\n",
            "Epoch 26/100\n",
            "44/44 [==============================] - 2s 54ms/step - loss: 0.9518 - accuracy: 0.5186 - val_loss: 0.9880 - val_accuracy: 0.4662\n",
            "Epoch 27/100\n",
            "44/44 [==============================] - 2s 43ms/step - loss: 0.9246 - accuracy: 0.5014 - val_loss: 1.0070 - val_accuracy: 0.4595\n",
            "Epoch 28/100\n",
            "44/44 [==============================] - 2s 48ms/step - loss: 0.9268 - accuracy: 0.5371 - val_loss: 0.8942 - val_accuracy: 0.4865\n",
            "Epoch 29/100\n",
            "44/44 [==============================] - 2s 36ms/step - loss: 0.9381 - accuracy: 0.5014 - val_loss: 0.8786 - val_accuracy: 0.5000\n",
            "Epoch 30/100\n",
            "44/44 [==============================] - 2s 43ms/step - loss: 0.9072 - accuracy: 0.5414 - val_loss: 0.8794 - val_accuracy: 0.5203\n",
            "Epoch 31/100\n",
            "44/44 [==============================] - 2s 42ms/step - loss: 0.8999 - accuracy: 0.5286 - val_loss: 0.8603 - val_accuracy: 0.5338\n",
            "Epoch 32/100\n",
            "44/44 [==============================] - 2s 55ms/step - loss: 0.9041 - accuracy: 0.5114 - val_loss: 0.8682 - val_accuracy: 0.5000\n",
            "Epoch 33/100\n",
            "44/44 [==============================] - 2s 55ms/step - loss: 0.8972 - accuracy: 0.5157 - val_loss: 0.8383 - val_accuracy: 0.5068\n",
            "Epoch 34/100\n",
            "44/44 [==============================] - 2s 56ms/step - loss: 0.8593 - accuracy: 0.5814 - val_loss: 0.8274 - val_accuracy: 0.5338\n",
            "Epoch 35/100\n",
            "44/44 [==============================] - 2s 49ms/step - loss: 0.8761 - accuracy: 0.5243 - val_loss: 0.8510 - val_accuracy: 0.4662\n",
            "Epoch 36/100\n",
            "44/44 [==============================] - 3s 60ms/step - loss: 0.8731 - accuracy: 0.5414 - val_loss: 0.8689 - val_accuracy: 0.5608\n",
            "Epoch 37/100\n",
            "44/44 [==============================] - 2s 55ms/step - loss: 0.9361 - accuracy: 0.5100 - val_loss: 0.8830 - val_accuracy: 0.5405\n",
            "Epoch 38/100\n",
            "44/44 [==============================] - 3s 71ms/step - loss: 0.8856 - accuracy: 0.5229 - val_loss: 0.8489 - val_accuracy: 0.5473\n",
            "Epoch 39/100\n",
            "44/44 [==============================] - 2s 49ms/step - loss: 0.9251 - accuracy: 0.5071 - val_loss: 0.8478 - val_accuracy: 0.4527\n",
            "Epoch 40/100\n",
            "44/44 [==============================] - 2s 55ms/step - loss: 0.8597 - accuracy: 0.5429 - val_loss: 0.8728 - val_accuracy: 0.4797\n",
            "Epoch 41/100\n",
            "44/44 [==============================] - 3s 62ms/step - loss: 0.8430 - accuracy: 0.5514 - val_loss: 0.8561 - val_accuracy: 0.5743\n",
            "Epoch 42/100\n",
            "44/44 [==============================] - 2s 54ms/step - loss: 0.8855 - accuracy: 0.5500 - val_loss: 0.9366 - val_accuracy: 0.4865\n",
            "Epoch 43/100\n",
            "44/44 [==============================] - 2s 55ms/step - loss: 0.8376 - accuracy: 0.5814 - val_loss: 0.8622 - val_accuracy: 0.5203\n",
            "Epoch 44/100\n",
            "44/44 [==============================] - 2s 48ms/step - loss: 0.8251 - accuracy: 0.5800 - val_loss: 0.8337 - val_accuracy: 0.5541\n",
            "Epoch 45/100\n",
            "44/44 [==============================] - 2s 38ms/step - loss: 0.8042 - accuracy: 0.6214 - val_loss: 0.8390 - val_accuracy: 0.5135\n",
            "Epoch 46/100\n",
            "44/44 [==============================] - 1s 32ms/step - loss: 0.8223 - accuracy: 0.5957 - val_loss: 0.8926 - val_accuracy: 0.5203\n",
            "Epoch 47/100\n",
            "44/44 [==============================] - 1s 32ms/step - loss: 0.8257 - accuracy: 0.5957 - val_loss: 0.8968 - val_accuracy: 0.5743\n",
            "Epoch 48/100\n",
            "44/44 [==============================] - 1s 32ms/step - loss: 0.9207 - accuracy: 0.5686 - val_loss: 0.8485 - val_accuracy: 0.5473\n",
            "Epoch 49/100\n",
            "44/44 [==============================] - 1s 32ms/step - loss: 0.8913 - accuracy: 0.5571 - val_loss: 0.8413 - val_accuracy: 0.5135\n",
            "Epoch 50/100\n",
            "44/44 [==============================] - 2s 38ms/step - loss: 0.8594 - accuracy: 0.5800 - val_loss: 0.8485 - val_accuracy: 0.5203\n",
            "Epoch 51/100\n",
            "44/44 [==============================] - 2s 40ms/step - loss: 0.8085 - accuracy: 0.5957 - val_loss: 0.8569 - val_accuracy: 0.5338\n",
            "Epoch 52/100\n",
            "44/44 [==============================] - 1s 33ms/step - loss: 0.8183 - accuracy: 0.5814 - val_loss: 0.8395 - val_accuracy: 0.5608\n",
            "Epoch 53/100\n",
            "44/44 [==============================] - 1s 33ms/step - loss: 0.8136 - accuracy: 0.6043 - val_loss: 0.8377 - val_accuracy: 0.5405\n",
            "Epoch 54/100\n",
            "44/44 [==============================] - 1s 32ms/step - loss: 0.7887 - accuracy: 0.6157 - val_loss: 0.8690 - val_accuracy: 0.5541\n",
            "Epoch 55/100\n",
            "44/44 [==============================] - 1s 32ms/step - loss: 0.8058 - accuracy: 0.6071 - val_loss: 0.8411 - val_accuracy: 0.5946\n",
            "Epoch 56/100\n",
            "44/44 [==============================] - 1s 32ms/step - loss: 0.8038 - accuracy: 0.6300 - val_loss: 0.8039 - val_accuracy: 0.6014\n",
            "Epoch 57/100\n",
            "44/44 [==============================] - 1s 33ms/step - loss: 0.8176 - accuracy: 0.6186 - val_loss: 1.0249 - val_accuracy: 0.5068\n",
            "Epoch 58/100\n",
            "44/44 [==============================] - 2s 35ms/step - loss: 0.8109 - accuracy: 0.6400 - val_loss: 0.8141 - val_accuracy: 0.6014\n",
            "Epoch 59/100\n",
            "44/44 [==============================] - 2s 41ms/step - loss: 0.8272 - accuracy: 0.6214 - val_loss: 0.8604 - val_accuracy: 0.5743\n",
            "Epoch 60/100\n",
            "44/44 [==============================] - 2s 36ms/step - loss: 0.8525 - accuracy: 0.6114 - val_loss: 0.9234 - val_accuracy: 0.5676\n",
            "Epoch 61/100\n",
            "44/44 [==============================] - 1s 33ms/step - loss: 0.8281 - accuracy: 0.6086 - val_loss: 0.8114 - val_accuracy: 0.5743\n",
            "Epoch 62/100\n",
            "44/44 [==============================] - 1s 32ms/step - loss: 0.7972 - accuracy: 0.6171 - val_loss: 0.8008 - val_accuracy: 0.5946\n",
            "Epoch 63/100\n",
            "44/44 [==============================] - 2s 44ms/step - loss: 0.7443 - accuracy: 0.6414 - val_loss: 0.8521 - val_accuracy: 0.5608\n",
            "Epoch 64/100\n",
            "44/44 [==============================] - 1s 33ms/step - loss: 0.7472 - accuracy: 0.6757 - val_loss: 0.8753 - val_accuracy: 0.5676\n",
            "Epoch 65/100\n",
            "44/44 [==============================] - 1s 32ms/step - loss: 0.7150 - accuracy: 0.6771 - val_loss: 0.8318 - val_accuracy: 0.5676\n",
            "Epoch 66/100\n",
            "44/44 [==============================] - 1s 33ms/step - loss: 0.7354 - accuracy: 0.6814 - val_loss: 0.8598 - val_accuracy: 0.5473\n",
            "Epoch 67/100\n",
            "44/44 [==============================] - 2s 40ms/step - loss: 0.7681 - accuracy: 0.6471 - val_loss: 0.8468 - val_accuracy: 0.5608\n",
            "Epoch 68/100\n",
            "44/44 [==============================] - 2s 37ms/step - loss: 0.8139 - accuracy: 0.6143 - val_loss: 0.8244 - val_accuracy: 0.5608\n",
            "Epoch 69/100\n",
            "44/44 [==============================] - 1s 32ms/step - loss: 0.7952 - accuracy: 0.6257 - val_loss: 0.9832 - val_accuracy: 0.5338\n",
            "Epoch 70/100\n",
            "44/44 [==============================] - 1s 33ms/step - loss: 0.8646 - accuracy: 0.6186 - val_loss: 0.9484 - val_accuracy: 0.5405\n",
            "Epoch 71/100\n",
            "44/44 [==============================] - 1s 32ms/step - loss: 0.7677 - accuracy: 0.6643 - val_loss: 0.8849 - val_accuracy: 0.5405\n",
            "Epoch 72/100\n",
            "44/44 [==============================] - 1s 32ms/step - loss: 0.7574 - accuracy: 0.6586 - val_loss: 0.8879 - val_accuracy: 0.5676\n",
            "Epoch 73/100\n",
            "44/44 [==============================] - 1s 33ms/step - loss: 0.7174 - accuracy: 0.6914 - val_loss: 0.8821 - val_accuracy: 0.5541\n",
            "Epoch 74/100\n",
            "44/44 [==============================] - 1s 32ms/step - loss: 0.7029 - accuracy: 0.6829 - val_loss: 0.8971 - val_accuracy: 0.5811\n",
            "Epoch 75/100\n",
            "44/44 [==============================] - 2s 37ms/step - loss: 0.7061 - accuracy: 0.6914 - val_loss: 0.8417 - val_accuracy: 0.5743\n",
            "Epoch 76/100\n",
            "44/44 [==============================] - 2s 40ms/step - loss: 0.7023 - accuracy: 0.6914 - val_loss: 0.8599 - val_accuracy: 0.5878\n",
            "Epoch 77/100\n",
            "44/44 [==============================] - 1s 34ms/step - loss: 0.6925 - accuracy: 0.6800 - val_loss: 0.9718 - val_accuracy: 0.5676\n",
            "Epoch 78/100\n",
            "44/44 [==============================] - 1s 33ms/step - loss: 0.6904 - accuracy: 0.6943 - val_loss: 0.8622 - val_accuracy: 0.5743\n",
            "Epoch 79/100\n",
            "44/44 [==============================] - 1s 33ms/step - loss: 0.6928 - accuracy: 0.6871 - val_loss: 0.9204 - val_accuracy: 0.5405\n",
            "Epoch 80/100\n",
            "44/44 [==============================] - 1s 32ms/step - loss: 0.7259 - accuracy: 0.6614 - val_loss: 0.8210 - val_accuracy: 0.5946\n",
            "Epoch 81/100\n",
            "44/44 [==============================] - 1s 33ms/step - loss: 0.7255 - accuracy: 0.6771 - val_loss: 0.9393 - val_accuracy: 0.5878\n",
            "Epoch 82/100\n",
            "44/44 [==============================] - 1s 33ms/step - loss: 0.7363 - accuracy: 0.6557 - val_loss: 0.8076 - val_accuracy: 0.5946\n",
            "Epoch 83/100\n",
            "44/44 [==============================] - 1s 33ms/step - loss: 0.7101 - accuracy: 0.6714 - val_loss: 0.9114 - val_accuracy: 0.6081\n",
            "Epoch 84/100\n",
            "44/44 [==============================] - 2s 40ms/step - loss: 0.6969 - accuracy: 0.7014 - val_loss: 0.7802 - val_accuracy: 0.6284\n",
            "Epoch 85/100\n",
            "44/44 [==============================] - 2s 38ms/step - loss: 0.7035 - accuracy: 0.6843 - val_loss: 0.8243 - val_accuracy: 0.6014\n",
            "Epoch 86/100\n",
            "44/44 [==============================] - 1s 32ms/step - loss: 0.6728 - accuracy: 0.6971 - val_loss: 0.8649 - val_accuracy: 0.6014\n",
            "Epoch 87/100\n",
            "44/44 [==============================] - 1s 32ms/step - loss: 0.6708 - accuracy: 0.7100 - val_loss: 0.8188 - val_accuracy: 0.5946\n",
            "Epoch 88/100\n",
            "44/44 [==============================] - 1s 32ms/step - loss: 0.6445 - accuracy: 0.7371 - val_loss: 0.9126 - val_accuracy: 0.5878\n",
            "Epoch 89/100\n",
            "44/44 [==============================] - 1s 33ms/step - loss: 0.7198 - accuracy: 0.6886 - val_loss: 1.1305 - val_accuracy: 0.5338\n",
            "Epoch 90/100\n",
            "44/44 [==============================] - 1s 33ms/step - loss: 0.8374 - accuracy: 0.6300 - val_loss: 1.0144 - val_accuracy: 0.5608\n",
            "Epoch 91/100\n",
            "44/44 [==============================] - 1s 33ms/step - loss: 0.7634 - accuracy: 0.6586 - val_loss: 0.9728 - val_accuracy: 0.5676\n",
            "Epoch 92/100\n",
            "44/44 [==============================] - 2s 36ms/step - loss: 0.7755 - accuracy: 0.6686 - val_loss: 0.8772 - val_accuracy: 0.6081\n",
            "Epoch 93/100\n",
            "44/44 [==============================] - 2s 43ms/step - loss: 0.6901 - accuracy: 0.7143 - val_loss: 0.8460 - val_accuracy: 0.6149\n",
            "Epoch 94/100\n",
            "44/44 [==============================] - 1s 33ms/step - loss: 0.7026 - accuracy: 0.6857 - val_loss: 0.9250 - val_accuracy: 0.5608\n",
            "Epoch 95/100\n",
            "44/44 [==============================] - 1s 33ms/step - loss: 0.6615 - accuracy: 0.7114 - val_loss: 0.8635 - val_accuracy: 0.6216\n",
            "Epoch 96/100\n",
            "44/44 [==============================] - 1s 33ms/step - loss: 0.6264 - accuracy: 0.7229 - val_loss: 0.8947 - val_accuracy: 0.6216\n",
            "Epoch 97/100\n",
            "44/44 [==============================] - 1s 33ms/step - loss: 0.6435 - accuracy: 0.7300 - val_loss: 0.8273 - val_accuracy: 0.6351\n",
            "Epoch 98/100\n",
            "44/44 [==============================] - 2s 42ms/step - loss: 0.6110 - accuracy: 0.7414 - val_loss: 0.8646 - val_accuracy: 0.5811\n",
            "Epoch 99/100\n",
            "44/44 [==============================] - 2s 36ms/step - loss: 0.6355 - accuracy: 0.7443 - val_loss: 0.9900 - val_accuracy: 0.5743\n",
            "Epoch 100/100\n",
            "44/44 [==============================] - 2s 40ms/step - loss: 0.6151 - accuracy: 0.7457 - val_loss: 0.9084 - val_accuracy: 0.5608\n"
          ]
        }
      ]
    },
    {
      "cell_type": "code",
      "source": [
        "# Compute accuracy on training data\n",
        "train_accuracy = model.evaluate(X_train, y_train)[1]\n",
        "print(f\"Accuracy on training data: {train_accuracy * 100:.2f}%\")\n",
        "\n",
        "# Compute accuracy on validation data\n",
        "val_accuracy = model.evaluate(X_dev, y_dev)[1]\n",
        "print(f'Accuracy on validation data: {val_accuracy * 100:.2f}%')\n",
        "\n",
        "# Compute accuracy on test data\n",
        "test_accuracy = model.evaluate(X_eval, y_eval)[1]\n",
        "print(f'Accuracy on test data: {test_accuracy * 100:.2f}%')\n"
      ],
      "metadata": {
        "colab": {
          "base_uri": "https://localhost:8080/"
        },
        "id": "kaSzWrlZyK36",
        "outputId": "076d6a3c-8fdc-49b2-d4ab-cd995a523d9c"
      },
      "execution_count": null,
      "outputs": [
        {
          "output_type": "stream",
          "name": "stdout",
          "text": [
            "22/22 [==============================] - 1s 20ms/step - loss: 0.4219 - accuracy: 0.8200\n",
            "Accuracy on training data: 82.00%\n",
            "5/5 [==============================] - 0s 14ms/step - loss: 0.5515 - accuracy: 0.7500\n",
            "Accuracy on validation data: 75.00%\n",
            "5/5 [==============================] - 0s 13ms/step - loss: 0.4604 - accuracy: 0.8311\n",
            "Accuracy on test data: 83.11%\n"
          ]
        }
      ]
    },
    {
      "cell_type": "code",
      "source": [
        "from sklearn.metrics import classification_report, precision_recall_fscore_support\n",
        "import numpy as np\n",
        "\n",
        "\n",
        "# Predict probabilities on the test set for multiclass classification\n",
        "y_pred_prob_multiclass = model.predict(X_test)\n",
        "y_pred_classes_multiclass = np.argmax(y_pred_prob_multiclass, axis=1)\n",
        "\n",
        "# Convert one-hot encoded test labels back to integer format for multiclass classification\n",
        "y_test_int = np.argmax(y_test_categorical, axis=1)\n",
        "\n",
        "\n",
        "# Generate classification report for multiclass classification\n",
        "report_multiclass = classification_report(y_test_int, y_pred_classes_multiclass, target_names=class_labels)\n",
        "print(\"\\nMulticlass Classification Report LSTM:\")\n",
        "print(report_multiclass)\n"
      ],
      "metadata": {
        "id": "ApZh0sWX5CbH",
        "outputId": "64ef632d-fc39-45e4-e629-7a7d9acc6b8b",
        "colab": {
          "base_uri": "https://localhost:8080/"
        }
      },
      "execution_count": null,
      "outputs": [
        {
          "output_type": "stream",
          "name": "stdout",
          "text": [
            "5/5 [==============================] - 2s 482ms/step\n",
            "\n",
            "Multiclass Classification Report LSTM:\n",
            "              precision    recall  f1-score   support\n",
            "\n",
            "        real       0.96      0.65      0.77        37\n",
            " synthesised       1.00      0.95      0.97        37\n",
            "   converted       0.66      0.84      0.74        37\n",
            "      replay       0.80      0.89      0.85        37\n",
            "\n",
            "    accuracy                           0.83       148\n",
            "   macro avg       0.86      0.83      0.83       148\n",
            "weighted avg       0.86      0.83      0.83       148\n",
            "\n"
          ]
        }
      ]
    },
    {
      "cell_type": "code",
      "source": [
        "model.save('/content/drive/MyDrive/save/voice-spoofing-detection-using-lstm-Multiclass.h5')"
      ],
      "metadata": {
        "id": "7hZxJL2jObet",
        "colab": {
          "base_uri": "https://localhost:8080/"
        },
        "outputId": "85cb8f1d-4a7b-4c05-d4f7-4ce47ff38cf1"
      },
      "execution_count": null,
      "outputs": [
        {
          "output_type": "stream",
          "name": "stderr",
          "text": [
            "/usr/local/lib/python3.10/dist-packages/keras/src/engine/training.py:3103: UserWarning: You are saving your model as an HDF5 file via `model.save()`. This file format is considered legacy. We recommend using instead the native Keras format, e.g. `model.save('my_model.keras')`.\n",
            "  saving_api.save_model(\n"
          ]
        }
      ]
    },
    {
      "cell_type": "code",
      "source": [
        "\n",
        "import os\n",
        "from tensorflow.keras.models import load_model\n",
        "\n",
        "model_path = \"/content/drive/MyDrive/save/voice-spoofing-detection-using-lstm-Multiclass.h5\"\n",
        "\n",
        "model = load_model(model_path)\n",
        "\n",
        "# add code to load model\n",
        "\n",
        "\n",
        "sample_audio_file_path = \"/content/drive/MyDrive/dataset/LA/ASVspoof2019_LA_eval/flac/LA_T_7686633.flac\"\n",
        "\n",
        "# Make predictions\n",
        "sample_audio_spectrogram = audio_to_spectrogram(sample_audio_file_path)\n",
        "\n",
        "\n",
        "X_new = np.expand_dims(sample_audio_spectrogram, axis=0)\n",
        "\n",
        "# Performing prediction\n",
        "y_pred = model.predict(X_new)\n",
        "\n",
        "# Convert probabilities to classes by selecting the class with the highest probability\n",
        "y_pred_classes = np.argmax(y_pred, axis=1)\n",
        "\n",
        "# Map predicted classes to labels\n",
        "class_labels = ['real', 'synthesised', 'converted','replay']\n",
        "y_pred_labels = [class_labels[pred] for pred in y_pred_classes]\n",
        "\n",
        "print(\"Predicted class:\", y_pred_labels[0])\n",
        "\n"
      ],
      "metadata": {
        "colab": {
          "base_uri": "https://localhost:8080/"
        },
        "id": "1-1xJj4StA0z",
        "outputId": "fde3076e-b6b6-479a-a937-7c6f002d8f75"
      },
      "execution_count": 16,
      "outputs": [
        {
          "output_type": "stream",
          "name": "stderr",
          "text": [
            "WARNING:absl:Compiled the loaded model, but the compiled metrics have yet to be built. `model.compile_metrics` will be empty until you train or evaluate the model.\n"
          ]
        },
        {
          "output_type": "stream",
          "name": "stdout",
          "text": [
            "\u001b[1m1/1\u001b[0m \u001b[32m━━━━━━━━━━━━━━━━━━━━\u001b[0m\u001b[37m\u001b[0m \u001b[1m0s\u001b[0m 279ms/step\n",
            "Predicted class: real\n"
          ]
        }
      ]
    },
    {
      "cell_type": "markdown",
      "source": [
        "##  Confusion Matrix"
      ],
      "metadata": {
        "id": "phhUBJqWPbbs"
      }
    },
    {
      "cell_type": "code",
      "source": [
        "from sklearn.metrics import confusion_matrix\n",
        "import seaborn as sns\n",
        "import matplotlib.pyplot as plt\n",
        "\n",
        "\n",
        "# Perform predictions on the evaluation set\n",
        "y_test_pred = model.predict(X_test)\n",
        "y_test_pred_classes = np.argmax(y_test_pred, axis=1)\n",
        "\n",
        "# Calculate confusion matrix\n",
        "cm = confusion_matrix(y_test, y_test_pred_classes)\n",
        "\n",
        "# Create a heatmap plot\n",
        "plt.figure(figsize=(10, 7))\n",
        "sns.heatmap(cm, annot=True, fmt='d', xticklabels=class_labels, yticklabels=class_labels, cmap='Blues')\n",
        "plt.title('Confusion Matrix')\n",
        "plt.ylabel('Actual Class')\n",
        "plt.xlabel('Predicted Class')\n",
        "\n",
        "# Show the plot\n",
        "plt.show()\n"
      ],
      "metadata": {
        "colab": {
          "base_uri": "https://localhost:8080/",
          "height": 658
        },
        "id": "14xtLJyzBOUK",
        "outputId": "5a5eacda-eada-4ef2-dc43-a8c4ae67c969"
      },
      "execution_count": null,
      "outputs": [
        {
          "output_type": "stream",
          "name": "stdout",
          "text": [
            "5/5 [==============================] - 2s 377ms/step\n"
          ]
        },
        {
          "output_type": "display_data",
          "data": {
            "text/plain": [
              "<Figure size 1000x700 with 2 Axes>"
            ],
            "image/png": "[encoded data removed]"
          },
          "metadata": {}
        }
      ]
    },
    {
      "cell_type": "markdown",
      "source": [
        "# GRU Model"
      ],
      "metadata": {
        "id": "PKuB7q9cOkVs"
      }
    },
    {
      "cell_type": "code",
      "source": [
        "import numpy as np\n",
        "import pandas as pd\n",
        "import tensorflow as tf\n",
        "from tensorflow.keras.models import Sequential\n",
        "from tensorflow.keras.layers import GRU, Dropout, Dense\n",
        "from sklearn.model_selection import train_test_split\n",
        "from sklearn.preprocessing import LabelEncoder\n",
        "from sklearn.metrics import classification_report\n",
        "\n",
        "\n",
        "# Define the architecture of the Sequential GRU model\n",
        "model_gru = Sequential([\n",
        "    GRU(128, input_shape=(X_train.shape[1], X_train.shape[2]), return_sequences=True),\n",
        "    Dropout(0.2),\n",
        "    GRU(128, return_sequences=True),\n",
        "    Dropout(0.2),\n",
        "    GRU(128),\n",
        "    Dropout(0.2),\n",
        "    Dense(4, activation='softmax')  # Assuming 4 classes for multiclass classification\n",
        "])\n",
        "\n",
        "# Compile the model\n",
        "learning_rate = 0.0001  # Adjust the learning rate as needed\n",
        "\n",
        "# Compile the model with custom learning rate\n",
        "optimizer = tf.keras.optimizers.Adam(learning_rate=learning_rate)\n",
        "model_gru.compile(optimizer=optimizer, loss='sparse_categorical_crossentropy', metrics=['accuracy'])\n",
        "\n"
      ],
      "metadata": {
        "id": "NvHgggy2O7O9"
      },
      "execution_count": 17,
      "outputs": []
    },
    {
      "cell_type": "code",
      "source": [
        "# Train the model\n",
        "history = model_gru.fit(X_train, y_train, epochs=100, batch_size=8, validation_data=(X_val, y_val))\n",
        "\n",
        "# Evaluate the model\n",
        "loss, accuracy = model_gru.evaluate(X_test, y_test)\n",
        "print(f'Test Loss: {loss}, Test Accuracy: {accuracy}')\n",
        "\n",
        "\n"
      ],
      "metadata": {
        "colab": {
          "base_uri": "https://localhost:8080/"
        },
        "id": "R0R-DdK4P6ym",
        "outputId": "82250e9a-4c33-426e-8785-595824686ccb"
      },
      "execution_count": null,
      "outputs": [
        {
          "output_type": "stream",
          "name": "stdout",
          "text": [
            "Epoch 1/100\n",
            "88/88 [==============================] - 3s 31ms/step - loss: 1.0771 - accuracy: 0.4757 - val_loss: 0.9391 - val_accuracy: 0.4932\n",
            "Epoch 2/100\n",
            "88/88 [==============================] - 3s 33ms/step - loss: 0.9632 - accuracy: 0.5371 - val_loss: 0.8983 - val_accuracy: 0.5811\n",
            "Epoch 3/100\n",
            "88/88 [==============================] - 3s 34ms/step - loss: 0.9206 - accuracy: 0.5543 - val_loss: 0.7569 - val_accuracy: 0.6622\n",
            "Epoch 4/100\n",
            "88/88 [==============================] - 3s 30ms/step - loss: 0.8863 - accuracy: 0.5571 - val_loss: 0.7502 - val_accuracy: 0.6284\n",
            "Epoch 5/100\n",
            "88/88 [==============================] - 3s 30ms/step - loss: 0.8433 - accuracy: 0.5857 - val_loss: 0.7084 - val_accuracy: 0.6689\n",
            "Epoch 6/100\n",
            "88/88 [==============================] - 3s 29ms/step - loss: 0.8358 - accuracy: 0.6143 - val_loss: 0.6681 - val_accuracy: 0.6689\n",
            "Epoch 7/100\n",
            "88/88 [==============================] - 3s 34ms/step - loss: 0.8251 - accuracy: 0.5871 - val_loss: 0.7343 - val_accuracy: 0.6351\n",
            "Epoch 8/100\n",
            "88/88 [==============================] - 3s 31ms/step - loss: 0.8157 - accuracy: 0.6243 - val_loss: 0.7051 - val_accuracy: 0.6622\n",
            "Epoch 9/100\n",
            "88/88 [==============================] - 3s 30ms/step - loss: 0.7858 - accuracy: 0.6314 - val_loss: 0.6474 - val_accuracy: 0.7297\n",
            "Epoch 10/100\n",
            "88/88 [==============================] - 3s 31ms/step - loss: 0.7753 - accuracy: 0.6400 - val_loss: 0.7268 - val_accuracy: 0.6959\n",
            "Epoch 11/100\n",
            "88/88 [==============================] - 3s 29ms/step - loss: 0.7800 - accuracy: 0.6357 - val_loss: 0.7640 - val_accuracy: 0.6554\n",
            "Epoch 12/100\n",
            "88/88 [==============================] - 3s 36ms/step - loss: 0.7611 - accuracy: 0.6429 - val_loss: 0.6507 - val_accuracy: 0.7095\n",
            "Epoch 13/100\n",
            "88/88 [==============================] - 3s 31ms/step - loss: 0.7518 - accuracy: 0.6600 - val_loss: 0.6324 - val_accuracy: 0.7365\n",
            "Epoch 14/100\n",
            "88/88 [==============================] - 3s 31ms/step - loss: 0.7614 - accuracy: 0.6257 - val_loss: 0.6087 - val_accuracy: 0.7027\n",
            "Epoch 15/100\n",
            "88/88 [==============================] - 3s 29ms/step - loss: 0.7411 - accuracy: 0.6600 - val_loss: 0.6319 - val_accuracy: 0.7027\n",
            "Epoch 16/100\n",
            "88/88 [==============================] - 3s 32ms/step - loss: 0.7386 - accuracy: 0.6514 - val_loss: 0.6869 - val_accuracy: 0.6351\n",
            "Epoch 17/100\n",
            "88/88 [==============================] - 3s 34ms/step - loss: 0.7361 - accuracy: 0.6400 - val_loss: 0.5433 - val_accuracy: 0.7703\n",
            "Epoch 18/100\n",
            "88/88 [==============================] - 3s 29ms/step - loss: 0.7141 - accuracy: 0.6700 - val_loss: 0.5605 - val_accuracy: 0.7432\n",
            "Epoch 19/100\n",
            "88/88 [==============================] - 3s 29ms/step - loss: 0.6998 - accuracy: 0.6757 - val_loss: 0.7020 - val_accuracy: 0.6284\n",
            "Epoch 20/100\n",
            "88/88 [==============================] - 3s 29ms/step - loss: 0.7190 - accuracy: 0.6600 - val_loss: 0.6479 - val_accuracy: 0.7162\n",
            "Epoch 21/100\n",
            "88/88 [==============================] - 3s 34ms/step - loss: 0.6961 - accuracy: 0.6786 - val_loss: 0.6009 - val_accuracy: 0.7162\n",
            "Epoch 22/100\n",
            "88/88 [==============================] - 3s 32ms/step - loss: 0.6962 - accuracy: 0.6871 - val_loss: 0.7241 - val_accuracy: 0.6419\n",
            "Epoch 23/100\n",
            "88/88 [==============================] - 3s 30ms/step - loss: 0.6409 - accuracy: 0.7000 - val_loss: 0.5959 - val_accuracy: 0.6959\n",
            "Epoch 24/100\n",
            "88/88 [==============================] - 3s 30ms/step - loss: 0.6329 - accuracy: 0.7043 - val_loss: 0.6527 - val_accuracy: 0.7230\n",
            "Epoch 25/100\n",
            "88/88 [==============================] - 3s 35ms/step - loss: 0.6161 - accuracy: 0.7257 - val_loss: 0.6345 - val_accuracy: 0.7095\n",
            "Epoch 26/100\n",
            "88/88 [==============================] - 3s 35ms/step - loss: 0.6376 - accuracy: 0.7157 - val_loss: 0.5452 - val_accuracy: 0.7905\n",
            "Epoch 27/100\n",
            "88/88 [==============================] - 3s 30ms/step - loss: 0.6606 - accuracy: 0.6929 - val_loss: 0.6904 - val_accuracy: 0.6892\n",
            "Epoch 28/100\n",
            "88/88 [==============================] - 3s 29ms/step - loss: 0.6515 - accuracy: 0.7100 - val_loss: 0.5574 - val_accuracy: 0.7500\n",
            "Epoch 29/100\n",
            "88/88 [==============================] - 3s 31ms/step - loss: 0.6014 - accuracy: 0.7214 - val_loss: 0.5877 - val_accuracy: 0.6959\n",
            "Epoch 30/100\n",
            "88/88 [==============================] - 3s 33ms/step - loss: 0.6368 - accuracy: 0.7086 - val_loss: 0.5425 - val_accuracy: 0.7500\n",
            "Epoch 31/100\n",
            "88/88 [==============================] - 3s 33ms/step - loss: 0.6008 - accuracy: 0.7186 - val_loss: 0.7580 - val_accuracy: 0.7365\n",
            "Epoch 32/100\n",
            "88/88 [==============================] - 3s 29ms/step - loss: 0.6274 - accuracy: 0.7200 - val_loss: 0.5945 - val_accuracy: 0.7365\n",
            "Epoch 33/100\n",
            "88/88 [==============================] - 3s 29ms/step - loss: 0.5913 - accuracy: 0.7286 - val_loss: 0.5749 - val_accuracy: 0.7095\n",
            "Epoch 34/100\n",
            "88/88 [==============================] - 3s 34ms/step - loss: 0.6247 - accuracy: 0.7257 - val_loss: 0.7842 - val_accuracy: 0.7230\n",
            "Epoch 35/100\n",
            "88/88 [==============================] - 3s 35ms/step - loss: 0.6029 - accuracy: 0.7300 - val_loss: 0.5954 - val_accuracy: 0.7838\n",
            "Epoch 36/100\n",
            "88/88 [==============================] - 3s 30ms/step - loss: 0.5971 - accuracy: 0.7286 - val_loss: 0.5522 - val_accuracy: 0.7568\n",
            "Epoch 37/100\n",
            "88/88 [==============================] - 4s 49ms/step - loss: 0.5705 - accuracy: 0.7486 - val_loss: 0.6669 - val_accuracy: 0.7230\n",
            "Epoch 38/100\n",
            "88/88 [==============================] - 5s 52ms/step - loss: 0.5963 - accuracy: 0.7529 - val_loss: 0.6322 - val_accuracy: 0.7230\n",
            "Epoch 39/100\n",
            "88/88 [==============================] - 4s 50ms/step - loss: 0.6111 - accuracy: 0.7357 - val_loss: 0.6676 - val_accuracy: 0.6959\n",
            "Epoch 40/100\n",
            "88/88 [==============================] - 3s 31ms/step - loss: 0.6110 - accuracy: 0.7214 - val_loss: 0.5904 - val_accuracy: 0.7230\n",
            "Epoch 41/100\n",
            "88/88 [==============================] - 3s 29ms/step - loss: 0.6249 - accuracy: 0.7300 - val_loss: 0.5293 - val_accuracy: 0.7500\n",
            "Epoch 42/100\n",
            "88/88 [==============================] - 3s 31ms/step - loss: 0.5633 - accuracy: 0.7471 - val_loss: 0.5177 - val_accuracy: 0.7635\n",
            "Epoch 43/100\n",
            "88/88 [==============================] - 3s 36ms/step - loss: 0.5841 - accuracy: 0.7400 - val_loss: 0.6320 - val_accuracy: 0.7162\n",
            "Epoch 44/100\n",
            "88/88 [==============================] - 3s 29ms/step - loss: 0.5335 - accuracy: 0.7771 - val_loss: 0.5684 - val_accuracy: 0.7770\n",
            "Epoch 45/100\n",
            "88/88 [==============================] - 3s 29ms/step - loss: 0.5654 - accuracy: 0.7500 - val_loss: 0.7083 - val_accuracy: 0.7230\n",
            "Epoch 46/100\n",
            "88/88 [==============================] - 3s 29ms/step - loss: 0.5273 - accuracy: 0.7914 - val_loss: 0.5460 - val_accuracy: 0.7770\n",
            "Epoch 47/100\n",
            "88/88 [==============================] - 3s 33ms/step - loss: 0.4932 - accuracy: 0.8000 - val_loss: 0.6388 - val_accuracy: 0.7635\n",
            "Epoch 48/100\n",
            "88/88 [==============================] - 3s 33ms/step - loss: 0.4881 - accuracy: 0.7943 - val_loss: 0.5828 - val_accuracy: 0.7635\n",
            "Epoch 49/100\n",
            "88/88 [==============================] - 3s 30ms/step - loss: 0.4746 - accuracy: 0.7857 - val_loss: 0.6706 - val_accuracy: 0.7635\n",
            "Epoch 50/100\n",
            "88/88 [==============================] - 3s 30ms/step - loss: 0.5435 - accuracy: 0.7771 - val_loss: 0.7460 - val_accuracy: 0.7162\n",
            "Epoch 51/100\n",
            "88/88 [==============================] - 3s 31ms/step - loss: 0.5117 - accuracy: 0.7771 - val_loss: 0.5073 - val_accuracy: 0.7905\n",
            "Epoch 52/100\n",
            "88/88 [==============================] - 3s 38ms/step - loss: 0.4653 - accuracy: 0.7957 - val_loss: 0.6164 - val_accuracy: 0.7297\n",
            "Epoch 53/100\n",
            "88/88 [==============================] - 3s 33ms/step - loss: 0.4779 - accuracy: 0.7943 - val_loss: 0.5813 - val_accuracy: 0.7432\n",
            "Epoch 54/100\n",
            "88/88 [==============================] - 3s 35ms/step - loss: 0.4565 - accuracy: 0.7957 - val_loss: 0.6728 - val_accuracy: 0.7703\n",
            "Epoch 55/100\n",
            "88/88 [==============================] - 4s 43ms/step - loss: 0.4580 - accuracy: 0.7943 - val_loss: 0.9185 - val_accuracy: 0.6689\n",
            "Epoch 56/100\n",
            "88/88 [==============================] - 5s 52ms/step - loss: 0.5714 - accuracy: 0.7571 - val_loss: 0.6517 - val_accuracy: 0.7432\n",
            "Epoch 57/100\n",
            "88/88 [==============================] - 3s 29ms/step - loss: 0.4961 - accuracy: 0.7986 - val_loss: 0.5046 - val_accuracy: 0.7703\n",
            "Epoch 58/100\n",
            "88/88 [==============================] - 3s 29ms/step - loss: 0.4815 - accuracy: 0.8043 - val_loss: 0.5537 - val_accuracy: 0.7973\n",
            "Epoch 59/100\n",
            "88/88 [==============================] - 3s 30ms/step - loss: 0.4571 - accuracy: 0.8100 - val_loss: 0.7101 - val_accuracy: 0.7095\n",
            "Epoch 60/100\n",
            "88/88 [==============================] - 3s 33ms/step - loss: 0.4690 - accuracy: 0.8071 - val_loss: 0.5548 - val_accuracy: 0.7770\n",
            "Epoch 61/100\n",
            "88/88 [==============================] - 3s 33ms/step - loss: 0.4389 - accuracy: 0.8214 - val_loss: 0.7639 - val_accuracy: 0.6892\n",
            "Epoch 62/100\n",
            "88/88 [==============================] - 3s 29ms/step - loss: 0.4930 - accuracy: 0.7929 - val_loss: 0.5079 - val_accuracy: 0.7635\n",
            "Epoch 63/100\n",
            "88/88 [==============================] - 3s 30ms/step - loss: 0.4357 - accuracy: 0.8314 - val_loss: 0.5121 - val_accuracy: 0.7905\n",
            "Epoch 64/100\n",
            "88/88 [==============================] - 3s 30ms/step - loss: 0.3834 - accuracy: 0.8429 - val_loss: 0.5035 - val_accuracy: 0.7838\n",
            "Epoch 65/100\n",
            "88/88 [==============================] - 3s 36ms/step - loss: 0.4012 - accuracy: 0.8386 - val_loss: 0.4842 - val_accuracy: 0.7635\n",
            "Epoch 66/100\n",
            "88/88 [==============================] - 3s 31ms/step - loss: 0.4148 - accuracy: 0.8243 - val_loss: 0.5459 - val_accuracy: 0.7635\n",
            "Epoch 67/100\n",
            "88/88 [==============================] - 3s 30ms/step - loss: 0.3853 - accuracy: 0.8286 - val_loss: 0.5773 - val_accuracy: 0.7500\n",
            "Epoch 68/100\n",
            "88/88 [==============================] - 3s 30ms/step - loss: 0.4064 - accuracy: 0.8329 - val_loss: 0.8362 - val_accuracy: 0.7095\n",
            "Epoch 69/100\n",
            "88/88 [==============================] - 4s 43ms/step - loss: 0.3745 - accuracy: 0.8586 - val_loss: 0.6832 - val_accuracy: 0.7905\n",
            "Epoch 70/100\n",
            "88/88 [==============================] - 3s 35ms/step - loss: 0.4221 - accuracy: 0.8214 - val_loss: 0.6702 - val_accuracy: 0.7230\n",
            "Epoch 71/100\n",
            "88/88 [==============================] - 3s 30ms/step - loss: 0.4146 - accuracy: 0.8143 - val_loss: 0.5185 - val_accuracy: 0.7770\n",
            "Epoch 72/100\n",
            "88/88 [==============================] - 3s 30ms/step - loss: 0.3738 - accuracy: 0.8500 - val_loss: 0.6360 - val_accuracy: 0.7432\n",
            "Epoch 73/100\n",
            "88/88 [==============================] - 3s 30ms/step - loss: 0.3942 - accuracy: 0.8414 - val_loss: 0.5124 - val_accuracy: 0.7770\n",
            "Epoch 74/100\n",
            "88/88 [==============================] - 3s 36ms/step - loss: 0.3456 - accuracy: 0.8714 - val_loss: 0.5331 - val_accuracy: 0.7770\n",
            "Epoch 75/100\n",
            "88/88 [==============================] - 3s 31ms/step - loss: 0.3424 - accuracy: 0.8643 - val_loss: 0.5674 - val_accuracy: 0.7838\n",
            "Epoch 76/100\n",
            "88/88 [==============================] - 3s 30ms/step - loss: 0.3769 - accuracy: 0.8414 - val_loss: 0.6831 - val_accuracy: 0.7365\n",
            "Epoch 77/100\n",
            "88/88 [==============================] - 3s 30ms/step - loss: 0.3303 - accuracy: 0.8571 - val_loss: 0.6025 - val_accuracy: 0.7365\n",
            "Epoch 78/100\n",
            "88/88 [==============================] - 3s 31ms/step - loss: 0.3147 - accuracy: 0.8600 - val_loss: 0.5309 - val_accuracy: 0.7635\n",
            "Epoch 79/100\n",
            "88/88 [==============================] - 3s 35ms/step - loss: 0.3342 - accuracy: 0.8600 - val_loss: 0.5278 - val_accuracy: 0.7500\n",
            "Epoch 80/100\n",
            "88/88 [==============================] - 3s 32ms/step - loss: 0.3073 - accuracy: 0.8743 - val_loss: 0.8325 - val_accuracy: 0.7297\n",
            "Epoch 81/100\n",
            "88/88 [==============================] - 3s 30ms/step - loss: 0.3325 - accuracy: 0.8700 - val_loss: 0.5831 - val_accuracy: 0.7568\n",
            "Epoch 82/100\n",
            "88/88 [==============================] - 3s 30ms/step - loss: 0.3423 - accuracy: 0.8657 - val_loss: 0.5034 - val_accuracy: 0.7973\n",
            "Epoch 83/100\n",
            "88/88 [==============================] - 5s 56ms/step - loss: 0.2856 - accuracy: 0.8943 - val_loss: 0.6393 - val_accuracy: 0.7432\n",
            "Epoch 84/100\n",
            "88/88 [==============================] - 6s 65ms/step - loss: 0.2635 - accuracy: 0.8943 - val_loss: 0.8393 - val_accuracy: 0.7365\n",
            "Epoch 85/100\n",
            "88/88 [==============================] - 4s 46ms/step - loss: 0.2457 - accuracy: 0.9043 - val_loss: 0.7890 - val_accuracy: 0.7297\n",
            "Epoch 86/100\n",
            "88/88 [==============================] - 4s 41ms/step - loss: 0.3624 - accuracy: 0.8600 - val_loss: 0.6803 - val_accuracy: 0.7635\n",
            "Epoch 87/100\n",
            "88/88 [==============================] - 4s 40ms/step - loss: 0.3323 - accuracy: 0.8643 - val_loss: 0.5939 - val_accuracy: 0.7973\n",
            "Epoch 88/100\n",
            "88/88 [==============================] - 3s 38ms/step - loss: 0.2714 - accuracy: 0.8957 - val_loss: 0.5888 - val_accuracy: 0.7568\n",
            "Epoch 89/100\n",
            "88/88 [==============================] - 5s 59ms/step - loss: 0.2163 - accuracy: 0.9157 - val_loss: 0.5680 - val_accuracy: 0.8108\n",
            "Epoch 90/100\n",
            "88/88 [==============================] - 4s 49ms/step - loss: 0.3059 - accuracy: 0.8714 - val_loss: 0.6334 - val_accuracy: 0.7973\n",
            "Epoch 91/100\n",
            "88/88 [==============================] - 3s 38ms/step - loss: 0.2522 - accuracy: 0.9114 - val_loss: 0.4514 - val_accuracy: 0.8108\n",
            "Epoch 92/100\n",
            "88/88 [==============================] - 3s 30ms/step - loss: 0.2376 - accuracy: 0.9057 - val_loss: 0.7582 - val_accuracy: 0.7365\n",
            "Epoch 93/100\n",
            "88/88 [==============================] - 3s 36ms/step - loss: 0.2450 - accuracy: 0.9014 - val_loss: 0.5497 - val_accuracy: 0.7838\n",
            "Epoch 94/100\n",
            "88/88 [==============================] - 3s 31ms/step - loss: 0.2934 - accuracy: 0.8886 - val_loss: 0.5252 - val_accuracy: 0.8041\n",
            "Epoch 95/100\n",
            "88/88 [==============================] - 3s 30ms/step - loss: 0.2344 - accuracy: 0.8986 - val_loss: 0.9662 - val_accuracy: 0.7568\n",
            "Epoch 96/100\n",
            "88/88 [==============================] - 3s 31ms/step - loss: 0.2492 - accuracy: 0.9043 - val_loss: 0.5133 - val_accuracy: 0.7838\n",
            "Epoch 97/100\n",
            "88/88 [==============================] - 3s 32ms/step - loss: 0.2444 - accuracy: 0.9057 - val_loss: 0.6802 - val_accuracy: 0.7703\n",
            "Epoch 98/100\n",
            "88/88 [==============================] - 3s 34ms/step - loss: 0.1942 - accuracy: 0.9200 - val_loss: 0.4836 - val_accuracy: 0.8108\n",
            "Epoch 99/100\n",
            "88/88 [==============================] - 3s 30ms/step - loss: 0.2373 - accuracy: 0.9071 - val_loss: 0.5727 - val_accuracy: 0.7838\n",
            "Epoch 100/100\n",
            "88/88 [==============================] - 3s 30ms/step - loss: 0.2633 - accuracy: 0.8871 - val_loss: 0.4306 - val_accuracy: 0.8716\n",
            "5/5 [==============================] - 0s 12ms/step - loss: 0.4306 - accuracy: 0.8716\n",
            "Test Loss: 0.4305565655231476, Test Accuracy: 0.8716216087341309\n",
            "22/22 [==============================] - 0s 13ms/step - loss: 0.2151 - accuracy: 0.9243\n",
            "Accuracy on training data: 92.43%\n",
            "5/5 [==============================] - 0s 12ms/step - loss: 0.7222 - accuracy: 0.7905\n",
            "Accuracy on validation data: 79.05%\n",
            "5/5 [==============================] - 0s 12ms/step - loss: 0.4306 - accuracy: 0.8716\n",
            "Accuracy on test data: 87.16%\n"
          ]
        }
      ]
    },
    {
      "cell_type": "code",
      "source": [
        "from sklearn.metrics import classification_report, precision_recall_fscore_support\n",
        "import numpy as np\n",
        "\n",
        "\n",
        "# Predict probabilities on the test set for multiclass classification\n",
        "y_pred_prob_multiclass = model_2.predict(X_test)\n",
        "y_pred_classes_multiclass = np.argmax(y_pred_prob_multiclass, axis=1)\n",
        "\n",
        "# Convert one-hot encoded test labels back to integer format for multiclass classification\n",
        "y_test_int = np.argmax(y_test_categorical, axis=1)\n",
        "\n",
        "\n",
        "# Generate classification report for multiclass classification\n",
        "report_multiclass = classification_report(y_test_int, y_pred_classes_multiclass, target_names=class_labels)\n",
        "print(\"\\nMulticlass Classification Report LSTM:\")\n",
        "print(report_multiclass)\n"
      ],
      "metadata": {
        "id": "ZYzTpn1M6x-g",
        "outputId": "73936dbd-4750-4692-96ae-936d5fb9a76f",
        "colab": {
          "base_uri": "https://localhost:8080/"
        }
      },
      "execution_count": null,
      "outputs": [
        {
          "output_type": "stream",
          "name": "stdout",
          "text": [
            "5/5 [==============================] - 1s 148ms/step\n",
            "\n",
            "Multiclass Classification Report LSTM:\n",
            "              precision    recall  f1-score   support\n",
            "\n",
            "        real       0.96      0.59      0.73        37\n",
            " synthesised       1.00      1.00      1.00        37\n",
            "   converted       0.75      0.89      0.81        37\n",
            "      replay       0.84      1.00      0.91        37\n",
            "\n",
            "    accuracy                           0.87       148\n",
            "   macro avg       0.89      0.87      0.87       148\n",
            "weighted avg       0.89      0.87      0.87       148\n",
            "\n"
          ]
        }
      ]
    },
    {
      "cell_type": "code",
      "source": [
        "model_gru.save('/content/drive/MyDrive/save/voice-spoofing-detection-using-gru-Multiclass.h5')"
      ],
      "metadata": {
        "id": "alROqFh0OxCQ",
        "colab": {
          "base_uri": "https://localhost:8080/"
        },
        "outputId": "13269f44-8916-4250-f0bc-3898d1c01fff"
      },
      "execution_count": null,
      "outputs": [
        {
          "output_type": "stream",
          "name": "stderr",
          "text": [
            "/usr/local/lib/python3.10/dist-packages/keras/src/engine/training.py:3103: UserWarning: You are saving your model as an HDF5 file via `model.save()`. This file format is considered legacy. We recommend using instead the native Keras format, e.g. `model.save('my_model.keras')`.\n",
            "  saving_api.save_model(\n"
          ]
        }
      ]
    },
    {
      "cell_type": "code",
      "source": [
        "\n",
        "import os\n",
        "from tensorflow.keras.models import load_model\n",
        "\n",
        "model_path = \"/content/drive/MyDrive/save/voice-spoofing-detection-using-gru-Multiclass.h5\"\n",
        "\n",
        "model_2 = load_model(model_path)\n",
        "\n",
        "# add code to load model\n",
        "\n",
        "\n",
        "sample_audio_file_path = \"/content/drive/MyDrive/dataset/LA/ASVspoof2019_LA_eval/flac/test.flac\"\n",
        "\n",
        "\n",
        "# Make predictions\n",
        "sample_audio_spectrogram = audio_to_spectrogram(sample_audio_file_path)\n",
        "\n",
        "# Assuming the shape of the spectrogram is suitable for the model input\n",
        "X_new = np.expand_dims(sample_audio_spectrogram, axis=0)\n",
        "\n",
        "# Performing prediction\n",
        "y_pred = model_2.predict(X_new)\n",
        "\n",
        "# Convert probabilities to classes by selecting the class with the highest probability\n",
        "y_pred_classes = np.argmax(y_pred, axis=1)\n",
        "\n",
        "# Map predicted classes to labels\n",
        "class_labels = ['real', 'synthesised', 'converted','replay']  # Update with your actual class labels\n",
        "y_pred_labels = [class_labels[pred] for pred in y_pred_classes]\n",
        "\n",
        "print(\"Predicted class:\", y_pred_labels[0])\n",
        "\n"
      ],
      "metadata": {
        "id": "Ce59LaLSVZUg",
        "outputId": "5cb69cea-114e-458a-b7f1-38d483959830",
        "colab": {
          "base_uri": "https://localhost:8080/"
        }
      },
      "execution_count": 18,
      "outputs": [
        {
          "output_type": "stream",
          "name": "stderr",
          "text": [
            "WARNING:absl:Compiled the loaded model, but the compiled metrics have yet to be built. `model.compile_metrics` will be empty until you train or evaluate the model.\n"
          ]
        },
        {
          "output_type": "stream",
          "name": "stdout",
          "text": [
            "\u001b[1m1/1\u001b[0m \u001b[32m━━━━━━━━━━━━━━━━━━━━\u001b[0m\u001b[37m\u001b[0m \u001b[1m0s\u001b[0m 215ms/step\n",
            "Predicted class: synthesised\n"
          ]
        }
      ]
    },
    {
      "cell_type": "code",
      "source": [
        "# Compute accuracy on training data\n",
        "train_accuracy = model_2.evaluate(X_train, y_train)[1]\n",
        "print(f\"Accuracy on training data: {train_accuracy * 100:.2f}%\")\n",
        "\n",
        "# Compute accuracy on validation data\n",
        "val_accuracy = model_2.evaluate(X_val, y_val)[1]\n",
        "print(f'Accuracy on validation data: {val_accuracy * 100:.2f}%')\n",
        "\n",
        "# Compute accuracy on test data\n",
        "test_accuracy = model_2.evaluate(X_test, y_test)[1]\n",
        "print(f'Accuracy on test data: {test_accuracy * 100:.2f}%')\n"
      ],
      "metadata": {
        "colab": {
          "base_uri": "https://localhost:8080/"
        },
        "id": "-Rj0yFPQQFon",
        "outputId": "8ddcd0fd-5eb9-4cae-ae11-b4396da22977"
      },
      "execution_count": null,
      "outputs": [
        {
          "output_type": "stream",
          "name": "stdout",
          "text": [
            "22/22 [==============================] - 4s 198ms/step - loss: 0.2151 - accuracy: 0.9243\n",
            "Accuracy on training data: 92.43%\n",
            "5/5 [==============================] - 1s 143ms/step - loss: 0.7222 - accuracy: 0.7905\n",
            "Accuracy on validation data: 79.05%\n",
            "5/5 [==============================] - 1s 143ms/step - loss: 0.4306 - accuracy: 0.8716\n",
            "Accuracy on test data: 87.16%\n"
          ]
        }
      ]
    },
    {
      "cell_type": "code",
      "source": [
        "from sklearn.metrics import confusion_matrix\n",
        "import seaborn as sns\n",
        "import matplotlib.pyplot as plt\n",
        "\n",
        "# Assuming you have X_eval and y_eval datasets for testing\n",
        "\n",
        "# Perform predictions on the evaluation set\n",
        "y_eval_pred = model_2.predict(X_eval)\n",
        "y_eval_pred_classes = np.argmax(y_eval_pred, axis=1)\n",
        "\n",
        "# Calculate confusion matrix\n",
        "cm = confusion_matrix(y_eval, y_eval_pred_classes)\n",
        "\n",
        "# Create a heatmap plot\n",
        "plt.figure(figsize=(10, 7))\n",
        "sns.heatmap(cm, annot=True, fmt='d', xticklabels=class_labels, yticklabels=class_labels, cmap='Blues')\n",
        "plt.title('Confusion Matrix')\n",
        "plt.ylabel('Actual Class')\n",
        "plt.xlabel('Predicted Class')\n",
        "\n",
        "# Show the plot\n",
        "plt.show()\n"
      ],
      "metadata": {
        "id": "sjvVDwFnO67q",
        "outputId": "a69cf084-d919-4b72-ce25-f36b567e224f",
        "colab": {
          "base_uri": "https://localhost:8080/",
          "height": 658
        }
      },
      "execution_count": null,
      "outputs": [
        {
          "output_type": "stream",
          "name": "stdout",
          "text": [
            "5/5 [==============================] - 0s 23ms/step\n"
          ]
        },
        {
          "output_type": "display_data",
          "data": {
            "text/plain": [
              "<Figure size 1000x700 with 2 Axes>"
            ],
            "image/png": "[encoded data removed]"
          },
          "metadata": {}
        }
      ]
    },
    {
      "cell_type": "markdown",
      "source": [
        "# WaveNet Model\n"
      ],
      "metadata": {
        "id": "-6m_5AdJWR3o"
      }
    },
    {
      "cell_type": "code",
      "source": [
        "!pip install --upgrade tensorflow-io"
      ],
      "metadata": {
        "colab": {
          "base_uri": "https://localhost:8080/"
        },
        "id": "yDvNjODhULFV",
        "outputId": "8fb03ca5-1008-4ee5-c30a-babaf6937787"
      },
      "execution_count": 19,
      "outputs": [
        {
          "output_type": "stream",
          "name": "stdout",
          "text": [
            "Requirement already satisfied: tensorflow-io in /usr/local/lib/python3.10/dist-packages (0.36.0)\n",
            "Requirement already satisfied: tensorflow-io-gcs-filesystem==0.36.0 in /usr/local/lib/python3.10/dist-packages (from tensorflow-io) (0.36.0)\n"
          ]
        }
      ]
    },
    {
      "cell_type": "code",
      "source": [
        "from tensorflow.keras.layers import Conv1D, Flatten, Dense, Dropout\n",
        "from tensorflow.keras.models import Sequential\n",
        "\n",
        "def wavenet_model(input_shape, num_classes, dilation_depth=5, kernel_size=3):\n",
        "    model = Sequential()\n",
        "    dilation_rates = [2**i for i in range(dilation_depth)]\n",
        "\n",
        "    for dilation_rate in dilation_rates:\n",
        "        model.add(Conv1D(32, kernel_size, activation='relu', dilation_rate=dilation_rate, padding='causal'))\n",
        "\n",
        "    model.add(Flatten())\n",
        "    model.add(Dense(64, activation='relu'))\n",
        "    model.add(Dropout(0.3))\n",
        "    model.add(Dense(32, activation='relu'))\n",
        "    model.add(Dropout(0.3))\n",
        "    model.add(Dense(num_classes, activation='softmax'))\n",
        "\n",
        "    model.compile(loss='categorical_crossentropy', optimizer='adam', metrics=['accuracy'])\n",
        "\n",
        "    return model\n",
        "\n",
        "# Reshape input data\n",
        "X_train = X_train.reshape(X_train.shape[0], X_train.shape[1], X_train.shape[2])\n",
        "X_val = X_val.reshape(X_val.shape[0], X_val.shape[1], X_val.shape[2])\n",
        "X_test = X_test.reshape(X_test.shape[0], X_test.shape[1], X_test.shape[2])\n",
        "\n",
        "# Define input shape\n",
        "input_shape = (X_train.shape[1], X_train.shape[2])  # (num_time_steps, num_frequency_bins)\n",
        "\n",
        "# Define number of output classes\n",
        "num_classes = 4  # Update with the actual number of output classes\n",
        "\n",
        "# Create the WaveNet model with similar architecture to the CNN model\n",
        "wavenet_model = wavenet_model(input_shape, num_classes, kernel_size=3)\n"
      ],
      "metadata": {
        "id": "f0k92I8WUTf5"
      },
      "execution_count": 20,
      "outputs": []
    },
    {
      "cell_type": "code",
      "source": [
        "from tensorflow.keras.optimizers import Adam\n",
        "\n",
        "# Define the learning rate\n",
        "learning_rate = 0.001  # Adjust this value as needed\n",
        "\n",
        "# Compile the model with the custom learning rate\n",
        "optimizer = Adam(learning_rate=learning_rate)\n",
        "wavenet_model.compile(optimizer=optimizer, loss='sparse_categorical_crossentropy', metrics=['accuracy'])\n",
        "\n",
        "# Train the model\n",
        "history = wavenet_model.fit(X_train, y_train, epochs=50, batch_size=16, validation_data=(X_val, y_val))\n"
      ],
      "metadata": {
        "colab": {
          "base_uri": "https://localhost:8080/"
        },
        "id": "bi_frfTCUXCi",
        "outputId": "19abfb17-6b57-4fd1-e9fd-abf20e6c60fa"
      },
      "execution_count": 21,
      "outputs": [
        {
          "output_type": "stream",
          "name": "stdout",
          "text": [
            "Epoch 1/50\n",
            "\u001b[1m44/44\u001b[0m \u001b[32m━━━━━━━━━━━━━━━━━━━━\u001b[0m\u001b[37m\u001b[0m \u001b[1m32s\u001b[0m 373ms/step - accuracy: 0.2801 - loss: 9.9334 - val_accuracy: 0.4122 - val_loss: 1.2779\n",
            "Epoch 2/50\n",
            "\u001b[1m44/44\u001b[0m \u001b[32m━━━━━━━━━━━━━━━━━━━━\u001b[0m\u001b[37m\u001b[0m \u001b[1m14s\u001b[0m 7ms/step - accuracy: 0.3641 - loss: 1.3166 - val_accuracy: 0.6149 - val_loss: 1.0511\n",
            "Epoch 3/50\n",
            "\u001b[1m44/44\u001b[0m \u001b[32m━━━━━━━━━━━━━━━━━━━━\u001b[0m\u001b[37m\u001b[0m \u001b[1m1s\u001b[0m 7ms/step - accuracy: 0.5455 - loss: 1.0971 - val_accuracy: 0.6689 - val_loss: 1.0220\n",
            "Epoch 4/50\n",
            "\u001b[1m44/44\u001b[0m \u001b[32m━━━━━━━━━━━━━━━━━━━━\u001b[0m\u001b[37m\u001b[0m \u001b[1m1s\u001b[0m 6ms/step - accuracy: 0.4997 - loss: 1.0844 - val_accuracy: 0.6892 - val_loss: 0.6933\n",
            "Epoch 5/50\n",
            "\u001b[1m44/44\u001b[0m \u001b[32m━━━━━━━━━━━━━━━━━━━━\u001b[0m\u001b[37m\u001b[0m \u001b[1m0s\u001b[0m 6ms/step - accuracy: 0.6012 - loss: 0.8923 - val_accuracy: 0.7973 - val_loss: 0.6098\n",
            "Epoch 6/50\n",
            "\u001b[1m44/44\u001b[0m \u001b[32m━━━━━━━━━━━━━━━━━━━━\u001b[0m\u001b[37m\u001b[0m \u001b[1m0s\u001b[0m 6ms/step - accuracy: 0.6027 - loss: 0.8291 - val_accuracy: 0.7500 - val_loss: 0.4904\n",
            "Epoch 7/50\n",
            "\u001b[1m44/44\u001b[0m \u001b[32m━━━━━━━━━━━━━━━━━━━━\u001b[0m\u001b[37m\u001b[0m \u001b[1m0s\u001b[0m 6ms/step - accuracy: 0.6083 - loss: 0.8025 - val_accuracy: 0.8581 - val_loss: 0.5038\n",
            "Epoch 8/50\n",
            "\u001b[1m44/44\u001b[0m \u001b[32m━━━━━━━━━━━━━━━━━━━━\u001b[0m\u001b[37m\u001b[0m \u001b[1m0s\u001b[0m 7ms/step - accuracy: 0.6240 - loss: 0.8442 - val_accuracy: 0.7095 - val_loss: 0.4849\n",
            "Epoch 9/50\n",
            "\u001b[1m44/44\u001b[0m \u001b[32m━━━━━━━━━━━━━━━━━━━━\u001b[0m\u001b[37m\u001b[0m \u001b[1m0s\u001b[0m 8ms/step - accuracy: 0.7004 - loss: 0.6851 - val_accuracy: 0.8108 - val_loss: 0.4060\n",
            "Epoch 10/50\n",
            "\u001b[1m44/44\u001b[0m \u001b[32m━━━━━━━━━━━━━━━━━━━━\u001b[0m\u001b[37m\u001b[0m \u001b[1m0s\u001b[0m 7ms/step - accuracy: 0.6924 - loss: 0.6289 - val_accuracy: 0.7230 - val_loss: 0.4422\n",
            "Epoch 11/50\n",
            "\u001b[1m44/44\u001b[0m \u001b[32m━━━━━━━━━━━━━━━━━━━━\u001b[0m\u001b[37m\u001b[0m \u001b[1m1s\u001b[0m 8ms/step - accuracy: 0.7024 - loss: 0.6175 - val_accuracy: 0.8851 - val_loss: 0.3870\n",
            "Epoch 12/50\n",
            "\u001b[1m44/44\u001b[0m \u001b[32m━━━━━━━━━━━━━━━━━━━━\u001b[0m\u001b[37m\u001b[0m \u001b[1m1s\u001b[0m 9ms/step - accuracy: 0.6694 - loss: 0.6417 - val_accuracy: 0.8378 - val_loss: 0.4710\n",
            "Epoch 13/50\n",
            "\u001b[1m44/44\u001b[0m \u001b[32m━━━━━━━━━━━━━━━━━━━━\u001b[0m\u001b[37m\u001b[0m \u001b[1m0s\u001b[0m 9ms/step - accuracy: 0.6893 - loss: 0.6386 - val_accuracy: 0.8176 - val_loss: 0.3939\n",
            "Epoch 14/50\n",
            "\u001b[1m44/44\u001b[0m \u001b[32m━━━━━━━━━━━━━━━━━━━━\u001b[0m\u001b[37m\u001b[0m \u001b[1m1s\u001b[0m 7ms/step - accuracy: 0.7157 - loss: 0.5657 - val_accuracy: 0.8243 - val_loss: 0.4200\n",
            "Epoch 15/50\n",
            "\u001b[1m44/44\u001b[0m \u001b[32m━━━━━━━━━━━━━━━━━━━━\u001b[0m\u001b[37m\u001b[0m \u001b[1m0s\u001b[0m 6ms/step - accuracy: 0.6730 - loss: 0.6349 - val_accuracy: 0.8176 - val_loss: 0.4537\n",
            "Epoch 16/50\n",
            "\u001b[1m44/44\u001b[0m \u001b[32m━━━━━━━━━━━━━━━━━━━━\u001b[0m\u001b[37m\u001b[0m \u001b[1m0s\u001b[0m 6ms/step - accuracy: 0.7269 - loss: 0.5996 - val_accuracy: 0.9122 - val_loss: 0.3464\n",
            "Epoch 17/50\n",
            "\u001b[1m44/44\u001b[0m \u001b[32m━━━━━━━━━━━━━━━━━━━━\u001b[0m\u001b[37m\u001b[0m \u001b[1m0s\u001b[0m 6ms/step - accuracy: 0.7604 - loss: 0.5026 - val_accuracy: 0.8716 - val_loss: 0.3503\n",
            "Epoch 18/50\n",
            "\u001b[1m44/44\u001b[0m \u001b[32m━━━━━━━━━━━━━━━━━━━━\u001b[0m\u001b[37m\u001b[0m \u001b[1m0s\u001b[0m 6ms/step - accuracy: 0.7578 - loss: 0.4773 - val_accuracy: 0.8919 - val_loss: 0.3224\n",
            "Epoch 19/50\n",
            "\u001b[1m44/44\u001b[0m \u001b[32m━━━━━━━━━━━━━━━━━━━━\u001b[0m\u001b[37m\u001b[0m \u001b[1m0s\u001b[0m 7ms/step - accuracy: 0.7803 - loss: 0.4425 - val_accuracy: 0.9189 - val_loss: 0.3014\n",
            "Epoch 20/50\n",
            "\u001b[1m44/44\u001b[0m \u001b[32m━━━━━━━━━━━━━━━━━━━━\u001b[0m\u001b[37m\u001b[0m \u001b[1m1s\u001b[0m 5ms/step - accuracy: 0.7944 - loss: 0.4635 - val_accuracy: 0.9122 - val_loss: 0.2518\n",
            "Epoch 21/50\n",
            "\u001b[1m44/44\u001b[0m \u001b[32m━━━━━━━━━━━━━━━━━━━━\u001b[0m\u001b[37m\u001b[0m \u001b[1m0s\u001b[0m 5ms/step - accuracy: 0.7855 - loss: 0.4812 - val_accuracy: 0.8919 - val_loss: 0.2730\n",
            "Epoch 22/50\n",
            "\u001b[1m44/44\u001b[0m \u001b[32m━━━━━━━━━━━━━━━━━━━━\u001b[0m\u001b[37m\u001b[0m \u001b[1m0s\u001b[0m 6ms/step - accuracy: 0.8059 - loss: 0.4198 - val_accuracy: 0.9122 - val_loss: 0.2486\n",
            "Epoch 23/50\n",
            "\u001b[1m44/44\u001b[0m \u001b[32m━━━━━━━━━━━━━━━━━━━━\u001b[0m\u001b[37m\u001b[0m \u001b[1m0s\u001b[0m 5ms/step - accuracy: 0.7790 - loss: 0.4562 - val_accuracy: 0.8851 - val_loss: 0.3198\n",
            "Epoch 24/50\n",
            "\u001b[1m44/44\u001b[0m \u001b[32m━━━━━━━━━━━━━━━━━━━━\u001b[0m\u001b[37m\u001b[0m \u001b[1m0s\u001b[0m 5ms/step - accuracy: 0.7897 - loss: 0.5149 - val_accuracy: 0.9459 - val_loss: 0.2205\n",
            "Epoch 25/50\n",
            "\u001b[1m44/44\u001b[0m \u001b[32m━━━━━━━━━━━━━━━━━━━━\u001b[0m\u001b[37m\u001b[0m \u001b[1m0s\u001b[0m 6ms/step - accuracy: 0.8425 - loss: 0.3332 - val_accuracy: 0.9527 - val_loss: 0.2090\n",
            "Epoch 26/50\n",
            "\u001b[1m44/44\u001b[0m \u001b[32m━━━━━━━━━━━━━━━━━━━━\u001b[0m\u001b[37m\u001b[0m \u001b[1m0s\u001b[0m 6ms/step - accuracy: 0.8356 - loss: 0.3795 - val_accuracy: 0.8784 - val_loss: 0.2870\n",
            "Epoch 27/50\n",
            "\u001b[1m44/44\u001b[0m \u001b[32m━━━━━━━━━━━━━━━━━━━━\u001b[0m\u001b[37m\u001b[0m \u001b[1m0s\u001b[0m 6ms/step - accuracy: 0.8288 - loss: 0.3667 - val_accuracy: 0.8986 - val_loss: 0.2551\n",
            "Epoch 28/50\n",
            "\u001b[1m44/44\u001b[0m \u001b[32m━━━━━━━━━━━━━━━━━━━━\u001b[0m\u001b[37m\u001b[0m \u001b[1m0s\u001b[0m 6ms/step - accuracy: 0.8776 - loss: 0.3237 - val_accuracy: 0.8581 - val_loss: 0.2841\n",
            "Epoch 29/50\n",
            "\u001b[1m44/44\u001b[0m \u001b[32m━━━━━━━━━━━━━━━━━━━━\u001b[0m\u001b[37m\u001b[0m \u001b[1m0s\u001b[0m 5ms/step - accuracy: 0.8373 - loss: 0.3956 - val_accuracy: 0.9595 - val_loss: 0.1749\n",
            "Epoch 30/50\n",
            "\u001b[1m44/44\u001b[0m \u001b[32m━━━━━━━━━━━━━━━━━━━━\u001b[0m\u001b[37m\u001b[0m \u001b[1m0s\u001b[0m 6ms/step - accuracy: 0.8680 - loss: 0.3059 - val_accuracy: 0.9257 - val_loss: 0.2331\n",
            "Epoch 31/50\n",
            "\u001b[1m44/44\u001b[0m \u001b[32m━━━━━━━━━━━━━━━━━━━━\u001b[0m\u001b[37m\u001b[0m \u001b[1m0s\u001b[0m 5ms/step - accuracy: 0.8504 - loss: 0.3385 - val_accuracy: 0.8986 - val_loss: 0.2122\n",
            "Epoch 32/50\n",
            "\u001b[1m44/44\u001b[0m \u001b[32m━━━━━━━━━━━━━━━━━━━━\u001b[0m\u001b[37m\u001b[0m \u001b[1m0s\u001b[0m 5ms/step - accuracy: 0.9006 - loss: 0.2648 - val_accuracy: 0.9054 - val_loss: 0.1974\n",
            "Epoch 33/50\n",
            "\u001b[1m44/44\u001b[0m \u001b[32m━━━━━━━━━━━━━━━━━━━━\u001b[0m\u001b[37m\u001b[0m \u001b[1m0s\u001b[0m 6ms/step - accuracy: 0.8269 - loss: 0.3784 - val_accuracy: 0.9324 - val_loss: 0.1737\n",
            "Epoch 34/50\n",
            "\u001b[1m44/44\u001b[0m \u001b[32m━━━━━━━━━━━━━━━━━━━━\u001b[0m\u001b[37m\u001b[0m \u001b[1m0s\u001b[0m 5ms/step - accuracy: 0.9071 - loss: 0.2561 - val_accuracy: 0.9257 - val_loss: 0.1486\n",
            "Epoch 35/50\n",
            "\u001b[1m44/44\u001b[0m \u001b[32m━━━━━━━━━━━━━━━━━━━━\u001b[0m\u001b[37m\u001b[0m \u001b[1m0s\u001b[0m 5ms/step - accuracy: 0.9020 - loss: 0.2378 - val_accuracy: 0.9324 - val_loss: 0.1358\n",
            "Epoch 36/50\n",
            "\u001b[1m44/44\u001b[0m \u001b[32m━━━━━━━━━━━━━━━━━━━━\u001b[0m\u001b[37m\u001b[0m \u001b[1m0s\u001b[0m 7ms/step - accuracy: 0.9181 - loss: 0.2196 - val_accuracy: 0.9865 - val_loss: 0.0764\n",
            "Epoch 37/50\n",
            "\u001b[1m44/44\u001b[0m \u001b[32m━━━━━━━━━━━━━━━━━━━━\u001b[0m\u001b[37m\u001b[0m \u001b[1m0s\u001b[0m 5ms/step - accuracy: 0.8503 - loss: 0.4191 - val_accuracy: 0.9392 - val_loss: 0.1722\n",
            "Epoch 38/50\n",
            "\u001b[1m44/44\u001b[0m \u001b[32m━━━━━━━━━━━━━━━━━━━━\u001b[0m\u001b[37m\u001b[0m \u001b[1m0s\u001b[0m 5ms/step - accuracy: 0.8962 - loss: 0.2684 - val_accuracy: 0.8986 - val_loss: 0.2401\n",
            "Epoch 39/50\n",
            "\u001b[1m44/44\u001b[0m \u001b[32m━━━━━━━━━━━━━━━━━━━━\u001b[0m\u001b[37m\u001b[0m \u001b[1m0s\u001b[0m 6ms/step - accuracy: 0.8858 - loss: 0.3238 - val_accuracy: 0.9865 - val_loss: 0.1100\n",
            "Epoch 40/50\n",
            "\u001b[1m44/44\u001b[0m \u001b[32m━━━━━━━━━━━━━━━━━━━━\u001b[0m\u001b[37m\u001b[0m \u001b[1m0s\u001b[0m 5ms/step - accuracy: 0.9505 - loss: 0.1444 - val_accuracy: 0.9054 - val_loss: 0.2095\n",
            "Epoch 41/50\n",
            "\u001b[1m44/44\u001b[0m \u001b[32m━━━━━━━━━━━━━━━━━━━━\u001b[0m\u001b[37m\u001b[0m \u001b[1m0s\u001b[0m 6ms/step - accuracy: 0.9112 - loss: 0.2046 - val_accuracy: 0.9392 - val_loss: 0.1640\n",
            "Epoch 42/50\n",
            "\u001b[1m44/44\u001b[0m \u001b[32m━━━━━━━━━━━━━━━━━━━━\u001b[0m\u001b[37m\u001b[0m \u001b[1m0s\u001b[0m 6ms/step - accuracy: 0.9316 - loss: 0.1702 - val_accuracy: 0.9662 - val_loss: 0.0612\n",
            "Epoch 43/50\n",
            "\u001b[1m44/44\u001b[0m \u001b[32m━━━━━━━━━━━━━━━━━━━━\u001b[0m\u001b[37m\u001b[0m \u001b[1m0s\u001b[0m 6ms/step - accuracy: 0.9298 - loss: 0.1720 - val_accuracy: 0.9459 - val_loss: 0.1674\n",
            "Epoch 44/50\n",
            "\u001b[1m44/44\u001b[0m \u001b[32m━━━━━━━━━━━━━━━━━━━━\u001b[0m\u001b[37m\u001b[0m \u001b[1m0s\u001b[0m 5ms/step - accuracy: 0.9308 - loss: 0.2047 - val_accuracy: 0.9662 - val_loss: 0.1467\n",
            "Epoch 45/50\n",
            "\u001b[1m44/44\u001b[0m \u001b[32m━━━━━━━━━━━━━━━━━━━━\u001b[0m\u001b[37m\u001b[0m \u001b[1m0s\u001b[0m 5ms/step - accuracy: 0.8796 - loss: 0.4009 - val_accuracy: 0.9527 - val_loss: 0.1670\n",
            "Epoch 46/50\n",
            "\u001b[1m44/44\u001b[0m \u001b[32m━━━━━━━━━━━━━━━━━━━━\u001b[0m\u001b[37m\u001b[0m \u001b[1m0s\u001b[0m 7ms/step - accuracy: 0.8499 - loss: 0.3046 - val_accuracy: 0.9459 - val_loss: 0.1406\n",
            "Epoch 47/50\n",
            "\u001b[1m44/44\u001b[0m \u001b[32m━━━━━━━━━━━━━━━━━━━━\u001b[0m\u001b[37m\u001b[0m \u001b[1m1s\u001b[0m 8ms/step - accuracy: 0.9684 - loss: 0.1081 - val_accuracy: 0.9797 - val_loss: 0.0530\n",
            "Epoch 48/50\n",
            "\u001b[1m44/44\u001b[0m \u001b[32m━━━━━━━━━━━━━━━━━━━━\u001b[0m\u001b[37m\u001b[0m \u001b[1m0s\u001b[0m 9ms/step - accuracy: 0.9358 - loss: 0.1523 - val_accuracy: 0.9459 - val_loss: 0.2103\n",
            "Epoch 49/50\n",
            "\u001b[1m44/44\u001b[0m \u001b[32m━━━━━━━━━━━━━━━━━━━━\u001b[0m\u001b[37m\u001b[0m \u001b[1m0s\u001b[0m 8ms/step - accuracy: 0.9228 - loss: 0.2280 - val_accuracy: 0.9730 - val_loss: 0.0852\n",
            "Epoch 50/50\n",
            "\u001b[1m44/44\u001b[0m \u001b[32m━━━━━━━━━━━━━━━━━━━━\u001b[0m\u001b[37m\u001b[0m \u001b[1m1s\u001b[0m 8ms/step - accuracy: 0.9352 - loss: 0.1340 - val_accuracy: 0.9595 - val_loss: 0.1542\n"
          ]
        }
      ]
    },
    {
      "cell_type": "code",
      "source": [
        "# Save the model\n",
        "wavenet_model.save('/content/drive/MyDrive/save/voice-spoofing-detection-using-wavenet-Multiclass.h5')"
      ],
      "metadata": {
        "colab": {
          "base_uri": "https://localhost:8080/"
        },
        "id": "DY-kEnrNVMEp",
        "outputId": "93eb145f-e25a-4623-d549-bb010e8fd723"
      },
      "execution_count": 22,
      "outputs": [
        {
          "output_type": "stream",
          "name": "stderr",
          "text": [
            "WARNING:absl:You are saving your model as an HDF5 file via `model.save()` or `keras.saving.save_model(model)`. This file format is considered legacy. We recommend using instead the native Keras format, e.g. `model.save('my_model.keras')` or `keras.saving.save_model(model, 'my_model.keras')`. \n"
          ]
        }
      ]
    },
    {
      "cell_type": "code",
      "source": [
        "from sklearn.metrics import confusion_matrix\n",
        "import seaborn as sns\n",
        "import matplotlib.pyplot as plt\n",
        "\n",
        "# Perform predictions on the evaluation set\n",
        "y_test_pred = wavenet_model.predict(X_test)\n",
        "y_test_pred_classes = np.argmax(y_test_pred, axis=1)\n",
        "\n",
        "# Calculate confusion matrix\n",
        "cm = confusion_matrix(y_test, y_test_pred_classes)\n",
        "class_labels = ['real', 'synthesised', 'converted','replay']\n",
        "# Plot confusion matrix\n",
        "plt.figure(figsize=(8, 6))\n",
        "sns.heatmap(cm, annot=True, fmt='d', cmap='Blues', xticklabels=class_labels, yticklabels=class_labels)\n",
        "plt.xlabel('Predicted Labels')\n",
        "plt.ylabel('True Labels')\n",
        "plt.title('Confusion Matrix')\n",
        "plt.show()\n"
      ],
      "metadata": {
        "colab": {
          "base_uri": "https://localhost:8080/",
          "height": 619
        },
        "id": "q51OhaS5VSex",
        "outputId": "2a0046b9-56eb-4c98-83b8-94eac35104cb"
      },
      "execution_count": 23,
      "outputs": [
        {
          "output_type": "stream",
          "name": "stdout",
          "text": [
            "\r\u001b[1m1/5\u001b[0m \u001b[32m━━━━\u001b[0m\u001b[37m━━━━━━━━━━━━━━━━\u001b[0m \u001b[1m6s\u001b[0m 2s/step"
          ]
        },
        {
          "output_type": "stream",
          "name": "stderr",
          "text": [
            "WARNING:tensorflow:5 out of the last 8 calls to <function TensorFlowTrainer.make_predict_function.<locals>.one_step_on_data_distributed at 0x7d67b99a28c0> triggered tf.function retracing. Tracing is expensive and the excessive number of tracings could be due to (1) creating @tf.function repeatedly in a loop, (2) passing tensors with different shapes, (3) passing Python objects instead of tensors. For (1), please define your @tf.function outside of the loop. For (2), @tf.function has reduce_retracing=True option that can avoid unnecessary retracing. For (3), please refer to https://www.tensorflow.org/guide/function#controlling_retracing and https://www.tensorflow.org/api_docs/python/tf/function for  more details.\n"
          ]
        },
        {
          "output_type": "stream",
          "name": "stdout",
          "text": [
            "\u001b[1m5/5\u001b[0m \u001b[32m━━━━━━━━━━━━━━━━━━━━\u001b[0m\u001b[37m\u001b[0m \u001b[1m3s\u001b[0m 363ms/step\n"
          ]
        },
        {
          "output_type": "display_data",
          "data": {
            "text/plain": [
              "<Figure size 800x600 with 2 Axes>"
            ],
            "image/png": "[encoded data removed]"
          },
          "metadata": {}
        }
      ]
    },
    {
      "cell_type": "code",
      "source": [
        "# Calculate and print classification report with precision up to 4 decimal points\n",
        "report = classification_report(y_test, y_test_pred_classes, target_names=class_labels, digits=4)\n",
        "print(\"Classification Report:\")\n",
        "print(report)\n"
      ],
      "metadata": {
        "colab": {
          "base_uri": "https://localhost:8080/"
        },
        "id": "hmRjvi0vVWvn",
        "outputId": "bc5e91ac-43fa-41dc-eefa-45f7f1d01b61"
      },
      "execution_count": 24,
      "outputs": [
        {
          "output_type": "stream",
          "name": "stdout",
          "text": [
            "Classification Report:\n",
            "              precision    recall  f1-score   support\n",
            "\n",
            "        real     1.0000    0.9730    0.9863        37\n",
            " synthesised     0.9737    1.0000    0.9867        37\n",
            "   converted     0.9730    0.9730    0.9730        37\n",
            "      replay     1.0000    1.0000    1.0000        37\n",
            "\n",
            "    accuracy                         0.9865       148\n",
            "   macro avg     0.9867    0.9865    0.9865       148\n",
            "weighted avg     0.9867    0.9865    0.9865       148\n",
            "\n"
          ]
        }
      ]
    },
    {
      "cell_type": "code",
      "source": [
        "import os\n",
        "import numpy as np\n",
        "from tensorflow.keras.models import load_model\n",
        "from IPython.display import display, Audio\n",
        "import ipywidgets as widgets\n",
        "\n",
        "# Load all models\n",
        "cnn_bin_path = \"/content/drive/MyDrive/save/voice-spoofing-detection-using-cnn.h5\"\n",
        "cnn_model_path = \"/content/drive/MyDrive/save/voice-spoofing-detection-using-cnn-Multiclass.h5\"\n",
        "lstm_model_path = \"/content/drive/MyDrive/save/voice-spoofing-detection-using-lstm-Multiclass.h5\"\n",
        "gru_model_path = \"/content/drive/MyDrive/save/voice-spoofing-detection-using-gru-Multiclass.h5\"\n",
        "wavenet_model_path = \"/content/drive/MyDrive/save/voice-spoofing-detection-using-wavenet-Multiclass.h5\"\n",
        "\n",
        "cnn_bin_model = load_model(cnn_bin_path)\n",
        "cnn_model = load_model(cnn_model_path)\n",
        "lstm_model = load_model(lstm_model_path)\n",
        "gru_model = load_model(gru_model_path)\n",
        "wavenet_model = load_model(wavenet_model_path)\n",
        "\n",
        "\n",
        "# Function to perform prediction\n",
        "def predict_audio(audio_file_path):\n",
        "    # Create spectrogram for the audio file\n",
        "    audio_spectrogram = audio_to_spectrogram(audio_file_path)\n",
        "    X_new = np.expand_dims(audio_spectrogram, axis=0)\n",
        "\n",
        "    # Perform predictions for each model\n",
        "    y_pred_cnn_bin = cnn_bin_model.predict(X_new)\n",
        "    y_pred_cnn = cnn_model.predict(X_new)\n",
        "    y_pred_lstm = lstm_model.predict(X_new)\n",
        "    y_pred_gru = gru_model.predict(X_new)\n",
        "    y_pred_wavenet = wavenet_model.predict(X_new)\n",
        "\n",
        "    # Convert probabilities to classes by selecting the class with the highest probability for each model\n",
        "    class_labels_bin = ['real', 'fake']\n",
        "    class_labels_multiclass = ['real', 'synthesised', 'converted', 'replay']\n",
        "\n",
        "    y_pred_classes_cnn_bin = np.argmax(y_pred_cnn_bin, axis=1)\n",
        "    y_pred_labels_cnn_bin = [class_labels_bin[pred] for pred in y_pred_classes_cnn_bin]\n",
        "\n",
        "    y_pred_classes_cnn = np.argmax(y_pred_cnn, axis=1)\n",
        "    y_pred_labels_cnn = [class_labels_multiclass[pred] for pred in y_pred_classes_cnn]\n",
        "\n",
        "    y_pred_classes_lstm = np.argmax(y_pred_lstm, axis=1)\n",
        "    y_pred_labels_lstm = [class_labels_multiclass[pred] for pred in y_pred_classes_lstm]\n",
        "\n",
        "    y_pred_classes_gru = np.argmax(y_pred_gru, axis=1)\n",
        "    y_pred_labels_gru = [class_labels_multiclass[pred] for pred in y_pred_classes_gru]\n",
        "\n",
        "    y_pred_classes_wavenet = np.argmax(y_pred_wavenet, axis=1)\n",
        "    y_pred_labels_wavenet = [class_labels_multiclass[pred] for pred in y_pred_classes_wavenet]\n",
        "\n",
        "    # Predict binary class label using the binary CNN model\n",
        "    y_pred_cnn_bin = cnn_bin_model.predict(X_new)\n",
        "    binary_class_label = 'real' if y_pred_cnn_bin[0][0] < 0.5 else 'fake'\n",
        "\n",
        "    # Display the audio and print predictions\n",
        "    display(Audio(filename=audio_file_path, autoplay=False))\n",
        "    print(\"Binary Classification (CNN):\", binary_class_label)\n",
        "    print(\"Multiclass Classification (CNN):\", y_pred_labels_cnn[0])\n",
        "    print(\"Multiclass Classification (LSTM):\", y_pred_labels_lstm[0])\n",
        "    print(\"Multiclass Classification (GRU):\", y_pred_labels_gru[0])\n",
        "    print(\"Multiclass Classification (WaveNet):\", y_pred_labels_wavenet[0])\n",
        "\n",
        "# Create custom text widget\n",
        "custom_text = widgets.HTML(value=\"<h3>Upload an Audio File:</h3>\")\n",
        "\n",
        "# Create file upload widget\n",
        "uploader = widgets.FileUpload(accept='.wav,.flac', multiple=False)\n",
        "display(widgets.VBox([custom_text, uploader]))\n",
        "\n",
        "def on_file_upload(change):\n",
        "    audio_file_content = list(uploader.value.values())[0]['content']\n",
        "    audio_file_path = 'uploaded_audio.wav'  # Save the uploaded audio temporarily\n",
        "    with open(audio_file_path, 'wb') as f:\n",
        "        f.write(audio_file_content)\n",
        "    predict_audio(audio_file_path)\n",
        "\n",
        "uploader.observe(on_file_upload, names='value')\n",
        "\n"
      ],
      "metadata": {
        "colab": {
          "base_uri": "https://localhost:8080/",
          "height": 222,
          "referenced_widgets": [
            "389afa4dc2854c878120dfd31c88df34",
            "a3b290be85a4411fbf59af7b79a95593",
            "f896502a0d994fa29867267a4aee9fb7",
            "0d0d1319ad6f45dda5e5662d2e966892",
            "7704b15d64d84728ab5b6366727cf025",
            "dc90ad2588064c0ba45ab0046675e8c0",
            "1c68be31e96d4ba1a9b8aba3a1b2a765",
            "cb0b2b214f2d4847ae68cd7a1eafbc57"
          ]
        },
        "id": "SXGnGM2BW1Zb",
        "outputId": "d21d4be4-7844-4423-d5d8-9ddae4a40f3f"
      },
      "execution_count": 27,
      "outputs": [
        {
          "output_type": "stream",
          "name": "stderr",
          "text": [
            "WARNING:absl:Compiled the loaded model, but the compiled metrics have yet to be built. `model.compile_metrics` will be empty until you train or evaluate the model.\n",
            "WARNING:absl:Error in loading the saved optimizer state. As a result, your model is starting with a freshly initialized optimizer.\n",
            "WARNING:absl:Compiled the loaded model, but the compiled metrics have yet to be built. `model.compile_metrics` will be empty until you train or evaluate the model.\n",
            "WARNING:absl:Error in loading the saved optimizer state. As a result, your model is starting with a freshly initialized optimizer.\n",
            "WARNING:absl:Compiled the loaded model, but the compiled metrics have yet to be built. `model.compile_metrics` will be empty until you train or evaluate the model.\n",
            "WARNING:absl:Compiled the loaded model, but the compiled metrics have yet to be built. `model.compile_metrics` will be empty until you train or evaluate the model.\n",
            "WARNING:absl:Compiled the loaded model, but the compiled metrics have yet to be built. `model.compile_metrics` will be empty until you train or evaluate the model.\n"
          ]
        },
        {
          "output_type": "display_data",
          "data": {
            "text/plain": [
              "VBox(children=(HTML(value='<h3>Upload an Audio File:</h3>'), FileUpload(value={}, accept='.wav,.flac', descrip…"
            ],
            "application/vnd.jupyter.widget-view+json": {
              "version_major": 2,
              "version_minor": 0,
              "model_id": "389afa4dc2854c878120dfd31c88df34"
            }
          },
          "metadata": {}
        }
      ]
    }
  ]
}