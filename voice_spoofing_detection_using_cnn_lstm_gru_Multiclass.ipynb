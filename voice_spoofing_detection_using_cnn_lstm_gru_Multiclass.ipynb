{
  "nbformat": 4,
  "nbformat_minor": 0,
  "metadata": {
    "colab": {
      "provenance": [],
      "mount_file_id": "1Tq-JqUz9ltmI2f_TC9M0p-fVHPVaEMYC",
      "authorship_tag": "ABX9TyOgytI0F4QdKUSq5TwiyYj6",
      "include_colab_link": true
    },
    "kernelspec": {
      "name": "python3",
      "display_name": "Python 3"
    },
    "language_info": {
      "name": "python"
    }
  },
  "cells": [
    {
      "cell_type": "markdown",
      "metadata": {
        "id": "view-in-github",
        "colab_type": "text"
      },
      "source": [
        "<a href=\"https://colab.research.google.com/github/Amrutha369/voice-spoofing-detection/blob/main/voice_spoofing_detection_using_cnn_lstm_gru_Multiclass.ipynb\" target=\"_parent\"><img src=\"https://colab.research.google.com/assets/colab-badge.svg\" alt=\"Open In Colab\"/></a>"
      ]
    },
    {
      "cell_type": "code",
      "execution_count": 1,
      "metadata": {
        "colab": {
          "base_uri": "https://localhost:8080/",
          "height": 0
        },
        "id": "U5cdvShFrPHW",
        "outputId": "c9a529eb-6b13-41f9-ca4f-b1a1c7db3497"
      },
      "outputs": [
        {
          "output_type": "stream",
          "name": "stdout",
          "text": [
            "Collecting scikeras\n",
            "  Downloading scikeras-0.12.0-py3-none-any.whl (27 kB)\n",
            "Requirement already satisfied: packaging>=0.21 in /usr/local/lib/python3.10/dist-packages (from scikeras) (24.0)\n",
            "Requirement already satisfied: scikit-learn>=1.0.0 in /usr/local/lib/python3.10/dist-packages (from scikeras) (1.2.2)\n",
            "Requirement already satisfied: numpy>=1.17.3 in /usr/local/lib/python3.10/dist-packages (from scikit-learn>=1.0.0->scikeras) (1.25.2)\n",
            "Requirement already satisfied: scipy>=1.3.2 in /usr/local/lib/python3.10/dist-packages (from scikit-learn>=1.0.0->scikeras) (1.11.4)\n",
            "Requirement already satisfied: joblib>=1.1.1 in /usr/local/lib/python3.10/dist-packages (from scikit-learn>=1.0.0->scikeras) (1.3.2)\n",
            "Requirement already satisfied: threadpoolctl>=2.0.0 in /usr/local/lib/python3.10/dist-packages (from scikit-learn>=1.0.0->scikeras) (3.3.0)\n",
            "Installing collected packages: scikeras\n",
            "Successfully installed scikeras-0.12.0\n"
          ]
        }
      ],
      "source": [
        "!pip install scikeras"
      ]
    },
    {
      "cell_type": "code",
      "source": [
        "\n",
        "!pip install tensorflow-io\n",
        "import os\n",
        "import pandas as pd # data manipulation and analysis\n",
        "import matplotlib.pyplot as plt #plotting library\n",
        "import numpy as np #numerical computing\n",
        "import tensorflow as tf\n",
        "import tensorflow_io as tfio\n",
        "import seaborn as sns # statistical data visualization\n",
        "from IPython.display import Audio\n",
        "from tensorflow.keras.models import Sequential\n",
        "from tensorflow.keras.layers import Conv2D, MaxPooling2D, Flatten, Dense, Dropout, BatchNormalization\n",
        "from sklearn.metrics import classification_report\n",
        "from sklearn.metrics import accuracy_score\n",
        "from sklearn.metrics import confusion_matrix, accuracy_score, precision_score, recall_score, f1_score"
      ],
      "metadata": {
        "colab": {
          "base_uri": "https://localhost:8080/",
          "height": 0
        },
        "id": "FV9lHZv1rZIt",
        "outputId": "1be6fa9e-708a-4ed0-fdf9-2dade56ed276"
      },
      "execution_count": 2,
      "outputs": [
        {
          "output_type": "stream",
          "name": "stdout",
          "text": [
            "Collecting tensorflow-io\n",
            "  Downloading tensorflow_io-0.36.0-cp310-cp310-manylinux_2_17_x86_64.manylinux2014_x86_64.whl (49.4 MB)\n",
            "\u001b[2K     \u001b[90m━━━━━━━━━━━━━━━━━━━━━━━━━━━━━━━━━━━━━━━━\u001b[0m \u001b[32m49.4/49.4 MB\u001b[0m \u001b[31m16.1 MB/s\u001b[0m eta \u001b[36m0:00:00\u001b[0m\n",
            "\u001b[?25hRequirement already satisfied: tensorflow-io-gcs-filesystem==0.36.0 in /usr/local/lib/python3.10/dist-packages (from tensorflow-io) (0.36.0)\n",
            "Installing collected packages: tensorflow-io\n",
            "Successfully installed tensorflow-io-0.36.0\n"
          ]
        }
      ]
    },
    {
      "cell_type": "code",
      "source": [
        "# Audio params\n",
        "SAMPLE_RATE = 16000\n",
        "DURATION = 20.0 # duration in second\n",
        "AUDIO_LEN = int(SAMPLE_RATE * DURATION)\n",
        "\n",
        "# Spectrogram params\n",
        "N_MELS = 128 # freq axis\n",
        "N_FFT = 2048\n",
        "SPEC_WIDTH = 256 #\n",
        "HOP_LEN = 512 # non-overlap region\n",
        "FMAX = SAMPLE_RATE//2 # max frequency\n",
        "\n",
        "# CNN params\n",
        "NUM_CLASSES = 4 # bonafide or spoof\n",
        "\n"
      ],
      "metadata": {
        "id": "jRDGm7HMrZWu"
      },
      "execution_count": 3,
      "outputs": []
    },
    {
      "cell_type": "code",
      "source": [
        "from google.colab import drive\n",
        "drive.mount('/content/drive')\n"
      ],
      "metadata": {
        "colab": {
          "base_uri": "https://localhost:8080/",
          "height": 0
        },
        "id": "0HfkewpCsnaj",
        "outputId": "60d0143d-a1fe-44fe-b2f8-503a3d475aba"
      },
      "execution_count": 4,
      "outputs": [
        {
          "output_type": "stream",
          "name": "stdout",
          "text": [
            "Mounted at /content/drive\n"
          ]
        }
      ]
    },
    {
      "cell_type": "code",
      "source": [
        "# Directory and protocol definitions\n",
        "base_path = '/content/drive/MyDrive/dataset/LA'\n",
        "protocol_dir = os.path.join(base_path, 'ASVspoof2019_LA_cm_protocols')\n",
        "train_dir = os.path.join(base_path, 'ASVspoof2019_LA_train', 'flac')\n",
        "dev_dir = os.path.join(base_path, 'ASVspoof2019_LA_dev', 'flac')\n",
        "eval_dir = os.path.join(base_path, 'ASVspoof2019_LA_eval', 'flac')"
      ],
      "metadata": {
        "id": "aMyzkGSNsndF"
      },
      "execution_count": 5,
      "outputs": []
    },
    {
      "cell_type": "code",
      "source": [
        "# Function to form the full path of a file\n",
        "def get_file_path(directory, filename):\n",
        "    return os.path.join(directory, f'{filename}.flac')"
      ],
      "metadata": {
        "id": "ncAOykjrsngb"
      },
      "execution_count": 6,
      "outputs": []
    },
    {
      "cell_type": "code",
      "source": [
        "# Function to read the dataset\n",
        "def read_dataset(protocol_path, directory):\n",
        "    \"\"\"Reads the dataset from a protocol file and returns a DataFrame.\"\"\"\n",
        "    df = pd.read_csv(protocol_path, sep=' ', header=None, names=['speaker_id', 'filename', 'system_id', 'null', 'class_name'])\n",
        "    df['filepath'] = df['filename'].apply(lambda x: get_file_path(directory, x))\n",
        "    df.drop('null', axis=1, inplace=True)\n",
        "    df.dropna(inplace=True)\n",
        "    return df\n",
        "\n",
        "# Function to convert class_name to integer\n",
        "def label_to_int(class_name):\n",
        "    if class_name == 'real':\n",
        "        return 0\n",
        "    elif class_name == 'synthesised':\n",
        "        return 1\n",
        "    elif class_name == 'converted':\n",
        "        return 2\n",
        "    elif class_name == 'replay':\n",
        "        return 3\n",
        "    else:\n",
        "        return -1  # Handle unknown classes\n",
        "\n",
        "# Add target column and subset to DataFrame\n",
        "def add_columns(df, subset):\n",
        "    df['target'] = df['class_name'].apply(label_to_int)\n",
        "    df['subset'] = subset\n",
        "    return df\n",
        "\n",
        "# Take samples from each DataFrame\n",
        "def sample_data_multiclass(df, n_synthesised, n_real, n_converted, n_replay):\n",
        "    synthesised = df[df['class_name'] == 'synthesised'].head(n_synthesised)\n",
        "    real = df[df['class_name'] == 'real'].head(n_real)\n",
        "    converted = df[df['class_name'] == 'converted'].head(n_converted)\n",
        "    replay = df[df['class_name'] == 'replay'].head(n_replay)\n",
        "    return pd.concat([synthesised, real, converted, replay])\n",
        "\n",
        "# Directory and protocol definitions\n",
        "base_path = '/content/drive/MyDrive/dataset/LA'\n",
        "protocol_dir = os.path.join(base_path, 'ASVspoof2019_LA_cm_protocols')\n",
        "train_dir = os.path.join(base_path, 'ASVspoof2019_LA_train', 'flac')\n",
        "dev_dir = os.path.join(base_path, 'ASVspoof2019_LA_dev', 'flac')\n",
        "eval_dir = os.path.join(base_path, 'ASVspoof2019_LA_eval', 'flac')\n",
        "\n",
        "# Create DataFrames for each dataset\n",
        "train_df = read_dataset(os.path.join(protocol_dir, 'ASVspoof2019.LA.cm.train.trn.txt'), train_dir)\n",
        "dev_df = read_dataset(os.path.join(protocol_dir, 'ASVspoof2019.LA.cm.dev.trl.txt'), dev_dir)\n",
        "eval_df = read_dataset(os.path.join(protocol_dir, 'ASVspoof2019.LA.cm.eval.trl.txt'), eval_dir)\n",
        "\n",
        "# Add columns to each DataFrame\n",
        "train_df = add_columns(train_df, 'train')\n",
        "dev_df = add_columns(dev_df, 'dev')\n",
        "eval_df = add_columns(eval_df, 'eval')\n",
        "\n",
        "# Take samples from each DataFrame by a different number\n",
        "train_df = sample_data_multiclass(train_df, 175, 175, 175,175)\n",
        "dev_df = sample_data_multiclass(dev_df, 37, 37, 37,37)\n",
        "eval_df = sample_data_multiclass(eval_df, 37, 37, 37,37)"
      ],
      "metadata": {
        "id": "BqBk4VejxZRn"
      },
      "execution_count": 7,
      "outputs": []
    },
    {
      "cell_type": "code",
      "source": [
        "#Combine three dataframes into one dataframe\n",
        "data_df = pd.concat([train_df, dev_df, eval_df], ignore_index=True)"
      ],
      "metadata": {
        "id": "P-B03xmtyEQP"
      },
      "execution_count": 8,
      "outputs": []
    },
    {
      "cell_type": "code",
      "source": [
        "data_df.head(len(data_df))"
      ],
      "metadata": {
        "colab": {
          "base_uri": "https://localhost:8080/",
          "height": 423
        },
        "id": "t_zIIPIQxZUg",
        "outputId": "1a579878-bd7b-40f8-8310-e12102a78087"
      },
      "execution_count": 9,
      "outputs": [
        {
          "output_type": "execute_result",
          "data": {
            "text/plain": [
              "    speaker_id      filename system_id   class_name  \\\n",
              "0      LA_0098  LA_T_1000648         -  synthesised   \n",
              "1      LA_0090  LA_T_1001169         -  synthesised   \n",
              "2      LA_0098  LA_T_1001718         -  synthesised   \n",
              "3      LA_0085  LA_T_1002656         -  synthesised   \n",
              "4      LA_0085  LA_T_1004407         -  synthesised   \n",
              "..         ...           ...       ...          ...   \n",
              "991    PA_0084  PA_T_0005512       aaa       replay   \n",
              "992    PA_0084  PA_T_0005513       aaa       replay   \n",
              "993    PA_0084  PA_T_0005514       aaa       replay   \n",
              "994    PA_0084  PA_T_0005515       aaa       replay   \n",
              "995    PA_0084  PA_T_0005516       aaa       replay   \n",
              "\n",
              "                                              filepath  target subset  \n",
              "0    /content/drive/MyDrive/dataset/LA/ASVspoof2019...       1  train  \n",
              "1    /content/drive/MyDrive/dataset/LA/ASVspoof2019...       1  train  \n",
              "2    /content/drive/MyDrive/dataset/LA/ASVspoof2019...       1  train  \n",
              "3    /content/drive/MyDrive/dataset/LA/ASVspoof2019...       1  train  \n",
              "4    /content/drive/MyDrive/dataset/LA/ASVspoof2019...       1  train  \n",
              "..                                                 ...     ...    ...  \n",
              "991  /content/drive/MyDrive/dataset/LA/ASVspoof2019...       3   eval  \n",
              "992  /content/drive/MyDrive/dataset/LA/ASVspoof2019...       3   eval  \n",
              "993  /content/drive/MyDrive/dataset/LA/ASVspoof2019...       3   eval  \n",
              "994  /content/drive/MyDrive/dataset/LA/ASVspoof2019...       3   eval  \n",
              "995  /content/drive/MyDrive/dataset/LA/ASVspoof2019...       3   eval  \n",
              "\n",
              "[996 rows x 7 columns]"
            ],
            "text/html": [
              "\n",
              "  <div id=\"df-6e448451-6f7c-4d85-bd9e-5ec092e703e2\" class=\"colab-df-container\">\n",
              "    <div>\n",
              "<style scoped>\n",
              "    .dataframe tbody tr th:only-of-type {\n",
              "        vertical-align: middle;\n",
              "    }\n",
              "\n",
              "    .dataframe tbody tr th {\n",
              "        vertical-align: top;\n",
              "    }\n",
              "\n",
              "    .dataframe thead th {\n",
              "        text-align: right;\n",
              "    }\n",
              "</style>\n",
              "<table border=\"1\" class=\"dataframe\">\n",
              "  <thead>\n",
              "    <tr style=\"text-align: right;\">\n",
              "      <th></th>\n",
              "      <th>speaker_id</th>\n",
              "      <th>filename</th>\n",
              "      <th>system_id</th>\n",
              "      <th>class_name</th>\n",
              "      <th>filepath</th>\n",
              "      <th>target</th>\n",
              "      <th>subset</th>\n",
              "    </tr>\n",
              "  </thead>\n",
              "  <tbody>\n",
              "    <tr>\n",
              "      <th>0</th>\n",
              "      <td>LA_0098</td>\n",
              "      <td>LA_T_1000648</td>\n",
              "      <td>-</td>\n",
              "      <td>synthesised</td>\n",
              "      <td>/content/drive/MyDrive/dataset/LA/ASVspoof2019...</td>\n",
              "      <td>1</td>\n",
              "      <td>train</td>\n",
              "    </tr>\n",
              "    <tr>\n",
              "      <th>1</th>\n",
              "      <td>LA_0090</td>\n",
              "      <td>LA_T_1001169</td>\n",
              "      <td>-</td>\n",
              "      <td>synthesised</td>\n",
              "      <td>/content/drive/MyDrive/dataset/LA/ASVspoof2019...</td>\n",
              "      <td>1</td>\n",
              "      <td>train</td>\n",
              "    </tr>\n",
              "    <tr>\n",
              "      <th>2</th>\n",
              "      <td>LA_0098</td>\n",
              "      <td>LA_T_1001718</td>\n",
              "      <td>-</td>\n",
              "      <td>synthesised</td>\n",
              "      <td>/content/drive/MyDrive/dataset/LA/ASVspoof2019...</td>\n",
              "      <td>1</td>\n",
              "      <td>train</td>\n",
              "    </tr>\n",
              "    <tr>\n",
              "      <th>3</th>\n",
              "      <td>LA_0085</td>\n",
              "      <td>LA_T_1002656</td>\n",
              "      <td>-</td>\n",
              "      <td>synthesised</td>\n",
              "      <td>/content/drive/MyDrive/dataset/LA/ASVspoof2019...</td>\n",
              "      <td>1</td>\n",
              "      <td>train</td>\n",
              "    </tr>\n",
              "    <tr>\n",
              "      <th>4</th>\n",
              "      <td>LA_0085</td>\n",
              "      <td>LA_T_1004407</td>\n",
              "      <td>-</td>\n",
              "      <td>synthesised</td>\n",
              "      <td>/content/drive/MyDrive/dataset/LA/ASVspoof2019...</td>\n",
              "      <td>1</td>\n",
              "      <td>train</td>\n",
              "    </tr>\n",
              "    <tr>\n",
              "      <th>...</th>\n",
              "      <td>...</td>\n",
              "      <td>...</td>\n",
              "      <td>...</td>\n",
              "      <td>...</td>\n",
              "      <td>...</td>\n",
              "      <td>...</td>\n",
              "      <td>...</td>\n",
              "    </tr>\n",
              "    <tr>\n",
              "      <th>991</th>\n",
              "      <td>PA_0084</td>\n",
              "      <td>PA_T_0005512</td>\n",
              "      <td>aaa</td>\n",
              "      <td>replay</td>\n",
              "      <td>/content/drive/MyDrive/dataset/LA/ASVspoof2019...</td>\n",
              "      <td>3</td>\n",
              "      <td>eval</td>\n",
              "    </tr>\n",
              "    <tr>\n",
              "      <th>992</th>\n",
              "      <td>PA_0084</td>\n",
              "      <td>PA_T_0005513</td>\n",
              "      <td>aaa</td>\n",
              "      <td>replay</td>\n",
              "      <td>/content/drive/MyDrive/dataset/LA/ASVspoof2019...</td>\n",
              "      <td>3</td>\n",
              "      <td>eval</td>\n",
              "    </tr>\n",
              "    <tr>\n",
              "      <th>993</th>\n",
              "      <td>PA_0084</td>\n",
              "      <td>PA_T_0005514</td>\n",
              "      <td>aaa</td>\n",
              "      <td>replay</td>\n",
              "      <td>/content/drive/MyDrive/dataset/LA/ASVspoof2019...</td>\n",
              "      <td>3</td>\n",
              "      <td>eval</td>\n",
              "    </tr>\n",
              "    <tr>\n",
              "      <th>994</th>\n",
              "      <td>PA_0084</td>\n",
              "      <td>PA_T_0005515</td>\n",
              "      <td>aaa</td>\n",
              "      <td>replay</td>\n",
              "      <td>/content/drive/MyDrive/dataset/LA/ASVspoof2019...</td>\n",
              "      <td>3</td>\n",
              "      <td>eval</td>\n",
              "    </tr>\n",
              "    <tr>\n",
              "      <th>995</th>\n",
              "      <td>PA_0084</td>\n",
              "      <td>PA_T_0005516</td>\n",
              "      <td>aaa</td>\n",
              "      <td>replay</td>\n",
              "      <td>/content/drive/MyDrive/dataset/LA/ASVspoof2019...</td>\n",
              "      <td>3</td>\n",
              "      <td>eval</td>\n",
              "    </tr>\n",
              "  </tbody>\n",
              "</table>\n",
              "<p>996 rows × 7 columns</p>\n",
              "</div>\n",
              "    <div class=\"colab-df-buttons\">\n",
              "\n",
              "  <div class=\"colab-df-container\">\n",
              "    <button class=\"colab-df-convert\" onclick=\"convertToInteractive('df-6e448451-6f7c-4d85-bd9e-5ec092e703e2')\"\n",
              "            title=\"Convert this dataframe to an interactive table.\"\n",
              "            style=\"display:none;\">\n",
              "\n",
              "  <svg xmlns=\"http://www.w3.org/2000/svg\" height=\"24px\" viewBox=\"0 -960 960 960\">\n",
              "    <path d=\"M120-120v-720h720v720H120Zm60-500h600v-160H180v160Zm220 220h160v-160H400v160Zm0 220h160v-160H400v160ZM180-400h160v-160H180v160Zm440 0h160v-160H620v160ZM180-180h160v-160H180v160Zm440 0h160v-160H620v160Z\"/>\n",
              "  </svg>\n",
              "    </button>\n",
              "\n",
              "  <style>\n",
              "    .colab-df-container {\n",
              "      display:flex;\n",
              "      gap: 12px;\n",
              "    }\n",
              "\n",
              "    .colab-df-convert {\n",
              "      background-color: #E8F0FE;\n",
              "      border: none;\n",
              "      border-radius: 50%;\n",
              "      cursor: pointer;\n",
              "      display: none;\n",
              "      fill: #1967D2;\n",
              "      height: 32px;\n",
              "      padding: 0 0 0 0;\n",
              "      width: 32px;\n",
              "    }\n",
              "\n",
              "    .colab-df-convert:hover {\n",
              "      background-color: #E2EBFA;\n",
              "      box-shadow: 0px 1px 2px rgba(60, 64, 67, 0.3), 0px 1px 3px 1px rgba(60, 64, 67, 0.15);\n",
              "      fill: #174EA6;\n",
              "    }\n",
              "\n",
              "    .colab-df-buttons div {\n",
              "      margin-bottom: 4px;\n",
              "    }\n",
              "\n",
              "    [theme=dark] .colab-df-convert {\n",
              "      background-color: #3B4455;\n",
              "      fill: #D2E3FC;\n",
              "    }\n",
              "\n",
              "    [theme=dark] .colab-df-convert:hover {\n",
              "      background-color: #434B5C;\n",
              "      box-shadow: 0px 1px 3px 1px rgba(0, 0, 0, 0.15);\n",
              "      filter: drop-shadow(0px 1px 2px rgba(0, 0, 0, 0.3));\n",
              "      fill: #FFFFFF;\n",
              "    }\n",
              "  </style>\n",
              "\n",
              "    <script>\n",
              "      const buttonEl =\n",
              "        document.querySelector('#df-6e448451-6f7c-4d85-bd9e-5ec092e703e2 button.colab-df-convert');\n",
              "      buttonEl.style.display =\n",
              "        google.colab.kernel.accessAllowed ? 'block' : 'none';\n",
              "\n",
              "      async function convertToInteractive(key) {\n",
              "        const element = document.querySelector('#df-6e448451-6f7c-4d85-bd9e-5ec092e703e2');\n",
              "        const dataTable =\n",
              "          await google.colab.kernel.invokeFunction('convertToInteractive',\n",
              "                                                    [key], {});\n",
              "        if (!dataTable) return;\n",
              "\n",
              "        const docLinkHtml = 'Like what you see? Visit the ' +\n",
              "          '<a target=\"_blank\" href=https://colab.research.google.com/notebooks/data_table.ipynb>data table notebook</a>'\n",
              "          + ' to learn more about interactive tables.';\n",
              "        element.innerHTML = '';\n",
              "        dataTable['output_type'] = 'display_data';\n",
              "        await google.colab.output.renderOutput(dataTable, element);\n",
              "        const docLink = document.createElement('div');\n",
              "        docLink.innerHTML = docLinkHtml;\n",
              "        element.appendChild(docLink);\n",
              "      }\n",
              "    </script>\n",
              "  </div>\n",
              "\n",
              "\n",
              "<div id=\"df-87be8fd2-7bea-4be7-8a4b-d220b779b2b2\">\n",
              "  <button class=\"colab-df-quickchart\" onclick=\"quickchart('df-87be8fd2-7bea-4be7-8a4b-d220b779b2b2')\"\n",
              "            title=\"Suggest charts\"\n",
              "            style=\"display:none;\">\n",
              "\n",
              "<svg xmlns=\"http://www.w3.org/2000/svg\" height=\"24px\"viewBox=\"0 0 24 24\"\n",
              "     width=\"24px\">\n",
              "    <g>\n",
              "        <path d=\"M19 3H5c-1.1 0-2 .9-2 2v14c0 1.1.9 2 2 2h14c1.1 0 2-.9 2-2V5c0-1.1-.9-2-2-2zM9 17H7v-7h2v7zm4 0h-2V7h2v10zm4 0h-2v-4h2v4z\"/>\n",
              "    </g>\n",
              "</svg>\n",
              "  </button>\n",
              "\n",
              "<style>\n",
              "  .colab-df-quickchart {\n",
              "      --bg-color: #E8F0FE;\n",
              "      --fill-color: #1967D2;\n",
              "      --hover-bg-color: #E2EBFA;\n",
              "      --hover-fill-color: #174EA6;\n",
              "      --disabled-fill-color: #AAA;\n",
              "      --disabled-bg-color: #DDD;\n",
              "  }\n",
              "\n",
              "  [theme=dark] .colab-df-quickchart {\n",
              "      --bg-color: #3B4455;\n",
              "      --fill-color: #D2E3FC;\n",
              "      --hover-bg-color: #434B5C;\n",
              "      --hover-fill-color: #FFFFFF;\n",
              "      --disabled-bg-color: #3B4455;\n",
              "      --disabled-fill-color: #666;\n",
              "  }\n",
              "\n",
              "  .colab-df-quickchart {\n",
              "    background-color: var(--bg-color);\n",
              "    border: none;\n",
              "    border-radius: 50%;\n",
              "    cursor: pointer;\n",
              "    display: none;\n",
              "    fill: var(--fill-color);\n",
              "    height: 32px;\n",
              "    padding: 0;\n",
              "    width: 32px;\n",
              "  }\n",
              "\n",
              "  .colab-df-quickchart:hover {\n",
              "    background-color: var(--hover-bg-color);\n",
              "    box-shadow: 0 1px 2px rgba(60, 64, 67, 0.3), 0 1px 3px 1px rgba(60, 64, 67, 0.15);\n",
              "    fill: var(--button-hover-fill-color);\n",
              "  }\n",
              "\n",
              "  .colab-df-quickchart-complete:disabled,\n",
              "  .colab-df-quickchart-complete:disabled:hover {\n",
              "    background-color: var(--disabled-bg-color);\n",
              "    fill: var(--disabled-fill-color);\n",
              "    box-shadow: none;\n",
              "  }\n",
              "\n",
              "  .colab-df-spinner {\n",
              "    border: 2px solid var(--fill-color);\n",
              "    border-color: transparent;\n",
              "    border-bottom-color: var(--fill-color);\n",
              "    animation:\n",
              "      spin 1s steps(1) infinite;\n",
              "  }\n",
              "\n",
              "  @keyframes spin {\n",
              "    0% {\n",
              "      border-color: transparent;\n",
              "      border-bottom-color: var(--fill-color);\n",
              "      border-left-color: var(--fill-color);\n",
              "    }\n",
              "    20% {\n",
              "      border-color: transparent;\n",
              "      border-left-color: var(--fill-color);\n",
              "      border-top-color: var(--fill-color);\n",
              "    }\n",
              "    30% {\n",
              "      border-color: transparent;\n",
              "      border-left-color: var(--fill-color);\n",
              "      border-top-color: var(--fill-color);\n",
              "      border-right-color: var(--fill-color);\n",
              "    }\n",
              "    40% {\n",
              "      border-color: transparent;\n",
              "      border-right-color: var(--fill-color);\n",
              "      border-top-color: var(--fill-color);\n",
              "    }\n",
              "    60% {\n",
              "      border-color: transparent;\n",
              "      border-right-color: var(--fill-color);\n",
              "    }\n",
              "    80% {\n",
              "      border-color: transparent;\n",
              "      border-right-color: var(--fill-color);\n",
              "      border-bottom-color: var(--fill-color);\n",
              "    }\n",
              "    90% {\n",
              "      border-color: transparent;\n",
              "      border-bottom-color: var(--fill-color);\n",
              "    }\n",
              "  }\n",
              "</style>\n",
              "\n",
              "  <script>\n",
              "    async function quickchart(key) {\n",
              "      const quickchartButtonEl =\n",
              "        document.querySelector('#' + key + ' button');\n",
              "      quickchartButtonEl.disabled = true;  // To prevent multiple clicks.\n",
              "      quickchartButtonEl.classList.add('colab-df-spinner');\n",
              "      try {\n",
              "        const charts = await google.colab.kernel.invokeFunction(\n",
              "            'suggestCharts', [key], {});\n",
              "      } catch (error) {\n",
              "        console.error('Error during call to suggestCharts:', error);\n",
              "      }\n",
              "      quickchartButtonEl.classList.remove('colab-df-spinner');\n",
              "      quickchartButtonEl.classList.add('colab-df-quickchart-complete');\n",
              "    }\n",
              "    (() => {\n",
              "      let quickchartButtonEl =\n",
              "        document.querySelector('#df-87be8fd2-7bea-4be7-8a4b-d220b779b2b2 button');\n",
              "      quickchartButtonEl.style.display =\n",
              "        google.colab.kernel.accessAllowed ? 'block' : 'none';\n",
              "    })();\n",
              "  </script>\n",
              "</div>\n",
              "    </div>\n",
              "  </div>\n"
            ],
            "application/vnd.google.colaboratory.intrinsic+json": {
              "type": "dataframe",
              "variable_name": "data_df",
              "summary": "{\n  \"name\": \"data_df\",\n  \"rows\": 996,\n  \"fields\": [\n    {\n      \"column\": \"speaker_id\",\n      \"properties\": {\n        \"dtype\": \"category\",\n        \"num_unique_values\": 194,\n        \"samples\": [\n          \"LA_0217\",\n          \"LA_0080\",\n          \"LA_0234\"\n        ],\n        \"semantic_type\": \"\",\n        \"description\": \"\"\n      }\n    },\n    {\n      \"column\": \"filename\",\n      \"properties\": {\n        \"dtype\": \"string\",\n        \"num_unique_values\": 923,\n        \"samples\": [\n          \"LA_T_1511191\",\n          \"LA_T_8276365\",\n          \"LA_T_1056709\"\n        ],\n        \"semantic_type\": \"\",\n        \"description\": \"\"\n      }\n    },\n    {\n      \"column\": \"system_id\",\n      \"properties\": {\n        \"dtype\": \"category\",\n        \"num_unique_values\": 2,\n        \"samples\": [\n          \"aaa\",\n          \"-\"\n        ],\n        \"semantic_type\": \"\",\n        \"description\": \"\"\n      }\n    },\n    {\n      \"column\": \"class_name\",\n      \"properties\": {\n        \"dtype\": \"category\",\n        \"num_unique_values\": 4,\n        \"samples\": [\n          \"real\",\n          \"replay\"\n        ],\n        \"semantic_type\": \"\",\n        \"description\": \"\"\n      }\n    },\n    {\n      \"column\": \"filepath\",\n      \"properties\": {\n        \"dtype\": \"string\",\n        \"num_unique_values\": 996,\n        \"samples\": [\n          \"/content/drive/MyDrive/dataset/LA/ASVspoof2019_LA_dev/flac/PA_T_0005561.flac\",\n          \"/content/drive/MyDrive/dataset/LA/ASVspoof2019_LA_eval/flac/PA_T_0005491.flac\"\n        ],\n        \"semantic_type\": \"\",\n        \"description\": \"\"\n      }\n    },\n    {\n      \"column\": \"target\",\n      \"properties\": {\n        \"dtype\": \"number\",\n        \"std\": 1,\n        \"min\": 0,\n        \"max\": 3,\n        \"num_unique_values\": 4,\n        \"samples\": [\n          0,\n          3\n        ],\n        \"semantic_type\": \"\",\n        \"description\": \"\"\n      }\n    },\n    {\n      \"column\": \"subset\",\n      \"properties\": {\n        \"dtype\": \"category\",\n        \"num_unique_values\": 3,\n        \"samples\": [\n          \"train\",\n          \"dev\"\n        ],\n        \"semantic_type\": \"\",\n        \"description\": \"\"\n      }\n    }\n  ]\n}"
            }
          },
          "metadata": {},
          "execution_count": 9
        }
      ]
    },
    {
      "cell_type": "code",
      "source": [],
      "metadata": {
        "id": "Hi5TmYRqNzJX"
      },
      "execution_count": null,
      "outputs": []
    },
    {
      "cell_type": "markdown",
      "source": [
        "# Feature extraction"
      ],
      "metadata": {
        "id": "mrFppsXRNhZw"
      }
    },
    {
      "cell_type": "code",
      "source": [
        "import librosa\n",
        "\n",
        "def audio_to_spectrogram(filepath):\n",
        "    # Load audio file using librosa\n",
        "    audio, sample_rate = librosa.load(filepath)\n",
        "\n",
        "    # Normalize the audio\n",
        "    audio_norm = (audio - np.min(audio)) / (np.max(audio) - np.min(audio))\n",
        "    # A spectrogram is a visual representation of the spectrum of frequencies of a signal as it varies with time.\n",
        "    # Compute the spectrogram using librosa\n",
        "    spectrogram = librosa.feature.melspectrogram(y=audio_norm, sr=sample_rate)\n",
        "\n",
        "    # Convert the spectrogram to decibels\n",
        "    spectrogram_db = librosa.power_to_db(spectrogram, ref=np.max)\n",
        "\n",
        "    # Add channel dimension\n",
        "    spectrogram_db = np.expand_dims(spectrogram_db, axis=-1)\n",
        "\n",
        "    # Resize spectrogram to the specified size\n",
        "    image = tf.image.resize(spectrogram_db, [SPEC_WIDTH, N_MELS])\n",
        "\n",
        "    return image\n",
        "\n",
        "# Adding the spectrogram column to the DataFrame\n",
        "data_df['spectrogram'] = data_df['filepath'].apply(audio_to_spectrogram)\n"
      ],
      "metadata": {
        "id": "aoOEEboxxZXB"
      },
      "execution_count": 10,
      "outputs": []
    },
    {
      "cell_type": "code",
      "source": [
        "# Splitting the data based on the 'subset' column\n",
        "train_data = data_df[data_df['subset'] == 'train']\n",
        "dev_data = data_df[data_df['subset'] == 'dev']\n",
        "eval_data = data_df[data_df['subset'] == 'eval']\n",
        "\n",
        "# Converting the list of spectrograms into NumPy arrays\n",
        "X_train = np.stack(train_data['spectrogram'].to_list())\n",
        "X_dev = np.stack(dev_data['spectrogram'].to_list())\n",
        "X_eval = np.stack(eval_data['spectrogram'].to_list())\n",
        "\n",
        "# Converting target into NumPy arrays\n",
        "y_train = train_data['target'].to_numpy()\n",
        "y_dev = dev_data['target'].to_numpy()\n",
        "y_eval = eval_data['target'].to_numpy()"
      ],
      "metadata": {
        "id": "gGCAy3O-xZZc"
      },
      "execution_count": 11,
      "outputs": []
    },
    {
      "cell_type": "code",
      "source": [
        "print(f\"X_train shape: {X_train.shape}\")\n",
        "print(f\"y_train shape: {y_train.shape}\")#Contains target labels\n",
        "print(f\"X_dev shape: {X_dev.shape}\")\n",
        "print(f\"y_dev shape: {y_dev.shape}\")\n",
        "print(f\"X_eval shape: {X_eval.shape}\")\n",
        "print(f\"y_eval shape: {y_eval.shape}\")"
      ],
      "metadata": {
        "id": "LWRLTHXMxZb-",
        "colab": {
          "base_uri": "https://localhost:8080/",
          "height": 0
        },
        "outputId": "e6fd1b48-9abd-4e2a-b1fa-c1c41bce140f"
      },
      "execution_count": 12,
      "outputs": [
        {
          "output_type": "stream",
          "name": "stdout",
          "text": [
            "X_train shape: (700, 256, 128, 1)\n",
            "y_train shape: (700,)\n",
            "X_dev shape: (148, 256, 128, 1)\n",
            "y_dev shape: (148,)\n",
            "X_eval shape: (148, 256, 128, 1)\n",
            "y_eval shape: (148,)\n"
          ]
        }
      ]
    },
    {
      "cell_type": "markdown",
      "source": [
        "# CNN Model (Multiclass)"
      ],
      "metadata": {
        "id": "T2ejNLzSN7ol"
      }
    },
    {
      "cell_type": "code",
      "source": [
        "from tensorflow.keras.optimizers import Adam\n",
        "\n",
        "def cnn_model(input_shape, num_classes):\n",
        "    model = Sequential()\n",
        "    # 1st conv layer\n",
        "    model.add(Conv2D(32, (3, 3), activation='relu', input_shape=input_shape))\n",
        "    model.add(MaxPooling2D((3, 3), strides=(2, 2), padding='same'))\n",
        "    model.add(BatchNormalization())\n",
        "    # 2nd conv layer\n",
        "    model.add(Conv2D(32, (3, 3), activation='relu'))\n",
        "    model.add(MaxPooling2D((3, 3), strides=(2, 2), padding='same'))\n",
        "    model.add(BatchNormalization())\n",
        "    # 3rd conv layer\n",
        "    model.add(Conv2D(32, (2, 2), activation='relu'))\n",
        "    model.add(MaxPooling2D((2, 2), strides=(2, 2), padding='same'))\n",
        "    model.add(BatchNormalization())\n",
        "    # 4th conv layer\n",
        "    model.add(Conv2D(64, (2, 2), activation='relu'))\n",
        "    model.add(MaxPooling2D((2, 2), strides=(2, 2), padding='same'))\n",
        "    model.add(BatchNormalization())\n",
        "    model.add(Flatten())\n",
        "    model.add(Dense(64, activation='relu'))\n",
        "    model.add(Dropout(0.3))\n",
        "    # Additional dense layer\n",
        "    model.add(Dense(32, activation='relu'))\n",
        "    model.add(Dropout(0.3))\n",
        "    # Output layer for multiclass classification\n",
        "    model.add(Dense(num_classes, activation='softmax'))\n",
        "    # Compile the model with Adam optimizer\n",
        "    optimizer = Adam(learning_rate=LEARNING_RATE)\n",
        "    model.compile(loss='categorical_crossentropy', optimizer=optimizer, metrics=['accuracy'])\n",
        "    return model\n",
        "\n",
        "# Convert target labels to one-hot encoding for multiclass classification\n",
        "from tensorflow.keras.utils import to_categorical\n",
        "\n",
        "# Convert target labels to one-hot encoding\n",
        "y_train_categorical = to_categorical(y_train, num_classes=NUM_CLASSES)\n",
        "y_dev_categorical = to_categorical(y_dev, num_classes=NUM_CLASSES)\n",
        "y_eval_categorical = to_categorical(y_eval, num_classes=NUM_CLASSES)\n",
        "\n",
        "# Create the multiclass CNN model with Adam optimizer\n",
        "multiclass_cnn_model =cnn_model((X_train.shape[1], X_train.shape[2], 1), NUM_CLASSES)\n",
        "\n",
        "# Train the multiclass CNN model\n",
        "multiclass_cnn_model.fit(X_train, y_train_categorical, epochs=50, batch_size=16)\n",
        "\n",
        "# Compute accuracy on training data\n",
        "train_accuracy = multiclass_cnn_model.evaluate(X_train, y_train_categorical)[1]\n",
        "print(f\"Accuracy on training data: {train_accuracy * 100:.2f}%\")\n",
        "\n",
        "# Compute accuracy on validation data\n",
        "val_accuracy = multiclass_cnn_model.evaluate(X_dev, y_dev_categorical)[1]\n",
        "print(f'Accuracy on validation data: {val_accuracy * 100:.2f}%')\n",
        "\n",
        "# Compute accuracy on test data\n",
        "test_accuracy = multiclass_cnn_model.evaluate(X_eval, y_eval_categorical)[1]\n",
        "print(f'Accuracy on test data: {test_accuracy * 100:.2f}%')\n"
      ],
      "metadata": {
        "id": "di09nrZQxZez"
      },
      "execution_count": null,
      "outputs": []
    },
    {
      "cell_type": "code",
      "source": [
        "# Save the model\n",
        "multiclass_cnn_model.save('/content/drive/MyDrive/save/voice-spoofing-detection-using-cnn-Multiclass.h5')"
      ],
      "metadata": {
        "colab": {
          "base_uri": "https://localhost:8080/"
        },
        "id": "NElZsXY5kekj",
        "outputId": "45abf846-a7b2-480a-98c2-49b0ca5f4328"
      },
      "execution_count": null,
      "outputs": [
        {
          "output_type": "stream",
          "name": "stderr",
          "text": [
            "/usr/local/lib/python3.10/dist-packages/keras/src/engine/training.py:3103: UserWarning: You are saving your model as an HDF5 file via `model.save()`. This file format is considered legacy. We recommend using instead the native Keras format, e.g. `model.save('my_model.keras')`.\n",
            "  saving_api.save_model(\n"
          ]
        }
      ]
    },
    {
      "cell_type": "code",
      "source": [
        "import os\n",
        "from tensorflow.keras.models import load_model\n",
        "sample_audio_file_path = \"/content/drive/MyDrive/dataset/LA/ASVspoof2019_LA_eval/flac/LA_T_6904517.flac\"\n",
        "\n",
        "print(\"Sample audio file:\", sample_audio_file_path)\n",
        "model_path = \"/content/drive/MyDrive/save/voice-spoofing-detection-using-cnn-Multiclass.h5\"  # Replace with actual path\n",
        "multiclass_cnn_model = load_model(model_path)\n",
        "# Creating spectrogram for the sample audio file\n",
        "sample_audio_spectrogram = audio_to_spectrogram(sample_audio_file_path)\n",
        "X_new = np.expand_dims(sample_audio_spectrogram, axis=0)\n",
        "\n",
        "# Performing prediction\n",
        "y_pred = multiclass_cnn_model.predict(X_new)\n",
        "\n",
        "# Convert probabilities to classes by selecting the class with the highest probability\n",
        "y_pred_classes = np.argmax(y_pred, axis=1)\n",
        "\n",
        "# Map predicted classes to labels\n",
        "class_labels = ['real', 'synthesised', 'converted','replay']  # Update with your actual class labels\n",
        "y_pred_labels = [class_labels[pred] for pred in y_pred_classes]\n",
        "print(\"Predicted class:\", y_pred_labels[0])"
      ],
      "metadata": {
        "id": "EnhgVQbMxZhR",
        "colab": {
          "base_uri": "https://localhost:8080/"
        },
        "outputId": "150ceefe-fc5d-44ca-c04a-03056df4d84b"
      },
      "execution_count": null,
      "outputs": [
        {
          "output_type": "stream",
          "name": "stdout",
          "text": [
            "Sample audio file: /content/drive/MyDrive/dataset/LA/ASVspoof2019_LA_eval/flac/LA_T_6904517.flac\n",
            "1/1 [==============================] - 0s 137ms/step\n",
            "Predicted class: real\n"
          ]
        }
      ]
    },
    {
      "cell_type": "code",
      "source": [
        "from sklearn.metrics import confusion_matrix\n",
        "import seaborn as sns\n",
        "import matplotlib.pyplot as plt\n",
        "\n",
        "# Assuming you have X_eval and y_eval datasets for testing\n",
        "\n",
        "# Perform predictions on the evaluation set\n",
        "y_eval_pred = multiclass_cnn_model.predict(X_eval)\n",
        "y_eval_pred_classes = np.argmax(y_eval_pred, axis=1)\n",
        "\n",
        "# Calculate confusion matrix\n",
        "cm = confusion_matrix(y_eval, y_eval_pred_classes)\n",
        "\n",
        "# Create a heatmap plot\n",
        "plt.figure(figsize=(10, 7))\n",
        "sns.heatmap(cm, annot=True, fmt='d', xticklabels=class_labels, yticklabels=class_labels, cmap='Blues')\n",
        "plt.title('Confusion Matrix')\n",
        "plt.ylabel('Actual Class')\n",
        "plt.xlabel('Predicted Class')\n",
        "\n",
        "# Show the plot\n",
        "plt.show()\n"
      ],
      "metadata": {
        "colab": {
          "base_uri": "https://localhost:8080/",
          "height": 658
        },
        "id": "gzgMHXLmA1IY",
        "outputId": "644ac17b-fe41-4da2-f62f-e54c362d4ccc"
      },
      "execution_count": null,
      "outputs": [
        {
          "output_type": "stream",
          "name": "stdout",
          "text": [
            "5/5 [==============================] - 0s 8ms/step\n"
          ]
        },
        {
          "output_type": "display_data",
          "data": {
            "text/plain": [
              "<Figure size 1000x700 with 2 Axes>"
            ],
            "image/png": "[encoded data removed]"
          },
          "metadata": {}
        }
      ]
    },
    {
      "cell_type": "markdown",
      "source": [
        "# LSTM Model"
      ],
      "metadata": {
        "id": "eXTIk5dYOKCv"
      }
    },
    {
      "cell_type": "code",
      "source": [
        "from tensorflow.keras.optimizers import Adam\n",
        "import numpy as np\n",
        "import pandas as pd\n",
        "import tensorflow as tf\n",
        "from tensorflow.keras.models import Sequential\n",
        "from tensorflow.keras.layers import LSTM, Dropout, Dense\n",
        "from sklearn.model_selection import train_test_split\n",
        "from sklearn.preprocessing import LabelEncoder\n",
        "from sklearn.metrics import classification_report\n",
        "\n",
        "# architecture of the Sequential LSTM model\n",
        "model = Sequential([\n",
        "    LSTM(128, input_shape=(X_train.shape[1], X_train.shape[2]), return_sequences=True),\n",
        "    Dropout(0.2),\n",
        "    LSTM(128, return_sequences=True),\n",
        "    Dropout(0.2),\n",
        "    LSTM(128),\n",
        "    Dropout(0.2),\n",
        "    Dense(4, activation='softmax')  # Assuming 4 classes for multiclass classification\n",
        "])\n",
        "\n",
        "# Compile the model\n",
        "learning_rate = 0.0001  # Adjust the learning rate as needed\n",
        "\n",
        "# Compile the model with custom learning rate\n",
        "optimizer = Adam(learning_rate=learning_rate)\n",
        "model.compile(optimizer=optimizer, loss='sparse_categorical_crossentropy', metrics=['accuracy'])\n",
        "# Train the model\n",
        "history = model.fit(X_train, y_train, epochs=80, batch_size=8, validation_data=(X_eval, y_eval))\n",
        "\n",
        "# Evaluate the model\n",
        "loss, accuracy = model.evaluate(X_eval, y_eval)\n",
        "print(f'Test Loss: {loss}, Test Accuracy: {accuracy}')\n",
        "\n",
        "\n"
      ],
      "metadata": {
        "id": "xqBnjIYRxZlF",
        "colab": {
          "base_uri": "https://localhost:8080/",
          "height": 0
        },
        "outputId": "09fbfc01-643b-4fd2-f67d-99f71fa70d11"
      },
      "execution_count": null,
      "outputs": [
        {
          "output_type": "stream",
          "name": "stdout",
          "text": [
            "Epoch 1/80\n",
            "88/88 [==============================] - 92s 954ms/step - loss: 1.2349 - accuracy: 0.4057 - val_loss: 1.0807 - val_accuracy: 0.5068\n",
            "Epoch 2/80\n",
            "88/88 [==============================] - 56s 633ms/step - loss: 1.0681 - accuracy: 0.4800 - val_loss: 0.9732 - val_accuracy: 0.4662\n",
            "Epoch 3/80\n",
            "88/88 [==============================] - 56s 642ms/step - loss: 1.0258 - accuracy: 0.5157 - val_loss: 0.9582 - val_accuracy: 0.5473\n",
            "Epoch 4/80\n",
            "88/88 [==============================] - 57s 652ms/step - loss: 0.9993 - accuracy: 0.5086 - val_loss: 0.9063 - val_accuracy: 0.5405\n",
            "Epoch 5/80\n",
            "88/88 [==============================] - 58s 658ms/step - loss: 0.9512 - accuracy: 0.5086 - val_loss: 0.9101 - val_accuracy: 0.5338\n",
            "Epoch 6/80\n",
            "88/88 [==============================] - 55s 631ms/step - loss: 0.9049 - accuracy: 0.5543 - val_loss: 0.8796 - val_accuracy: 0.5743\n",
            "Epoch 7/80\n",
            "88/88 [==============================] - 55s 626ms/step - loss: 0.9420 - accuracy: 0.5314 - val_loss: 1.0391 - val_accuracy: 0.5203\n",
            "Epoch 8/80\n",
            "88/88 [==============================] - 54s 616ms/step - loss: 0.9026 - accuracy: 0.5400 - val_loss: 0.9088 - val_accuracy: 0.5541\n",
            "Epoch 9/80\n",
            "88/88 [==============================] - 54s 614ms/step - loss: 0.9159 - accuracy: 0.5400 - val_loss: 0.8802 - val_accuracy: 0.5608\n",
            "Epoch 10/80\n",
            "88/88 [==============================] - 55s 619ms/step - loss: 0.8856 - accuracy: 0.5743 - val_loss: 0.9086 - val_accuracy: 0.5608\n",
            "Epoch 11/80\n",
            "88/88 [==============================] - 55s 631ms/step - loss: 0.8766 - accuracy: 0.5814 - val_loss: 0.9036 - val_accuracy: 0.6081\n",
            "Epoch 12/80\n",
            "88/88 [==============================] - 55s 631ms/step - loss: 0.9670 - accuracy: 0.5357 - val_loss: 0.9098 - val_accuracy: 0.6486\n",
            "Epoch 13/80\n",
            "88/88 [==============================] - 55s 629ms/step - loss: 0.9445 - accuracy: 0.5314 - val_loss: 1.0459 - val_accuracy: 0.6149\n",
            "Epoch 14/80\n",
            "88/88 [==============================] - 55s 628ms/step - loss: 0.8825 - accuracy: 0.5414 - val_loss: 0.8306 - val_accuracy: 0.6216\n",
            "Epoch 15/80\n",
            "88/88 [==============================] - 56s 632ms/step - loss: 0.8677 - accuracy: 0.5757 - val_loss: 0.8692 - val_accuracy: 0.6284\n",
            "Epoch 16/80\n",
            "88/88 [==============================] - 55s 627ms/step - loss: 0.8407 - accuracy: 0.6057 - val_loss: 0.8097 - val_accuracy: 0.6351\n",
            "Epoch 17/80\n",
            "88/88 [==============================] - 57s 648ms/step - loss: 0.8355 - accuracy: 0.5814 - val_loss: 0.7867 - val_accuracy: 0.6419\n",
            "Epoch 18/80\n",
            "88/88 [==============================] - 57s 652ms/step - loss: 0.8110 - accuracy: 0.6314 - val_loss: 0.8730 - val_accuracy: 0.5743\n",
            "Epoch 19/80\n",
            "88/88 [==============================] - 55s 622ms/step - loss: 0.8316 - accuracy: 0.6214 - val_loss: 0.8015 - val_accuracy: 0.6486\n",
            "Epoch 20/80\n",
            "88/88 [==============================] - 56s 637ms/step - loss: 0.8516 - accuracy: 0.6157 - val_loss: 0.8192 - val_accuracy: 0.6014\n",
            "Epoch 21/80\n",
            "88/88 [==============================] - 56s 642ms/step - loss: 0.8501 - accuracy: 0.6057 - val_loss: 0.7863 - val_accuracy: 0.6554\n",
            "Epoch 22/80\n",
            "48/88 [===============>..............] - ETA: 23s - loss: 0.7939 - accuracy: 0.6302"
          ]
        }
      ]
    },
    {
      "cell_type": "code",
      "source": [
        "model.save('/content/drive/MyDrive/save/voice-spoofing-detection-using-lstm-Multiclass.h5')"
      ],
      "metadata": {
        "id": "7hZxJL2jObet"
      },
      "execution_count": null,
      "outputs": []
    },
    {
      "cell_type": "code",
      "source": [
        "\n",
        "import os\n",
        "from tensorflow.keras.models import load_model\n",
        "\n",
        "model_path = \"/content/drive/MyDrive/save/voice-spoofing-detection-using-lstm-Multiclass.h5\"\n",
        "\n",
        "model = load_model(model_path)\n",
        "\n",
        "# add code to load model\n",
        "\n",
        "\n",
        "sample_audio_file_path = \"/content/drive/MyDrive/dataset/LA/ASVspoof2019_LA_eval/flac/LA_T_8487129.flac\"\n",
        "\n",
        "print(\"Sample audio file:\", sample_audio_file_path)\n",
        "# Make predictions\n",
        "sample_audio_spectrogram = audio_to_spectrogram(sample_audio_file_path)\n",
        "\n",
        "# Assuming the shape of the spectrogram is suitable for the model input\n",
        "X_new = np.expand_dims(sample_audio_spectrogram, axis=0)\n",
        "\n",
        "# Performing prediction\n",
        "y_pred = model.predict(X_new)\n",
        "\n",
        "# Convert probabilities to classes by selecting the class with the highest probability\n",
        "y_pred_classes = np.argmax(y_pred, axis=1)\n",
        "\n",
        "# Map predicted classes to labels\n",
        "class_labels = ['real', 'synthesised', 'converted','replay']  # Update with your actual class labels\n",
        "y_pred_labels = [class_labels[pred] for pred in y_pred_classes]\n",
        "\n",
        "print(\"Predicted class:\", y_pred_labels[0])\n",
        "\n"
      ],
      "metadata": {
        "colab": {
          "base_uri": "https://localhost:8080/"
        },
        "id": "1-1xJj4StA0z",
        "outputId": "89cbf567-58cb-4369-e16a-d591eb18e00e"
      },
      "execution_count": null,
      "outputs": [
        {
          "output_type": "stream",
          "name": "stderr",
          "text": [
            "/usr/local/lib/python3.10/dist-packages/keras/src/engine/training.py:3103: UserWarning: You are saving your model as an HDF5 file via `model.save()`. This file format is considered legacy. We recommend using instead the native Keras format, e.g. `model.save('my_model.keras')`.\n",
            "  saving_api.save_model(\n"
          ]
        },
        {
          "output_type": "stream",
          "name": "stdout",
          "text": [
            "Sample audio file: /content/drive/MyDrive/dataset/LA/ASVspoof2019_LA_eval/flac/LA_T_8487129.flac\n",
            "1/1 [==============================] - 1s 954ms/step\n",
            "Predicted class: synthesised\n"
          ]
        }
      ]
    },
    {
      "cell_type": "code",
      "source": [
        "from sklearn.metrics import confusion_matrix\n",
        "import seaborn as sns\n",
        "import matplotlib.pyplot as plt\n",
        "\n",
        "\n",
        "# Perform predictions on the evaluation set\n",
        "y_eval_pred = model.predict(X_eval)\n",
        "y_eval_pred_classes = np.argmax(y_eval_pred, axis=1)\n",
        "\n",
        "# Calculate confusion matrix\n",
        "cm = confusion_matrix(y_eval, y_eval_pred_classes)\n",
        "\n",
        "# Create a heatmap plot\n",
        "plt.figure(figsize=(10, 7))\n",
        "sns.heatmap(cm, annot=True, fmt='d', xticklabels=class_labels, yticklabels=class_labels, cmap='Blues')\n",
        "plt.title('Confusion Matrix')\n",
        "plt.ylabel('Actual Class')\n",
        "plt.xlabel('Predicted Class')\n",
        "\n",
        "# Show the plot\n",
        "plt.show()\n"
      ],
      "metadata": {
        "colab": {
          "base_uri": "https://localhost:8080/",
          "height": 658
        },
        "id": "14xtLJyzBOUK",
        "outputId": "21e4f229-bf7c-4c59-9428-9fccc17721f6"
      },
      "execution_count": null,
      "outputs": [
        {
          "output_type": "stream",
          "name": "stdout",
          "text": [
            "5/5 [==============================] - 0s 22ms/step\n"
          ]
        },
        {
          "output_type": "display_data",
          "data": {
            "text/plain": [
              "<Figure size 1000x700 with 2 Axes>"
            ],
            "image/png": "[encoded data removed]"
          },
          "metadata": {}
        }
      ]
    },
    {
      "cell_type": "markdown",
      "source": [
        "# GRU Model"
      ],
      "metadata": {
        "id": "PKuB7q9cOkVs"
      }
    },
    {
      "cell_type": "code",
      "source": [
        "import numpy as np\n",
        "import pandas as pd\n",
        "import tensorflow as tf\n",
        "from tensorflow.keras.models import Sequential\n",
        "from tensorflow.keras.layers import GRU, Dropout, Dense\n",
        "from sklearn.model_selection import train_test_split\n",
        "from sklearn.preprocessing import LabelEncoder\n",
        "from sklearn.metrics import classification_report\n",
        "\n",
        "# Load and preprocess your dataset\n",
        "# Assuming you have X_train, X_test, y_train, y_test after preprocessing\n",
        "\n",
        "# Define the architecture of the Sequential GRU model\n",
        "model = Sequential([\n",
        "    GRU(128, input_shape=(X_train.shape[1], X_train.shape[2]), return_sequences=True),\n",
        "    Dropout(0.2),\n",
        "    GRU(128, return_sequences=True),\n",
        "    Dropout(0.2),\n",
        "    GRU(128),\n",
        "    Dropout(0.2),\n",
        "    Dense(4, activation='softmax')  # Assuming 4 classes for multiclass classification\n",
        "])\n",
        "\n",
        "# Compile the model\n",
        "learning_rate = 0.00001  # Adjust the learning rate as needed\n",
        "\n",
        "# Compile the model with custom learning rate\n",
        "optimizer = tf.keras.optimizers.Adam(learning_rate=learning_rate)\n",
        "model.compile(optimizer=optimizer, loss='sparse_categorical_crossentropy', metrics=['accuracy'])\n",
        "\n",
        "# Train the model\n",
        "history = model.fit(X_train, y_train, epochs=80, batch_size=8, validation_data=(X_eval, y_eval))\n",
        "\n",
        "# Evaluate the model\n",
        "loss, accuracy = model.evaluate(X_eval, y_eval)\n",
        "print(f'Test Loss: {loss}, Test Accuracy: {accuracy}')\n"
      ],
      "metadata": {
        "id": "NvHgggy2O7O9",
        "outputId": "c4a0cda1-3595-4a67-a587-c343f4fdefbf",
        "colab": {
          "base_uri": "https://localhost:8080/",
          "height": 0
        }
      },
      "execution_count": 17,
      "outputs": [
        {
          "output_type": "stream",
          "name": "stdout",
          "text": [
            "Epoch 1/80\n",
            "88/88 [==============================] - 60s 586ms/step - loss: 1.4528 - accuracy: 0.2386 - val_loss: 1.3824 - val_accuracy: 0.3446\n",
            "Epoch 2/80\n",
            "88/88 [==============================] - 50s 569ms/step - loss: 1.3796 - accuracy: 0.2829 - val_loss: 1.3541 - val_accuracy: 0.3446\n",
            "Epoch 3/80\n",
            "88/88 [==============================] - 49s 563ms/step - loss: 1.3786 - accuracy: 0.3043 - val_loss: 1.3335 - val_accuracy: 0.3919\n",
            "Epoch 4/80\n",
            "88/88 [==============================] - 51s 572ms/step - loss: 1.3529 - accuracy: 0.3029 - val_loss: 1.3163 - val_accuracy: 0.4054\n",
            "Epoch 5/80\n",
            "88/88 [==============================] - 51s 582ms/step - loss: 1.3370 - accuracy: 0.3443 - val_loss: 1.3009 - val_accuracy: 0.4459\n",
            "Epoch 6/80\n",
            "88/88 [==============================] - 49s 561ms/step - loss: 1.3177 - accuracy: 0.3843 - val_loss: 1.2853 - val_accuracy: 0.4595\n",
            "Epoch 7/80\n",
            "88/88 [==============================] - 50s 570ms/step - loss: 1.2940 - accuracy: 0.4071 - val_loss: 1.2703 - val_accuracy: 0.4527\n",
            "Epoch 8/80\n",
            "88/88 [==============================] - 49s 560ms/step - loss: 1.2838 - accuracy: 0.4343 - val_loss: 1.2541 - val_accuracy: 0.4932\n",
            "Epoch 9/80\n",
            "88/88 [==============================] - 51s 584ms/step - loss: 1.2674 - accuracy: 0.4586 - val_loss: 1.2306 - val_accuracy: 0.5338\n",
            "Epoch 10/80\n",
            "88/88 [==============================] - 49s 557ms/step - loss: 1.2548 - accuracy: 0.4314 - val_loss: 1.2132 - val_accuracy: 0.5473\n",
            "Epoch 11/80\n",
            "88/88 [==============================] - 50s 565ms/step - loss: 1.2245 - accuracy: 0.4486 - val_loss: 1.1950 - val_accuracy: 0.5270\n",
            "Epoch 12/80\n",
            "88/88 [==============================] - 49s 558ms/step - loss: 1.2003 - accuracy: 0.4914 - val_loss: 1.1736 - val_accuracy: 0.5473\n",
            "Epoch 13/80\n",
            "88/88 [==============================] - 51s 581ms/step - loss: 1.1763 - accuracy: 0.5143 - val_loss: 1.1514 - val_accuracy: 0.5338\n",
            "Epoch 14/80\n",
            "88/88 [==============================] - 49s 553ms/step - loss: 1.1675 - accuracy: 0.5000 - val_loss: 1.1246 - val_accuracy: 0.5338\n",
            "Epoch 15/80\n",
            "88/88 [==============================] - 51s 578ms/step - loss: 1.1317 - accuracy: 0.5014 - val_loss: 1.1082 - val_accuracy: 0.5608\n",
            "Epoch 16/80\n",
            "88/88 [==============================] - 49s 561ms/step - loss: 1.1220 - accuracy: 0.5129 - val_loss: 1.0804 - val_accuracy: 0.5405\n",
            "Epoch 17/80\n",
            "88/88 [==============================] - 51s 575ms/step - loss: 1.0888 - accuracy: 0.5243 - val_loss: 1.0593 - val_accuracy: 0.5608\n",
            "Epoch 18/80\n",
            "88/88 [==============================] - 48s 550ms/step - loss: 1.0597 - accuracy: 0.5657 - val_loss: 1.0337 - val_accuracy: 0.6081\n",
            "Epoch 19/80\n",
            "88/88 [==============================] - 51s 580ms/step - loss: 1.0525 - accuracy: 0.5314 - val_loss: 1.0231 - val_accuracy: 0.6149\n",
            "Epoch 20/80\n",
            "88/88 [==============================] - 49s 558ms/step - loss: 1.0182 - accuracy: 0.5471 - val_loss: 0.9956 - val_accuracy: 0.6014\n",
            "Epoch 21/80\n",
            "88/88 [==============================] - 50s 561ms/step - loss: 1.0109 - accuracy: 0.5371 - val_loss: 0.9686 - val_accuracy: 0.6216\n",
            "Epoch 22/80\n",
            "88/88 [==============================] - 48s 550ms/step - loss: 0.9878 - accuracy: 0.5743 - val_loss: 0.9548 - val_accuracy: 0.6149\n",
            "Epoch 23/80\n",
            "88/88 [==============================] - 50s 569ms/step - loss: 0.9651 - accuracy: 0.5657 - val_loss: 0.9398 - val_accuracy: 0.6216\n",
            "Epoch 24/80\n",
            "88/88 [==============================] - 52s 588ms/step - loss: 0.9630 - accuracy: 0.5543 - val_loss: 0.9242 - val_accuracy: 0.6149\n",
            "Epoch 25/80\n",
            "88/88 [==============================] - 48s 548ms/step - loss: 0.9361 - accuracy: 0.5686 - val_loss: 0.9130 - val_accuracy: 0.6419\n",
            "Epoch 26/80\n",
            "88/88 [==============================] - 50s 564ms/step - loss: 0.9294 - accuracy: 0.6014 - val_loss: 0.9057 - val_accuracy: 0.6149\n",
            "Epoch 27/80\n",
            "88/88 [==============================] - 48s 542ms/step - loss: 0.9278 - accuracy: 0.5629 - val_loss: 0.8962 - val_accuracy: 0.6419\n",
            "Epoch 28/80\n",
            "88/88 [==============================] - 49s 557ms/step - loss: 0.9090 - accuracy: 0.5814 - val_loss: 0.8747 - val_accuracy: 0.6419\n",
            "Epoch 29/80\n",
            "88/88 [==============================] - 49s 558ms/step - loss: 0.8974 - accuracy: 0.5743 - val_loss: 0.8668 - val_accuracy: 0.6351\n",
            "Epoch 30/80\n",
            "88/88 [==============================] - 48s 545ms/step - loss: 0.8720 - accuracy: 0.5929 - val_loss: 0.8566 - val_accuracy: 0.6554\n",
            "Epoch 31/80\n",
            "88/88 [==============================] - 50s 567ms/step - loss: 0.8759 - accuracy: 0.6100 - val_loss: 0.8491 - val_accuracy: 0.6689\n",
            "Epoch 32/80\n",
            "88/88 [==============================] - 48s 545ms/step - loss: 0.8551 - accuracy: 0.6014 - val_loss: 0.8372 - val_accuracy: 0.7027\n",
            "Epoch 33/80\n",
            "88/88 [==============================] - 49s 556ms/step - loss: 0.8452 - accuracy: 0.6143 - val_loss: 0.8331 - val_accuracy: 0.6892\n",
            "Epoch 34/80\n",
            "88/88 [==============================] - 48s 547ms/step - loss: 0.8520 - accuracy: 0.6257 - val_loss: 0.8191 - val_accuracy: 0.6757\n",
            "Epoch 35/80\n",
            "88/88 [==============================] - 51s 576ms/step - loss: 0.8348 - accuracy: 0.6143 - val_loss: 0.8148 - val_accuracy: 0.6689\n",
            "Epoch 36/80\n",
            "88/88 [==============================] - 48s 549ms/step - loss: 0.8354 - accuracy: 0.6414 - val_loss: 0.8058 - val_accuracy: 0.6892\n",
            "Epoch 37/80\n",
            "88/88 [==============================] - 50s 567ms/step - loss: 0.8242 - accuracy: 0.6214 - val_loss: 0.7895 - val_accuracy: 0.7095\n",
            "Epoch 38/80\n",
            "88/88 [==============================] - 49s 561ms/step - loss: 0.8145 - accuracy: 0.6371 - val_loss: 0.7829 - val_accuracy: 0.6892\n",
            "Epoch 39/80\n",
            "88/88 [==============================] - 51s 579ms/step - loss: 0.8041 - accuracy: 0.6443 - val_loss: 0.7704 - val_accuracy: 0.7095\n",
            "Epoch 40/80\n",
            "88/88 [==============================] - 48s 545ms/step - loss: 0.8105 - accuracy: 0.6214 - val_loss: 0.7689 - val_accuracy: 0.6554\n",
            "Epoch 41/80\n",
            "88/88 [==============================] - 51s 580ms/step - loss: 0.7971 - accuracy: 0.6314 - val_loss: 0.7567 - val_accuracy: 0.7027\n",
            "Epoch 42/80\n",
            "88/88 [==============================] - 48s 549ms/step - loss: 0.7851 - accuracy: 0.6400 - val_loss: 0.7508 - val_accuracy: 0.7230\n",
            "Epoch 43/80\n",
            "88/88 [==============================] - 51s 582ms/step - loss: 0.7769 - accuracy: 0.6429 - val_loss: 0.7501 - val_accuracy: 0.6824\n",
            "Epoch 44/80\n",
            "88/88 [==============================] - 49s 561ms/step - loss: 0.7751 - accuracy: 0.6571 - val_loss: 0.7466 - val_accuracy: 0.6689\n",
            "Epoch 45/80\n",
            "88/88 [==============================] - 50s 566ms/step - loss: 0.7716 - accuracy: 0.6614 - val_loss: 0.7238 - val_accuracy: 0.7297\n",
            "Epoch 46/80\n",
            "88/88 [==============================] - 49s 559ms/step - loss: 0.7732 - accuracy: 0.6471 - val_loss: 0.7354 - val_accuracy: 0.6757\n",
            "Epoch 47/80\n",
            "88/88 [==============================] - 50s 567ms/step - loss: 0.7625 - accuracy: 0.6629 - val_loss: 0.7135 - val_accuracy: 0.6892\n",
            "Epoch 48/80\n",
            "88/88 [==============================] - 51s 576ms/step - loss: 0.7491 - accuracy: 0.6600 - val_loss: 0.7000 - val_accuracy: 0.7027\n",
            "Epoch 49/80\n",
            "88/88 [==============================] - 49s 556ms/step - loss: 0.7432 - accuracy: 0.6629 - val_loss: 0.6896 - val_accuracy: 0.7230\n",
            "Epoch 50/80\n",
            "88/88 [==============================] - 51s 575ms/step - loss: 0.7427 - accuracy: 0.6586 - val_loss: 0.6889 - val_accuracy: 0.7365\n",
            "Epoch 51/80\n",
            "88/88 [==============================] - 48s 542ms/step - loss: 0.7259 - accuracy: 0.6971 - val_loss: 0.6781 - val_accuracy: 0.7027\n",
            "Epoch 52/80\n",
            "88/88 [==============================] - 52s 587ms/step - loss: 0.7140 - accuracy: 0.6857 - val_loss: 0.6709 - val_accuracy: 0.7297\n",
            "Epoch 53/80\n",
            "88/88 [==============================] - 49s 563ms/step - loss: 0.7003 - accuracy: 0.7100 - val_loss: 0.6632 - val_accuracy: 0.7432\n",
            "Epoch 54/80\n",
            "88/88 [==============================] - 49s 558ms/step - loss: 0.7213 - accuracy: 0.6714 - val_loss: 0.6656 - val_accuracy: 0.6892\n",
            "Epoch 55/80\n",
            "88/88 [==============================] - 47s 534ms/step - loss: 0.6896 - accuracy: 0.7171 - val_loss: 0.6440 - val_accuracy: 0.7230\n",
            "Epoch 56/80\n",
            "88/88 [==============================] - 51s 577ms/step - loss: 0.6971 - accuracy: 0.6771 - val_loss: 0.6569 - val_accuracy: 0.7095\n",
            "Epoch 57/80\n",
            "88/88 [==============================] - 48s 541ms/step - loss: 0.6882 - accuracy: 0.6943 - val_loss: 0.6537 - val_accuracy: 0.7230\n",
            "Epoch 58/80\n",
            "88/88 [==============================] - 48s 547ms/step - loss: 0.6864 - accuracy: 0.7043 - val_loss: 0.6433 - val_accuracy: 0.7095\n",
            "Epoch 59/80\n",
            "88/88 [==============================] - 48s 547ms/step - loss: 0.6634 - accuracy: 0.7029 - val_loss: 0.6348 - val_accuracy: 0.7432\n",
            "Epoch 60/80\n",
            "88/88 [==============================] - 48s 548ms/step - loss: 0.6821 - accuracy: 0.6986 - val_loss: 0.6386 - val_accuracy: 0.7095\n",
            "Epoch 61/80\n",
            "88/88 [==============================] - 49s 554ms/step - loss: 0.6579 - accuracy: 0.7214 - val_loss: 0.6315 - val_accuracy: 0.7297\n",
            "Epoch 62/80\n",
            "88/88 [==============================] - 48s 551ms/step - loss: 0.6614 - accuracy: 0.7157 - val_loss: 0.6238 - val_accuracy: 0.7432\n",
            "Epoch 63/80\n",
            "88/88 [==============================] - 50s 570ms/step - loss: 0.6396 - accuracy: 0.7357 - val_loss: 0.6186 - val_accuracy: 0.7297\n",
            "Epoch 64/80\n",
            "88/88 [==============================] - 48s 549ms/step - loss: 0.6670 - accuracy: 0.7143 - val_loss: 0.6339 - val_accuracy: 0.7095\n",
            "Epoch 65/80\n",
            "88/88 [==============================] - 51s 578ms/step - loss: 0.6593 - accuracy: 0.7100 - val_loss: 0.6411 - val_accuracy: 0.7162\n",
            "Epoch 66/80\n",
            "88/88 [==============================] - 47s 534ms/step - loss: 0.6461 - accuracy: 0.7286 - val_loss: 0.6158 - val_accuracy: 0.7432\n",
            "Epoch 67/80\n",
            "88/88 [==============================] - 51s 579ms/step - loss: 0.6408 - accuracy: 0.7143 - val_loss: 0.6082 - val_accuracy: 0.7432\n",
            "Epoch 68/80\n",
            "88/88 [==============================] - 47s 538ms/step - loss: 0.6255 - accuracy: 0.7314 - val_loss: 0.5873 - val_accuracy: 0.7297\n",
            "Epoch 69/80\n",
            "88/88 [==============================] - 47s 539ms/step - loss: 0.6348 - accuracy: 0.7114 - val_loss: 0.6120 - val_accuracy: 0.7230\n",
            "Epoch 70/80\n",
            "88/88 [==============================] - 49s 557ms/step - loss: 0.6152 - accuracy: 0.7243 - val_loss: 0.5737 - val_accuracy: 0.7500\n",
            "Epoch 71/80\n",
            "88/88 [==============================] - 46s 529ms/step - loss: 0.6218 - accuracy: 0.7200 - val_loss: 0.5892 - val_accuracy: 0.7432\n",
            "Epoch 72/80\n",
            "88/88 [==============================] - 48s 548ms/step - loss: 0.6208 - accuracy: 0.7257 - val_loss: 0.6280 - val_accuracy: 0.6959\n",
            "Epoch 73/80\n",
            "88/88 [==============================] - 49s 558ms/step - loss: 0.6015 - accuracy: 0.7257 - val_loss: 0.5733 - val_accuracy: 0.7432\n",
            "Epoch 74/80\n",
            "88/88 [==============================] - 48s 551ms/step - loss: 0.6062 - accuracy: 0.7214 - val_loss: 0.6017 - val_accuracy: 0.7297\n",
            "Epoch 75/80\n",
            "88/88 [==============================] - 48s 545ms/step - loss: 0.5926 - accuracy: 0.7557 - val_loss: 0.5746 - val_accuracy: 0.7500\n",
            "Epoch 76/80\n",
            "88/88 [==============================] - 48s 547ms/step - loss: 0.5940 - accuracy: 0.7314 - val_loss: 0.5788 - val_accuracy: 0.7230\n",
            "Epoch 77/80\n",
            "88/88 [==============================] - 49s 558ms/step - loss: 0.5710 - accuracy: 0.7557 - val_loss: 0.6008 - val_accuracy: 0.7162\n",
            "Epoch 78/80\n",
            "88/88 [==============================] - 47s 537ms/step - loss: 0.5792 - accuracy: 0.7471 - val_loss: 0.5621 - val_accuracy: 0.7365\n",
            "Epoch 79/80\n",
            "88/88 [==============================] - 49s 562ms/step - loss: 0.5749 - accuracy: 0.7557 - val_loss: 0.5496 - val_accuracy: 0.7500\n",
            "Epoch 80/80\n",
            "88/88 [==============================] - 48s 547ms/step - loss: 0.5655 - accuracy: 0.7586 - val_loss: 0.5737 - val_accuracy: 0.7500\n",
            "5/5 [==============================] - 1s 173ms/step - loss: 0.5737 - accuracy: 0.7500\n",
            "Test Loss: 0.5736939311027527, Test Accuracy: 0.75\n"
          ]
        }
      ]
    },
    {
      "cell_type": "code",
      "source": [
        "model.save('/content/drive/MyDrive/save/voice-spoofing-detection-using-gru-Multiclass.h5')"
      ],
      "metadata": {
        "id": "alROqFh0OxCQ"
      },
      "execution_count": null,
      "outputs": []
    },
    {
      "cell_type": "code",
      "source": [
        "\n",
        "import os\n",
        "from tensorflow.keras.models import load_model\n",
        "\n",
        "model_path = \"/content/drive/MyDrive/save/voice-spoofing-detection-using-gru-Multiclass.h5\"\n",
        "\n",
        "model = load_model(model_path)\n",
        "\n",
        "# add code to load model\n",
        "\n",
        "\n",
        "sample_audio_file_path = \"/content/drive/MyDrive/dataset/LA/ASVspoof2019_LA_eval/flac/test.flac\"\n",
        "\n",
        "print(\"Sample audio file:\", sample_audio_file_path)\n",
        "# Make predictions\n",
        "sample_audio_spectrogram = audio_to_spectrogram(sample_audio_file_path)\n",
        "\n",
        "# Assuming the shape of the spectrogram is suitable for the model input\n",
        "X_new = np.expand_dims(sample_audio_spectrogram, axis=0)\n",
        "\n",
        "# Performing prediction\n",
        "y_pred = model.predict(X_new)\n",
        "\n",
        "# Convert probabilities to classes by selecting the class with the highest probability\n",
        "y_pred_classes = np.argmax(y_pred, axis=1)\n",
        "\n",
        "# Map predicted classes to labels\n",
        "class_labels = ['real', 'synthesised', 'converted','replay']  # Update with your actual class labels\n",
        "y_pred_labels = [class_labels[pred] for pred in y_pred_classes]\n",
        "\n",
        "print(\"Predicted class:\", y_pred_labels[0])\n",
        "\n"
      ],
      "metadata": {
        "id": "Ce59LaLSVZUg",
        "outputId": "0870399f-110b-4eae-b37e-8c4524c70f1f",
        "colab": {
          "base_uri": "https://localhost:8080/",
          "height": 0
        }
      },
      "execution_count": 18,
      "outputs": [
        {
          "output_type": "stream",
          "name": "stderr",
          "text": [
            "/usr/local/lib/python3.10/dist-packages/keras/src/engine/training.py:3103: UserWarning: You are saving your model as an HDF5 file via `model.save()`. This file format is considered legacy. We recommend using instead the native Keras format, e.g. `model.save('my_model.keras')`.\n",
            "  saving_api.save_model(\n"
          ]
        },
        {
          "output_type": "stream",
          "name": "stdout",
          "text": [
            "Sample audio file: /content/drive/MyDrive/dataset/LA/ASVspoof2019_LA_eval/flac/test.flac\n",
            "1/1 [==============================] - 2s 2s/step\n",
            "Predicted class: synthesised\n"
          ]
        }
      ]
    },
    {
      "cell_type": "code",
      "source": [
        "from sklearn.metrics import confusion_matrix\n",
        "import seaborn as sns\n",
        "import matplotlib.pyplot as plt\n",
        "\n",
        "# Assuming you have X_eval and y_eval datasets for testing\n",
        "\n",
        "# Perform predictions on the evaluation set\n",
        "y_eval_pred = model.predict(X_eval)\n",
        "y_eval_pred_classes = np.argmax(y_eval_pred, axis=1)\n",
        "\n",
        "# Calculate confusion matrix\n",
        "cm = confusion_matrix(y_eval, y_eval_pred_classes)\n",
        "\n",
        "# Create a heatmap plot\n",
        "plt.figure(figsize=(10, 7))\n",
        "sns.heatmap(cm, annot=True, fmt='d', xticklabels=class_labels, yticklabels=class_labels, cmap='Blues')\n",
        "plt.title('Confusion Matrix')\n",
        "plt.ylabel('Actual Class')\n",
        "plt.xlabel('Predicted Class')\n",
        "\n",
        "# Show the plot\n",
        "plt.show()\n"
      ],
      "metadata": {
        "id": "sjvVDwFnO67q",
        "outputId": "2e4c6deb-402f-4aeb-f2c7-00150c5e2925",
        "colab": {
          "base_uri": "https://localhost:8080/",
          "height": 658
        }
      },
      "execution_count": 19,
      "outputs": [
        {
          "output_type": "stream",
          "name": "stdout",
          "text": [
            "5/5 [==============================] - 1s 287ms/step\n"
          ]
        },
        {
          "output_type": "display_data",
          "data": {
            "text/plain": [
              "<Figure size 1000x700 with 2 Axes>"
            ],
            "image/png": "[encoded data removed]"
          },
          "metadata": {}
        }
      ]
    },
    {
      "cell_type": "code",
      "source": [],
      "metadata": {
        "id": "CkNC-DiIO6qG"
      },
      "execution_count": null,
      "outputs": []
    }
  ]
}