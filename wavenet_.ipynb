{
  "cells": [
    {
      "cell_type": "markdown",
      "metadata": {
        "id": "view-in-github",
        "colab_type": "text"
      },
      "source": [
        "<a href=\"https://colab.research.google.com/github/Amrutha369/voice-spoofing-detection/blob/main/wavenet_.ipynb\" target=\"_parent\"><img src=\"https://colab.research.google.com/assets/colab-badge.svg\" alt=\"Open In Colab\"/></a>"
      ]
    },
    {
      "cell_type": "code",
      "execution_count": null,
      "metadata": {
        "colab": {
          "base_uri": "https://localhost:8080/"
        },
        "id": "qTdMkhjQrqEm",
        "outputId": "8118659b-e03e-46c8-abad-021228933b1f"
      },
      "outputs": [
        {
          "output_type": "stream",
          "name": "stdout",
          "text": [
            "Mounted at /content/drive\n"
          ]
        }
      ],
      "source": [
        "from google.colab import drive\n",
        "\n",
        "# Mount Google Drive\n",
        "drive.mount('/content/drive')"
      ]
    },
    {
      "cell_type": "markdown",
      "source": [
        "# Preprocessing"
      ],
      "metadata": {
        "id": "OSXI9GAX2Q_b"
      }
    },
    {
      "cell_type": "code",
      "execution_count": null,
      "metadata": {
        "id": "gRFBS8bOrewE"
      },
      "outputs": [],
      "source": [
        "import os\n",
        "import librosa\n",
        "import numpy as np\n",
        "\n",
        "def preprocess_audio(input_audio, target_sr=16000, max_length_sec=3):\n",
        "    # Resample if necessary\n",
        "    if input_audio.shape[0] != target_sr * max_length_sec:\n",
        "        input_audio = librosa.resample(input_audio, orig_sr=len(input_audio), target_sr=target_sr)\n",
        "\n",
        "    # Truncate or pad to maximum length\n",
        "    max_length_samples = target_sr * max_length_sec\n",
        "    if len(input_audio) > max_length_samples:\n",
        "        input_audio = input_audio[:max_length_samples]\n",
        "    elif len(input_audio) < max_length_samples:\n",
        "        input_audio = np.pad(input_audio, (0, max_length_samples - len(input_audio)), mode='constant')\n",
        "\n",
        "    # Check input audio shape\n",
        "    if input_audio.ndim == 1:\n",
        "        # Add channel dimension if it's a single-channel audio\n",
        "        input_audio = np.expand_dims(input_audio, axis=-1)\n",
        "        # Expand the channel dimension to 4\n",
        "        input_audio = np.repeat(input_audio, repeats=4, axis=-1)\n",
        "\n",
        "    return input_audio\n",
        "\n",
        "def preprocess_audio_folder(input_folder, output_folder, target_sr=16000, max_length_sec=3):\n",
        "    # Create output folder if it doesn't exist\n",
        "    if not os.path.exists(output_folder):\n",
        "        os.makedirs(output_folder)\n",
        "\n",
        "    # Process each audio file in the input folder\n",
        "    for filename in os.listdir(input_folder):\n",
        "        if filename.endswith('.flac'):\n",
        "            # Load and preprocess audio\n",
        "            input_path = os.path.join(input_folder, filename)\n",
        "            input_audio, sr = librosa.load(input_path, sr=None)\n",
        "            processed_audio = preprocess_audio(input_audio, target_sr, max_length_sec)\n",
        "\n",
        "            # Save preprocessed audio to output folder\n",
        "            output_path = os.path.join(output_folder, filename.replace('.flac', '.npy'))\n",
        "            np.save(output_path, processed_audio)\n",
        "\n",
        "            print(f\"Processed {filename} and saved to {output_path}\")\n",
        "\n",
        "\n",
        "\n",
        "# Example usage\n",
        "input_folder = \"/content/my_drive/MyDrive/dataset/LA/ASVspoof2019_LA_train/flac\"\n",
        "output_folder = \"/content/my_drive/MyDrive/wave_dataset/train\"\n",
        "preprocess_audio_folder(input_folder, output_folder)\n"
      ]
    },
    {
      "cell_type": "code",
      "execution_count": null,
      "metadata": {
        "id": "H4dzJPPwtvXX"
      },
      "outputs": [],
      "source": [
        "import os\n",
        "import librosa\n",
        "import numpy as np\n",
        "\n",
        "def preprocess_audio(input_audio, target_sr=16000, max_length_sec=3):\n",
        "    # Resample if necessary\n",
        "    if input_audio.shape[0] != target_sr * max_length_sec:\n",
        "        input_audio = librosa.resample(input_audio, orig_sr=len(input_audio), target_sr=target_sr)\n",
        "\n",
        "    # Truncate or pad to maximum length\n",
        "    max_length_samples = target_sr * max_length_sec\n",
        "    if len(input_audio) > max_length_samples:\n",
        "        input_audio = input_audio[:max_length_samples]\n",
        "    elif len(input_audio) < max_length_samples:\n",
        "        input_audio = np.pad(input_audio, (0, max_length_samples - len(input_audio)), mode='constant')\n",
        "\n",
        "    # Check input audio shape\n",
        "    if input_audio.ndim == 1:\n",
        "        # Add channel dimension if it's a single-channel audio\n",
        "        input_audio = np.expand_dims(input_audio, axis=-1)\n",
        "        # Expand the channel dimension to 4\n",
        "        input_audio = np.repeat(input_audio, repeats=4, axis=-1)\n",
        "\n",
        "    return input_audio\n",
        "\n",
        "def preprocess_audio_folder(input_folder, output_folder, target_sr=16000, max_length_sec=3):\n",
        "    # Create output folder if it doesn't exist\n",
        "    if not os.path.exists(output_folder):\n",
        "        os.makedirs(output_folder)\n",
        "\n",
        "    # Process each audio file in the input folder\n",
        "    for filename in os.listdir(input_folder):\n",
        "        if filename.endswith('.flac'):\n",
        "            # Load and preprocess audio\n",
        "            input_path = os.path.join(input_folder, filename)\n",
        "            input_audio, sr = librosa.load(input_path, sr=None)\n",
        "            processed_audio = preprocess_audio(input_audio, target_sr, max_length_sec)\n",
        "\n",
        "            # Save preprocessed audio to output folder\n",
        "            output_path = os.path.join(output_folder, filename.replace('.flac', '.npy'))\n",
        "            np.save(output_path, processed_audio)\n",
        "\n",
        "            print(f\"Processed {filename} and saved to {output_path}\")\n",
        "\n",
        "\n",
        "\n",
        "input_folder = \"/content/my_drive/MyDrive/dataset/LA/ASVspoof2019_LA_eval/flac\"\n",
        "output_folder = \"/content/my_drive/MyDrive/wave_dataset/test\"\n",
        "preprocess_audio_folder(input_folder, output_folder)\n"
      ]
    },
    {
      "cell_type": "code",
      "execution_count": null,
      "metadata": {
        "id": "TsTRSjqft5ns"
      },
      "outputs": [],
      "source": [
        "import os\n",
        "import librosa\n",
        "import numpy as np\n",
        "\n",
        "def preprocess_audio(input_audio, target_sr=16000, max_length_sec=3):\n",
        "    # Resample if necessary\n",
        "    if input_audio.shape[0] != target_sr * max_length_sec:\n",
        "        input_audio = librosa.resample(input_audio, orig_sr=len(input_audio), target_sr=target_sr)\n",
        "\n",
        "    # Truncate or pad to maximum length\n",
        "    max_length_samples = target_sr * max_length_sec\n",
        "    if len(input_audio) > max_length_samples:\n",
        "        input_audio = input_audio[:max_length_samples]\n",
        "    elif len(input_audio) < max_length_samples:\n",
        "        input_audio = np.pad(input_audio, (0, max_length_samples - len(input_audio)), mode='constant')\n",
        "\n",
        "    # Check input audio shape\n",
        "    if input_audio.ndim == 1:\n",
        "        # Add channel dimension if it's a single-channel audio\n",
        "        input_audio = np.expand_dims(input_audio, axis=-1)\n",
        "        # Expand the channel dimension to 4\n",
        "        input_audio = np.repeat(input_audio, repeats=4, axis=-1)\n",
        "\n",
        "    return input_audio\n",
        "\n",
        "def preprocess_audio_folder(input_folder, output_folder, target_sr=16000, max_length_sec=3):\n",
        "    # Create output folder if it doesn't exist\n",
        "    if not os.path.exists(output_folder):\n",
        "        os.makedirs(output_folder)\n",
        "\n",
        "    # Process each audio file in the input folder\n",
        "    for filename in os.listdir(input_folder):\n",
        "        if filename.endswith('.flac'):\n",
        "            # Load and preprocess audio\n",
        "            input_path = os.path.join(input_folder, filename)\n",
        "            input_audio, sr = librosa.load(input_path, sr=None)\n",
        "            processed_audio = preprocess_audio(input_audio, target_sr, max_length_sec)\n",
        "\n",
        "            # Save preprocessed audio to output folder\n",
        "            output_path = os.path.join(output_folder, filename.replace('.flac', '.npy'))\n",
        "            np.save(output_path, processed_audio)\n",
        "\n",
        "            print(f\"Processed {filename} and saved to {output_path}\")\n",
        "\n",
        "\n",
        "\n",
        "input_folder = \"/content/my_drive/MyDrive/dataset/LA/ASVspoof2019_LA_dev/flac\"\n",
        "output_folder = \"/content/my_drive/MyDrive/wave_dataset/val\"\n",
        "preprocess_audio_folder(input_folder, output_folder)\n"
      ]
    },
    {
      "cell_type": "markdown",
      "source": [
        "# Split"
      ],
      "metadata": {
        "id": "vG6tDLQQ2ZwZ"
      }
    },
    {
      "cell_type": "code",
      "execution_count": null,
      "metadata": {
        "colab": {
          "base_uri": "https://localhost:8080/"
        },
        "id": "HaIObed0wVYm",
        "outputId": "efccc17d-6a99-462e-e99c-8954c0030e52"
      },
      "outputs": [
        {
          "output_type": "stream",
          "name": "stdout",
          "text": [
            "x_train shape: (700, 48000, 4)\n",
            "x_val shape: (152, 48000, 4)\n",
            "x_test shape: (152, 48000, 4)\n",
            "y_train length: 700\n",
            "y_val length: 152\n",
            "y_test length: 152\n"
          ]
        }
      ],
      "source": [
        "import os\n",
        "import numpy as np\n",
        "\n",
        "# Load preprocessed audio data\n",
        "def load_audio_data(folder):\n",
        "    audio_data = []\n",
        "    for filename in os.listdir(folder):\n",
        "        if filename.endswith('.npy'):\n",
        "            audio_path = os.path.join(folder, filename)\n",
        "            audio = np.load(audio_path)\n",
        "            audio_data.append(audio)\n",
        "    return np.array(audio_data)\n",
        "\n",
        "# Load labels from text file\n",
        "def load_labels(file_path):\n",
        "    with open(file_path, 'r') as file:\n",
        "        labels = [line.strip() for line in file]\n",
        "    return labels\n",
        "\n",
        "# Define paths\n",
        "train_folder = \"/content/drive/MyDrive/wave_dataset/train\"\n",
        "val_folder = \"/content/drive/MyDrive/wave_dataset/val\"\n",
        "test_folder = \"/content/drive/MyDrive/wave_dataset/test\"\n",
        "\n",
        "\n",
        "# Load audio data and labels for train, val, test\n",
        "x_train = load_audio_data(train_folder)\n",
        "x_val = load_audio_data(val_folder)\n",
        "x_test = load_audio_data(test_folder)\n",
        "\n",
        "y_train = load_labels(os.path.join(train_folder, 'train_lab.txt'))\n",
        "y_val = load_labels(os.path.join(val_folder, 'val_lab.txt'))\n",
        "y_test = load_labels(os.path.join(test_folder, 'test_lab.txt'))\n",
        "\n",
        "print(\"x_train shape:\", x_train.shape)\n",
        "print(\"x_val shape:\", x_val.shape)\n",
        "print(\"x_test shape:\", x_test.shape)\n",
        "print(\"y_train length:\", len(y_train))\n",
        "print(\"y_val length:\", len(y_val))\n",
        "print(\"y_test length:\", len(y_test))\n"
      ]
    },
    {
      "cell_type": "code",
      "execution_count": null,
      "metadata": {
        "id": "dGqkZzhJrzRg"
      },
      "outputs": [],
      "source": [
        "# Convert string data to float data\n",
        "x_train = x_train.astype(float)\n",
        "x_val = x_val.astype(float)\n",
        "x_test = x_test.astype(float)\n",
        "y_train = np.array(y_train)\n",
        "y_train_np = y_train.astype(float)\n",
        "y_val_np = np.array(y_val)\n",
        "y_val_np = y_val_np.astype(float)\n",
        "import numpy as np\n",
        "\n",
        "# Convert y_test list to numpy array\n",
        "y_test = np.array(y_test)\n",
        "# Now you can use the astype method to convert the data type\n",
        "y_test = y_test.astype(float)\n",
        "\n",
        "y_test = y_test.astype(float)"
      ]
    },
    {
      "cell_type": "code",
      "execution_count": null,
      "metadata": {
        "colab": {
          "base_uri": "https://localhost:8080/"
        },
        "id": "zO2nARnCwQHO",
        "outputId": "86123f46-8784-4ff8-cab0-e5af7129d221"
      },
      "outputs": [
        {
          "output_type": "stream",
          "name": "stdout",
          "text": [
            "y_train length: 700\n",
            "y_val length: 152\n",
            "y_test length: 152\n"
          ]
        }
      ],
      "source": [
        "print(\"y_train length:\", len(y_train_np))\n",
        "print(\"y_val length:\", len(y_val_np))\n",
        "print(\"y_test length:\", len(y_test))"
      ]
    },
    {
      "cell_type": "markdown",
      "source": [
        "# WaveNet Model"
      ],
      "metadata": {
        "id": "wPNjPMe42eds"
      }
    },
    {
      "cell_type": "code",
      "execution_count": null,
      "metadata": {
        "id": "PhUnREtJzAY9"
      },
      "outputs": [],
      "source": [
        "import tensorflow as tf\n",
        "from tensorflow.keras.layers import Conv1D, Activation, Add, BatchNormalization, GlobalAveragePooling1D, Dense\n",
        "from tensorflow.keras.models import Model\n",
        "\n",
        "def wavenet_residual_block(x, dilation_rate, filters, kernel_size):\n",
        "    # Dilated causal convolution\n",
        "    conv = Conv1D(filters=filters, kernel_size=kernel_size, padding='causal', dilation_rate=dilation_rate)(x)\n",
        "    conv_tanh = Activation('tanh')(conv)\n",
        "    conv_sigmoid = Activation('sigmoid')(conv)\n",
        "    gated = tf.multiply(conv_tanh, conv_sigmoid)\n",
        "\n",
        "    # Batch Normalization\n",
        "    gated = BatchNormalization()(gated)\n",
        "\n",
        "    # 1x1 convolution for residual connection\n",
        "    skip = Conv1D(filters=filters, kernel_size=1)(gated)\n",
        "\n",
        "    # Skip and residual connections\n",
        "    residual = Add()([skip, x])\n",
        "    return residual, skip\n",
        "\n",
        "def build_wavenet(input_shape, num_blocks, dilation_depth, num_filters, kernel_size, num_classes):\n",
        "    input_layer = tf.keras.layers.Input(shape=input_shape)\n",
        "    x = input_layer\n",
        "\n",
        "    # Initial causal convolution\n",
        "    x = Conv1D(filters=num_filters, kernel_size=kernel_size, padding='causal')(x)\n",
        "\n",
        "    # WaveNet residual blocks\n",
        "    skips = []\n",
        "    for _ in range(num_blocks):\n",
        "        for dilation_rate in [2 ** i for i in range(dilation_depth)]:\n",
        "            x, skip = wavenet_residual_block(x, dilation_rate, num_filters, kernel_size)\n",
        "            skips.append(skip)\n",
        "\n",
        "    # Sum all skip connections\n",
        "    x = Add()(skips)\n",
        "    x = Activation('relu')(x)\n",
        "\n",
        "    # 1x1 convolution for output\n",
        "    x = Conv1D(filters=num_filters, kernel_size=1)(x)\n",
        "    x = Activation('relu')(x)\n",
        "\n",
        "    # Global average pooling\n",
        "    x = GlobalAveragePooling1D()(x)\n",
        "\n",
        "    # Output layer\n",
        "    output_layer = Dense(num_classes, activation='softmax')(x)\n",
        "\n",
        "    model = Model(inputs=input_layer, outputs=output_layer)\n",
        "    return model\n",
        "\n",
        "# Define model parameters\n",
        "input_shape = (48000, 4)\n",
        "kernel_size = 3\n",
        "num_classes = 4\n",
        "num_blocks = 6\n",
        "dilation_depth = 5\n",
        "num_filters = 32\n",
        "\n"
      ]
    },
    {
      "cell_type": "code",
      "execution_count": null,
      "metadata": {
        "id": "RANMVBxmBsg7"
      },
      "outputs": [],
      "source": [
        "from tensorflow.keras.optimizers import Adam\n",
        "\n",
        "# Define the learning rate and batch size\n",
        "learning_rate = 0.0001  # Adjust this value as needed\n",
        "batch_size = 8  # Adjust this value as needed\n",
        "\n",
        "# Build and compile the WaveNet model with the specified learning rate\n",
        "model = build_wavenet(input_shape, num_blocks, dilation_depth, num_filters, kernel_size, num_classes)\n",
        "\n",
        "# Compile the model\n",
        "optimizer = Adam(learning_rate=learning_rate)\n",
        "model.compile(optimizer=optimizer, loss='sparse_categorical_crossentropy', metrics=['accuracy'])\n",
        "\n",
        "# Print model summary\n",
        "\n",
        "\n"
      ]
    },
    {
      "cell_type": "code",
      "execution_count": null,
      "metadata": {
        "colab": {
          "base_uri": "https://localhost:8080/"
        },
        "id": "bW6-tRVrBbtR",
        "outputId": "3c462f58-cd38-4e52-9093-2106facf1770"
      },
      "outputs": [
        {
          "output_type": "stream",
          "name": "stdout",
          "text": [
            "Epoch 1/50\n",
            "88/88 [==============================] - 119s 922ms/step - loss: 1.4073 - accuracy: 0.2814 - val_loss: 1.9431 - val_accuracy: 0.2434\n",
            "Epoch 2/50\n",
            "88/88 [==============================] - 81s 916ms/step - loss: 1.3376 - accuracy: 0.3329 - val_loss: 1.9343 - val_accuracy: 0.2434\n",
            "Epoch 3/50\n",
            "88/88 [==============================] - 81s 916ms/step - loss: 1.2893 - accuracy: 0.3814 - val_loss: 3.2652 - val_accuracy: 0.2434\n",
            "Epoch 4/50\n",
            "88/88 [==============================] - 81s 918ms/step - loss: 1.2651 - accuracy: 0.3871 - val_loss: 4.8045 - val_accuracy: 0.2500\n",
            "Epoch 5/50\n",
            "88/88 [==============================] - 81s 916ms/step - loss: 1.2320 - accuracy: 0.4243 - val_loss: 5.4521 - val_accuracy: 0.2434\n",
            "Epoch 6/50\n",
            "88/88 [==============================] - 81s 918ms/step - loss: 1.2139 - accuracy: 0.4371 - val_loss: 3.8377 - val_accuracy: 0.2434\n",
            "Epoch 7/50\n",
            "88/88 [==============================] - 81s 916ms/step - loss: 1.1924 - accuracy: 0.4329 - val_loss: 3.0455 - val_accuracy: 0.2434\n",
            "Epoch 8/50\n",
            "88/88 [==============================] - 81s 917ms/step - loss: 1.1605 - accuracy: 0.4757 - val_loss: 8.7099 - val_accuracy: 0.2434\n",
            "Epoch 9/50\n",
            "88/88 [==============================] - 81s 917ms/step - loss: 1.1682 - accuracy: 0.4514 - val_loss: 8.0472 - val_accuracy: 0.2434\n",
            "Epoch 10/50\n",
            "88/88 [==============================] - 81s 917ms/step - loss: 1.1653 - accuracy: 0.4571 - val_loss: 6.4104 - val_accuracy: 0.2434\n",
            "Epoch 11/50\n",
            "88/88 [==============================] - 81s 917ms/step - loss: 1.1406 - accuracy: 0.4486 - val_loss: 3.5453 - val_accuracy: 0.2895\n",
            "Epoch 12/50\n",
            "88/88 [==============================] - 81s 916ms/step - loss: 1.1293 - accuracy: 0.4614 - val_loss: 10.8745 - val_accuracy: 0.2434\n",
            "Epoch 13/50\n",
            "88/88 [==============================] - 81s 916ms/step - loss: 1.1517 - accuracy: 0.4343 - val_loss: 1.8663 - val_accuracy: 0.3158\n",
            "Epoch 14/50\n",
            "88/88 [==============================] - 81s 918ms/step - loss: 1.1065 - accuracy: 0.4814 - val_loss: 2.0936 - val_accuracy: 0.3092\n",
            "Epoch 15/50\n",
            "88/88 [==============================] - 81s 918ms/step - loss: 1.1203 - accuracy: 0.4729 - val_loss: 14.1126 - val_accuracy: 0.1842\n",
            "Epoch 16/50\n",
            "88/88 [==============================] - 81s 918ms/step - loss: 1.1069 - accuracy: 0.4671 - val_loss: 13.2305 - val_accuracy: 0.2434\n",
            "Epoch 17/50\n",
            "88/88 [==============================] - 81s 917ms/step - loss: 1.0794 - accuracy: 0.4857 - val_loss: 4.4562 - val_accuracy: 0.2763\n",
            "Epoch 18/50\n",
            "88/88 [==============================] - 81s 916ms/step - loss: 1.0768 - accuracy: 0.4786 - val_loss: 1.9447 - val_accuracy: 0.3618\n",
            "Epoch 19/50\n",
            "88/88 [==============================] - 81s 918ms/step - loss: 1.0848 - accuracy: 0.4600 - val_loss: 11.8206 - val_accuracy: 0.2434\n",
            "Epoch 20/50\n",
            "88/88 [==============================] - 81s 917ms/step - loss: 1.0844 - accuracy: 0.4886 - val_loss: 13.7565 - val_accuracy: 0.2500\n",
            "Epoch 21/50\n",
            "88/88 [==============================] - 81s 917ms/step - loss: 1.0710 - accuracy: 0.4714 - val_loss: 2.7412 - val_accuracy: 0.2303\n",
            "Epoch 22/50\n",
            "88/88 [==============================] - 81s 918ms/step - loss: 1.0571 - accuracy: 0.4871 - val_loss: 2.1195 - val_accuracy: 0.2434\n",
            "Epoch 23/50\n",
            "88/88 [==============================] - 81s 917ms/step - loss: 1.0821 - accuracy: 0.4771 - val_loss: 3.6317 - val_accuracy: 0.2434\n",
            "Epoch 24/50\n",
            "88/88 [==============================] - 81s 917ms/step - loss: 1.0648 - accuracy: 0.4943 - val_loss: 3.6967 - val_accuracy: 0.2763\n",
            "Epoch 25/50\n",
            "88/88 [==============================] - 81s 917ms/step - loss: 1.0410 - accuracy: 0.5386 - val_loss: 14.4505 - val_accuracy: 0.2303\n",
            "Epoch 26/50\n",
            "88/88 [==============================] - 81s 917ms/step - loss: 1.0557 - accuracy: 0.5371 - val_loss: 12.0202 - val_accuracy: 0.2434\n",
            "Epoch 27/50\n",
            "88/88 [==============================] - 81s 916ms/step - loss: 1.0353 - accuracy: 0.5086 - val_loss: 15.0888 - val_accuracy: 0.2434\n",
            "Epoch 28/50\n",
            "88/88 [==============================] - 81s 917ms/step - loss: 1.0385 - accuracy: 0.5043 - val_loss: 15.0069 - val_accuracy: 0.1974\n",
            "Epoch 29/50\n",
            "88/88 [==============================] - 81s 916ms/step - loss: 1.0327 - accuracy: 0.5086 - val_loss: 16.2076 - val_accuracy: 0.2434\n",
            "Epoch 30/50\n",
            "88/88 [==============================] - 81s 916ms/step - loss: 1.0254 - accuracy: 0.5100 - val_loss: 13.9833 - val_accuracy: 0.2434\n",
            "Epoch 31/50\n",
            "88/88 [==============================] - 81s 916ms/step - loss: 1.0220 - accuracy: 0.5314 - val_loss: 5.2387 - val_accuracy: 0.2434\n",
            "Epoch 32/50\n",
            "88/88 [==============================] - 81s 917ms/step - loss: 1.0320 - accuracy: 0.5129 - val_loss: 4.8832 - val_accuracy: 0.3158\n",
            "Epoch 33/50\n",
            "88/88 [==============================] - 81s 916ms/step - loss: 1.0051 - accuracy: 0.5414 - val_loss: 18.7738 - val_accuracy: 0.2434\n",
            "Epoch 34/50\n",
            "88/88 [==============================] - 81s 917ms/step - loss: 1.0264 - accuracy: 0.5057 - val_loss: 8.1099 - val_accuracy: 0.2434\n",
            "Epoch 35/50\n",
            "88/88 [==============================] - 80s 915ms/step - loss: 1.0093 - accuracy: 0.5257 - val_loss: 3.3025 - val_accuracy: 0.2434\n",
            "Epoch 36/50\n",
            "88/88 [==============================] - 81s 916ms/step - loss: 1.0010 - accuracy: 0.5143 - val_loss: 7.1193 - val_accuracy: 0.2434\n",
            "Epoch 37/50\n",
            "88/88 [==============================] - 81s 918ms/step - loss: 1.0234 - accuracy: 0.5371 - val_loss: 12.4477 - val_accuracy: 0.2434\n",
            "Epoch 38/50\n",
            "88/88 [==============================] - 81s 916ms/step - loss: 1.0310 - accuracy: 0.5243 - val_loss: 6.4881 - val_accuracy: 0.2829\n",
            "Epoch 39/50\n",
            "88/88 [==============================] - 81s 916ms/step - loss: 0.9996 - accuracy: 0.5329 - val_loss: 6.5779 - val_accuracy: 0.2434\n",
            "Epoch 40/50\n",
            "88/88 [==============================] - 81s 916ms/step - loss: 0.9907 - accuracy: 0.5343 - val_loss: 10.9799 - val_accuracy: 0.2697\n",
            "Epoch 41/50\n",
            "88/88 [==============================] - 81s 916ms/step - loss: 0.9846 - accuracy: 0.5443 - val_loss: 18.8796 - val_accuracy: 0.2303\n",
            "Epoch 42/50\n",
            "88/88 [==============================] - 81s 917ms/step - loss: 1.0088 - accuracy: 0.5286 - val_loss: 12.9226 - val_accuracy: 0.2434\n",
            "Epoch 43/50\n",
            "88/88 [==============================] - 81s 916ms/step - loss: 0.9846 - accuracy: 0.5357 - val_loss: 16.3525 - val_accuracy: 0.2434\n",
            "Epoch 44/50\n",
            "88/88 [==============================] - 81s 917ms/step - loss: 1.0015 - accuracy: 0.5129 - val_loss: 18.3387 - val_accuracy: 0.2434\n",
            "Epoch 45/50\n",
            "88/88 [==============================] - 81s 917ms/step - loss: 0.9664 - accuracy: 0.5357 - val_loss: 18.7854 - val_accuracy: 0.2434\n",
            "Epoch 46/50\n",
            "88/88 [==============================] - 81s 917ms/step - loss: 0.9854 - accuracy: 0.5400 - val_loss: 3.5110 - val_accuracy: 0.2368\n",
            "Epoch 47/50\n",
            "88/88 [==============================] - 81s 917ms/step - loss: 0.9696 - accuracy: 0.5514 - val_loss: 11.5051 - val_accuracy: 0.2697\n",
            "Epoch 48/50\n",
            "88/88 [==============================] - 81s 917ms/step - loss: 0.9689 - accuracy: 0.5257 - val_loss: 3.3331 - val_accuracy: 0.1842\n",
            "Epoch 49/50\n",
            "88/88 [==============================] - 81s 917ms/step - loss: 0.9837 - accuracy: 0.5457 - val_loss: 26.6453 - val_accuracy: 0.2434\n",
            "Epoch 50/50\n",
            "88/88 [==============================] - 81s 917ms/step - loss: 0.9725 - accuracy: 0.5414 - val_loss: 35.3660 - val_accuracy: 0.2434\n",
            "5/5 [==============================] - 10s 1s/step - loss: 35.5472 - accuracy: 0.2434\n",
            "Test loss: 35.5472297668457\n",
            "Test accuracy: 0.2434210479259491\n"
          ]
        }
      ],
      "source": [
        "# Train the model\n",
        "history = model.fit(x_train, y_train_np, epochs=50, batch_size=batch_size, validation_data=(x_val, y_val_np))\n",
        "\n",
        "# Evaluate the model on test data\n",
        "test_loss, test_acc = model.evaluate(x_test, y_test)\n",
        "print(\"Test loss:\", test_loss)\n",
        "print(\"Test accuracy:\", test_acc)"
      ]
    },
    {
      "cell_type": "code",
      "execution_count": null,
      "metadata": {
        "colab": {
          "base_uri": "https://localhost:8080/"
        },
        "id": "AHtcbzQ4BsQb",
        "outputId": "65092a4c-185d-40f4-8f79-88890ceaa116"
      },
      "outputs": [
        {
          "name": "stderr",
          "output_type": "stream",
          "text": [
            "/usr/local/lib/python3.10/dist-packages/keras/src/engine/training.py:3103: UserWarning: You are saving your model as an HDF5 file via `model.save()`. This file format is considered legacy. We recommend using instead the native Keras format, e.g. `model.save('my_model.keras')`.\n",
            "  saving_api.save_model(\n"
          ]
        }
      ],
      "source": [
        "model.save('/content/drive/MyDrive/save/voice-spoofing-detection-using-wavenet-Multiclass.h5')"
      ]
    },
    {
      "cell_type": "code",
      "execution_count": null,
      "metadata": {
        "colab": {
          "base_uri": "https://localhost:8080/"
        },
        "id": "Ft4senRgMVcZ",
        "outputId": "1483ab1e-53ed-4be7-df9d-16a32eb4fd7c"
      },
      "outputs": [
        {
          "output_type": "stream",
          "name": "stdout",
          "text": [
            "1/1 [==============================] - 1s 917ms/step\n",
            "Predicted Class: real\n"
          ]
        }
      ],
      "source": [
        "import os\n",
        "import librosa\n",
        "import numpy as np\n",
        "from tensorflow.keras.models import load_model\n",
        "\n",
        "# Define the model file path\n",
        "model_path = \"/content/drive/MyDrive/save/voice-spoofing-detection-using-wavenet-Multiclass.h5\"  # Replace with the actual path to your model file\n",
        "\n",
        "# Load the trained WaveNet model\n",
        "model = load_model(model_path)\n",
        "\n",
        "def preprocess_audio(input_audio, target_sr=16000, max_length_sec=3):\n",
        "    # Resample if necessary\n",
        "    if input_audio.shape[0] != target_sr * max_length_sec:\n",
        "        input_audio = librosa.resample(input_audio, orig_sr=len(input_audio), target_sr=target_sr)\n",
        "\n",
        "    # Truncate or pad to maximum length\n",
        "    max_length_samples = target_sr * max_length_sec\n",
        "    if len(input_audio) > max_length_samples:\n",
        "        input_audio = input_audio[:max_length_samples]\n",
        "    elif len(input_audio) < max_length_samples:\n",
        "        input_audio = np.pad(input_audio, (0, max_length_samples - len(input_audio)), mode='constant')\n",
        "\n",
        "    # Check input audio shape\n",
        "    if input_audio.ndim == 1:\n",
        "        # Add channel dimension if it's a single-channel audio\n",
        "        input_audio = np.expand_dims(input_audio, axis=-1)\n",
        "        # Expand the channel dimension to 4\n",
        "        input_audio = np.repeat(input_audio, repeats=4, axis=-1)\n",
        "\n",
        "    return input_audio\n",
        "\n",
        "def predict_single_audio(input_audio_file):\n",
        "    # Load and preprocess the audio file\n",
        "    input_audio, sr = librosa.load(input_audio_file, sr=None)  # Load audio file\n",
        "    input_audio = preprocess_audio(input_audio)  # Preprocess audio using your preprocess_audio function\n",
        "\n",
        "    # Reshape and expand dimensions to match model input shape\n",
        "    input_audio = np.expand_dims(input_audio, axis=0)  # Add batch dimension\n",
        "\n",
        "    # Make predictions on the preprocessed audio\n",
        "    predictions = model.predict(input_audio)\n",
        "\n",
        "    # Convert predictions to class label\n",
        "    predicted_label = np.argmax(predictions, axis=1)[0]\n",
        "\n",
        "    # Interpret the predicted label (e.g., map it to a class name or description)\n",
        "    class_names = ['real', 'converted', 'synthesised', 'replay']  # Replace with your actual class names\n",
        "    predicted_class_name = class_names[predicted_label]\n",
        "\n",
        "    return predicted_class_name\n",
        "\n",
        "# Example usage to predict a single audio file\n",
        "input_audio_file = \"/content/drive/MyDrive/wave_dataset/test/test.flac\"  # Replace with the actual path to your audio file\n",
        "predicted_class = predict_single_audio(input_audio_file)\n",
        "print(\"Predicted Class:\", predicted_class)\n"
      ]
    },
    {
      "cell_type": "code",
      "execution_count": null,
      "metadata": {
        "colab": {
          "base_uri": "https://localhost:8080/",
          "height": 658
        },
        "id": "51YfEjCgaIv_",
        "outputId": "c1e96b72-a509-482e-bb7d-5f6b3d7b3479"
      },
      "outputs": [
        {
          "output_type": "stream",
          "name": "stdout",
          "text": [
            "5/5 [==============================] - 89s 19s/step\n"
          ]
        },
        {
          "output_type": "display_data",
          "data": {
            "text/plain": [
              "<Figure size 1000x700 with 2 Axes>"
            ],
            "image/png": "[encoded data removed]"
          },
          "metadata": {}
        }
      ],
      "source": [
        "from sklearn.metrics import confusion_matrix\n",
        "import seaborn as sns\n",
        "import matplotlib.pyplot as plt\n",
        "\n",
        "# Assuming you have X_eval and y_eval datasets for testing\n",
        "class_labels = ['real', 'synthesised', 'converted','replay']  # Update with your actual class labels\n",
        "# Perform predictions on the evaluation set\n",
        "y_eval_pred = model.predict(x_test)\n",
        "y_eval_pred_classes = np.argmax(y_eval_pred, axis=1)\n",
        "\n",
        "# Calculate confusion matrix\n",
        "cm = confusion_matrix(y_test, y_eval_pred_classes)\n",
        "\n",
        "# Create a heatmap plot\n",
        "plt.figure(figsize=(10, 7))\n",
        "sns.heatmap(cm, annot=True, fmt='d', xticklabels=class_labels, yticklabels=class_labels, cmap='Blues')\n",
        "plt.title('Confusion Matrix')\n",
        "plt.ylabel('Actual Class')\n",
        "plt.xlabel('Predicted Class')\n",
        "\n",
        "# Show the plot\n",
        "plt.show()\n"
      ]
    },
    {
      "cell_type": "code",
      "source": [
        "tr_loss, tr_acc = model.evaluate(x_train, y_train_np)\n",
        "print(\"Test loss:\", tr_loss)\n",
        "print(\"Test accuracy:\", tr_acc)\n",
        "test_loss, test_acc = model.evaluate(x_test, y_test)\n",
        "print(\"Test loss:\", test_loss)\n",
        "print(\"Test accuracy:\", test_acc)"
      ],
      "metadata": {
        "colab": {
          "base_uri": "https://localhost:8080/"
        },
        "id": "xuzm0Rg57Y66",
        "outputId": "f8a8188d-8024-44b2-e277-8bc1f9cb1a5d"
      },
      "execution_count": null,
      "outputs": [
        {
          "output_type": "stream",
          "name": "stdout",
          "text": [
            "22/22 [==============================] - 288s 13s/step - loss: 0.8707 - accuracy: 0.5443\n",
            "Test loss: 0.8706796765327454\n",
            "Test accuracy: 0.5442857146263123\n",
            "5/5 [==============================] - 60s 12s/step - loss: 1.9773 - accuracy: 0.3553\n",
            "Test loss: 1.9772993326187134\n",
            "Test accuracy: 0.3552631437778473\n"
          ]
        }
      ]
    }
  ],
  "metadata": {
    "colab": {
      "provenance": [],
      "gpuType": "T4",
      "include_colab_link": true
    },
    "kernelspec": {
      "display_name": "Python 3",
      "name": "python3"
    },
    "language_info": {
      "name": "python"
    },
    "accelerator": "GPU"
  },
  "nbformat": 4,
  "nbformat_minor": 0
}